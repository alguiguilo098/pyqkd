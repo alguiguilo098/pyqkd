{
 "cells": [
  {
   "cell_type": "code",
   "execution_count": 1,
   "id": "initial_id",
   "metadata": {
    "collapsed": true,
    "ExecuteTime": {
     "end_time": "2023-12-08T07:48:07.833710300Z",
     "start_time": "2023-12-08T07:48:07.059971800Z"
    }
   },
   "source": [
    "from bb84 import cascade_blocks_sizes_old, cascade_blocks_sizes, sum_error_prob_betainc, numerical_error_prob\n",
    "from time import time\n",
    "from numpy import arange"
   ],
   "outputs": []
  },
  {
   "cell_type": "markdown",
   "source": [
    "First let's make sure we're using the regularised incomplete beta function as binomial distribution's CDF correctly:"
   ],
   "metadata": {
    "collapsed": false
   },
   "id": "65bedd17a8406bac"
  },
  {
   "cell_type": "code",
   "execution_count": 2,
   "source": [
    "for size in arange(2, 10, 1):\n",
    "    print(\"------------------------------\")\n",
    "    for n_errors in range(size // 2):\n",
    "        print(\"CDF with beta: {}\".format(\n",
    "            sum_error_prob_betainc(\n",
    "                first_pass_size=size,\n",
    "                qber=0.1,\n",
    "                n_errors=2 * n_errors\n",
    "            )\n",
    "        ))\n",
    "        \n",
    "        prob_sum = 0\n",
    "        for l in list(arange(n_errors + 1, size // 2 + 1, 1)):\n",
    "            prob_sum += numerical_error_prob(n_errors=2 * l, pass_size=size, qber=0.1)\n",
    "        print(\"Original series sum: {}\\n\".format(prob_sum))"
   ],
   "metadata": {
    "collapsed": false,
    "ExecuteTime": {
     "end_time": "2023-12-08T07:48:12.200295500Z",
     "start_time": "2023-12-08T07:48:12.182616400Z"
    }
   },
   "id": "2c166670d4013035",
   "outputs": []
  },
  {
   "cell_type": "markdown",
   "source": [
    "It's not a precise test, but it indicates, that we're going in the right direction. The differences \"are negligible\"."
   ],
   "metadata": {
    "collapsed": false
   },
   "id": "ca71cea9279a8756"
  },
  {
   "cell_type": "raw",
   "source": [
    "Test of new method alone:"
   ],
   "metadata": {
    "collapsed": false
   },
   "id": "c7e7a946c6982f50"
  },
  {
   "cell_type": "code",
   "execution_count": 3,
   "source": [
    "for qber in arange(start=0.01, stop=0.15, step=0.01):\n",
    "    start_new = time()\n",
    "    sizes_new = cascade_blocks_sizes(\n",
    "        quantum_bit_error_rate=qber,\n",
    "        key_length=10000,\n",
    "        n_passes=4\n",
    "    )\n",
    "    end_new = time()\n",
    "    \n",
    "    print(\"For QBER={} new function created a list of sizes={} in time={}\".format(\n",
    "        qber, sizes_new, end_new - start_new \n",
    "    ))"
   ],
   "metadata": {
    "collapsed": false,
    "ExecuteTime": {
     "end_time": "2023-12-08T07:48:22.718243900Z",
     "start_time": "2023-12-08T07:48:22.276671900Z"
    }
   },
   "id": "1d21f6fb5e0f1319",
   "outputs": []
  },
  {
   "cell_type": "raw",
   "source": [
    "Comparisson:"
   ],
   "metadata": {
    "collapsed": false
   },
   "id": "efa1efa8d2de4fba"
  },
  {
   "cell_type": "code",
   "execution_count": 5,
   "source": [
    "for qber in arange(start=0.01, stop=0.15, step=0.01):\n",
    "    start_old = time()\n",
    "    sizes_old = cascade_blocks_sizes_old(\n",
    "        quantum_bit_error_rate=qber,\n",
    "        key_length=10000,\n",
    "        n_passes=4\n",
    "    )\n",
    "    end_old = time()\n",
    "    \n",
    "    print(\"For QBER={} old function created a list of sizes={} in time={}\".format(\n",
    "        qber, sizes_old, end_old - start_old \n",
    "    ))"
   ],
   "metadata": {
    "collapsed": false,
    "ExecuteTime": {
     "end_time": "2023-12-08T07:51:31.690204800Z",
     "start_time": "2023-12-08T07:51:25.555480600Z"
    }
   },
   "id": "b47c0d711928a451",
   "outputs": []
  },
  {
   "cell_type": "markdown",
   "source": [
    "Allright, let's compare for very small QBER:"
   ],
   "metadata": {
    "collapsed": false
   },
   "id": "573da87d1eaed07b"
  },
  {
   "cell_type": "code",
   "execution_count": 6,
   "source": [
    "for qber in arange(start=0.001, stop=0.01, step=0.001):\n",
    "    start_new = time()\n",
    "    sizes_new = cascade_blocks_sizes(\n",
    "        quantum_bit_error_rate=qber,\n",
    "        key_length=10000,\n",
    "        n_passes=4\n",
    "    )\n",
    "    end_new = time()\n",
    "    \n",
    "    print(\"For QBER={} new function created a list of sizes={} in time={}\".format(\n",
    "        qber, sizes_new, end_new - start_new \n",
    "    ))"
   ],
   "metadata": {
    "collapsed": false,
    "ExecuteTime": {
     "end_time": "2023-12-08T07:58:26.460278200Z",
     "start_time": "2023-12-08T07:57:46.575777100Z"
    }
   },
   "id": "b04156b1b4a5af35",
   "outputs": []
  },
  {
   "cell_type": "code",
   "execution_count": 7,
   "source": [
    "for qber in arange(start=0.001, stop=0.01, step=0.001):\n",
    "    start_old = time()\n",
    "    sizes_old = cascade_blocks_sizes_old(\n",
    "        quantum_bit_error_rate=qber,\n",
    "        key_length=10000,\n",
    "        n_passes=4\n",
    "    )\n",
    "    end_old = time()\n",
    "    \n",
    "    print(\"For QBER={} old function created a list of sizes={} in time={}\".format(\n",
    "        qber, sizes_old, end_old - start_old \n",
    "    ))"
   ],
   "metadata": {
    "collapsed": false,
    "ExecuteTime": {
     "end_time": "2023-12-08T08:57:38.615787900Z",
     "start_time": "2023-12-08T08:00:42.261046300Z"
    }
   },
   "id": "afc1045e15413a59",
   "outputs": []
  },
  {
   "cell_type": "code",
   "execution_count": null,
   "source": [],
   "metadata": {
    "collapsed": false
   },
   "id": "dfa4d565d51363fc",
   "outputs": []
  }
 ],
 "metadata": {
  "kernelspec": {
   "display_name": "Python 3",
   "language": "python",
   "name": "python3"
  },
  "language_info": {
   "codemirror_mode": {
    "name": "ipython",
    "version": 2
   },
   "file_extension": ".py",
   "mimetype": "text/x-python",
   "name": "python",
   "nbconvert_exporter": "python",
   "pygments_lexer": "ipython2",
   "version": "2.7.6"
  }
 },
 "nbformat": 4,
 "nbformat_minor": 5
}
