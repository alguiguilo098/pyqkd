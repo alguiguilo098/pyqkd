{
 "cells": [
  {
   "cell_type": "code",
   "execution_count": 3,
   "id": "initial_id",
   "metadata": {
    "collapsed": true,
    "ExecuteTime": {
     "end_time": "2023-12-01T09:00:53.364723400Z",
     "start_time": "2023-12-01T09:00:53.350201800Z"
    }
   },
   "outputs": [],
   "source": [
    "from scipy.stats import binom\n",
    "from scipy.special import betainc\n",
    "import numpy as np\n",
    "import time"
   ]
  },
  {
   "cell_type": "code",
   "execution_count": 4,
   "outputs": [],
   "source": [
    "def numerical_error_prob(n_errors, pass_size, qber):  # probability that 2*n_errors remain\n",
    "    prob = binom.pmf(2 * n_errors, pass_size, qber) + binom.pmf(2 * n_errors + 1, pass_size, qber)\n",
    "    return prob"
   ],
   "metadata": {
    "collapsed": false,
    "ExecuteTime": {
     "end_time": "2023-12-01T09:00:55.469750600Z",
     "start_time": "2023-12-01T09:00:55.464884600Z"
    }
   },
   "id": "2db3c0e0a50eb037"
  },
  {
   "cell_type": "code",
   "execution_count": null,
   "outputs": [],
   "source": [
    "def numerical_error_prob_betainc(n_errors, pass_size, qber): # probability that 2*n_errors remain\n",
    "    prob = "
   ],
   "metadata": {
    "collapsed": false
   },
   "id": "8b6e66e538ed65ee"
  },
  {
   "cell_type": "code",
   "execution_count": 5,
   "outputs": [],
   "source": [
    "size = 5000  # just as a trial"
   ],
   "metadata": {
    "collapsed": false,
    "ExecuteTime": {
     "end_time": "2023-12-01T09:00:58.921141300Z",
     "start_time": "2023-12-01T09:00:58.918133200Z"
    }
   },
   "id": "c3d07c91c9a8bdb3"
  },
  {
   "cell_type": "code",
   "execution_count": 6,
   "outputs": [
    {
     "name": "stdout",
     "output_type": "stream",
     "text": [
      "The sum of prob.: 0.006294694110439792\n",
      "Time needed: 0.008581399917602539\n"
     ]
    }
   ],
   "source": [
    "start = time.time()\n",
    "prob_sum = 0\n",
    "for k in list(np.arange(2, size // 2 + 1, 1)):\n",
    "    prob_sum += numerical_error_prob(n_errors=k, pass_size=size, qber=0.01)\n",
    "end = time.time()\n",
    "\n",
    "print(\"The sum of prob.: {}\\nTime needed: {}\".format(prob_sum, end - start))"
   ],
   "metadata": {
    "collapsed": false,
    "ExecuteTime": {
     "end_time": "2023-12-01T09:01:00.419812300Z",
     "start_time": "2023-12-01T09:01:00.416804400Z"
    }
   },
   "id": "e2f46b8ebc1075fc"
  },
  {
   "cell_type": "code",
   "execution_count": null,
   "outputs": [],
   "source": [],
   "metadata": {
    "collapsed": false
   },
   "id": "ace4509a04033d3b"
  }
 ],
 "metadata": {
  "kernelspec": {
   "display_name": "Python 3",
   "language": "python",
   "name": "python3"
  },
  "language_info": {
   "codemirror_mode": {
    "name": "ipython",
    "version": 2
   },
   "file_extension": ".py",
   "mimetype": "text/x-python",
   "name": "python",
   "nbconvert_exporter": "python",
   "pygments_lexer": "ipython2",
   "version": "2.7.6"
  }
 },
 "nbformat": 4,
 "nbformat_minor": 5
}
