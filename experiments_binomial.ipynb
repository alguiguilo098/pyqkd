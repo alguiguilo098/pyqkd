{
 "cells": [
  {
   "cell_type": "code",
   "execution_count": 27,
   "id": "initial_id",
   "metadata": {
    "collapsed": true,
    "ExecuteTime": {
     "end_time": "2023-12-01T09:19:29.053739400Z",
     "start_time": "2023-12-01T09:19:29.041002600Z"
    }
   },
   "outputs": [],
   "source": [
    "from scipy.stats import binom\n",
    "from scipy.special import betainc\n",
    "import numpy as np\n",
    "import time"
   ]
  },
  {
   "cell_type": "code",
   "execution_count": 28,
   "outputs": [],
   "source": [
    "def numerical_error_prob(n_errors, pass_size, qber):  # probability that 2*n_errors remain\n",
    "    prob = binom.pmf(2 * n_errors, pass_size, qber) + binom.pmf(2 * n_errors + 1, pass_size, qber)\n",
    "    return prob"
   ],
   "metadata": {
    "collapsed": false,
    "ExecuteTime": {
     "end_time": "2023-12-01T09:19:29.480237Z",
     "start_time": "2023-12-01T09:19:29.475234200Z"
    }
   },
   "id": "2db3c0e0a50eb037"
  },
  {
   "cell_type": "code",
   "execution_count": 29,
   "outputs": [],
   "source": [
    "def sum_error_prob_betainc(n_errors, pass_size, qber):  # simplified left side of (2)\n",
    "    prob = betainc(pass_size - 2 * n_errors - 1, 2 * n_errors + 2, 1 - qber)\n",
    "    prob -= float(binom.pmf(0, pass_size, qber) + binom.pmf(1, pass_size, qber))\n",
    "    return prob"
   ],
   "metadata": {
    "collapsed": false,
    "ExecuteTime": {
     "end_time": "2023-12-01T09:19:29.955292500Z",
     "start_time": "2023-12-01T09:19:29.949557600Z"
    }
   },
   "id": "8b6e66e538ed65ee"
  },
  {
   "cell_type": "code",
   "execution_count": 30,
   "outputs": [],
   "source": [
    "size = 10000  # just as a trial"
   ],
   "metadata": {
    "collapsed": false,
    "ExecuteTime": {
     "end_time": "2023-12-01T09:19:30.583268900Z",
     "start_time": "2023-12-01T09:19:30.578746400Z"
    }
   },
   "id": "c3d07c91c9a8bdb3"
  },
  {
   "cell_type": "code",
   "execution_count": 35,
   "outputs": [
    {
     "name": "stdout",
     "output_type": "stream",
     "text": [
      "The sum of prob.: 0.9999999999999997\n",
      "Time needed: 0.6091432571411133\n"
     ]
    }
   ],
   "source": [
    "start = time.time()\n",
    "prob_sum = 0\n",
    "for k in list(np.arange(2, 3000, 1)):\n",
    "    prob_sum += numerical_error_prob(n_errors=k, pass_size=size, qber=0.01)\n",
    "end = time.time()\n",
    "\n",
    "print(\"The sum of prob.: {}\\nTime needed: {}\".format(prob_sum, end - start))"
   ],
   "metadata": {
    "collapsed": false,
    "ExecuteTime": {
     "end_time": "2023-12-01T09:20:27.368588800Z",
     "start_time": "2023-12-01T09:20:26.755419400Z"
    }
   },
   "id": "e2f46b8ebc1075fc"
  },
  {
   "cell_type": "code",
   "execution_count": 36,
   "outputs": [
    {
     "name": "stdout",
     "output_type": "stream",
     "text": [
      "The sum of prob.: 0.9999999999999999\n",
      "Time needed: 0.0\n"
     ]
    }
   ],
   "source": [
    "start = time.time()\n",
    "prob_sum = sum_error_prob_betainc(n_errors=3000, pass_size=size, qber=0.01)\n",
    "end = time.time()\n",
    "\n",
    "print(\"The sum of prob.: {}\\nTime needed: {}\".format(prob_sum, end - start))"
   ],
   "metadata": {
    "collapsed": false,
    "ExecuteTime": {
     "end_time": "2023-12-01T09:20:30.615402200Z",
     "start_time": "2023-12-01T09:20:30.612169300Z"
    }
   },
   "id": "ace4509a04033d3b"
  },
  {
   "cell_type": "code",
   "execution_count": null,
   "outputs": [],
   "source": [],
   "metadata": {
    "collapsed": false
   },
   "id": "69f013061677d568"
  }
 ],
 "metadata": {
  "kernelspec": {
   "display_name": "Python 3",
   "language": "python",
   "name": "python3"
  },
  "language_info": {
   "codemirror_mode": {
    "name": "ipython",
    "version": 2
   },
   "file_extension": ".py",
   "mimetype": "text/x-python",
   "name": "python",
   "nbconvert_exporter": "python",
   "pygments_lexer": "ipython2",
   "version": "2.7.6"
  }
 },
 "nbformat": 4,
 "nbformat_minor": 5
}
