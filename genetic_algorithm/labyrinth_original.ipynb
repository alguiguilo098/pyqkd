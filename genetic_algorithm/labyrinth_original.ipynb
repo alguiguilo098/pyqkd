{
 "cells": [
  {
   "cell_type": "markdown",
   "metadata": {
    "nteract": {
     "transient": {
      "deleting": false
     }
    }
   },
   "source": [
    "W celu wyznaczenia drogi przez labirynt zbudowano algorytm genetyczny z zastosowaniem biblioteki pygad. Do niktórych obliczeń po drodze potrzebna była również biblioteka numpy, natomiast pomiar czasu działania algorytmu był możliwy dzięki bibliotece time."
   ]
  },
  {
   "cell_type": "code",
   "execution_count": 35,
   "metadata": {
    "collapsed": true,
    "execution": {
     "iopub.execute_input": "2022-04-03T20:32:38.534Z",
     "iopub.status.busy": "2022-04-03T20:32:38.530Z",
     "iopub.status.idle": "2022-04-03T20:32:38.541Z",
     "shell.execute_reply": "2022-04-03T20:32:38.635Z"
    },
    "nteract": {
     "transient": {
      "deleting": false
     }
    }
   },
   "outputs": [],
   "source": [
    "import numpy as np\n",
    "import pygad\n",
    "import time"
   ]
  },
  {
   "cell_type": "markdown",
   "metadata": {
    "nteract": {
     "transient": {
      "deleting": false
     }
    }
   },
   "source": [
    "Labirynt zakodowano za pomocą 0 i 1. Zero oznacza pole dozwolone, po którym można się poruszać, natomiast pole czarne oznacza ścianę; na te pola nie wolno wchodzić. Włącznie ze ścianami na granicy labiryntu, ma on wymiary 12x12, zatem współrzędne w python będą numerowane od 0 do 11. Pole startu znajduje się na polu (1,1), a meta na polu (10,10)."
   ]
  },
  {
   "cell_type": "code",
   "execution_count": 36,
   "metadata": {
    "collapsed": true,
    "execution": {
     "iopub.execute_input": "2022-04-03T20:32:38.550Z",
     "iopub.status.busy": "2022-04-03T20:32:38.546Z",
     "iopub.status.idle": "2022-04-03T20:32:38.556Z",
     "shell.execute_reply": "2022-04-03T20:32:38.637Z"
    },
    "nteract": {
     "transient": {
      "deleting": false
     }
    }
   },
   "outputs": [],
   "source": [
    "labyrinth = np.array([\n",
    "            [1, 1, 1, 1, 1, 1, 1, 1, 1, 1, 1, 1],\n",
    "            [1, 0, 0, 0, 1, 0, 0, 0, 1, 0, 0, 1],\n",
    "            [1, 1, 1, 0, 0, 0, 1, 0, 1, 1, 0, 1],\n",
    "            [1, 0, 0, 0, 1, 0, 1, 0, 0, 0, 0, 1],\n",
    "            [1, 0, 1, 0, 1, 1, 0, 0, 1, 1, 0, 1],\n",
    "            [1, 0, 0, 1, 1, 0, 0, 0, 1, 0, 0, 1],\n",
    "            [1, 0, 0, 0, 0, 0, 1, 0, 0, 0, 1, 1],\n",
    "            [1, 0, 1, 0, 0, 1, 1, 0, 1, 0, 0, 1],\n",
    "            [1, 0, 1, 1, 1, 0, 0, 0, 1, 1, 0, 1],\n",
    "            [1, 0, 1, 0, 1, 1, 0, 1, 0, 1, 0, 1],\n",
    "            [1, 0, 1, 0, 0, 0, 0, 0, 0, 0, 0, 1],\n",
    "            [1, 1, 1, 1, 1, 1, 1, 1, 1, 1, 1, 1]\n",
    "        ])"
   ]
  },
  {
   "cell_type": "markdown",
   "metadata": {
    "nteract": {
     "transient": {
      "deleting": false
     }
    }
   },
   "source": [
    "Ruchy przez labirynt zakodowano w następujący sposób:\n",
    "0 - bez ruchu;\n",
    "1 - w lewo;\n",
    "2 - w prawo;\n",
    "3 - w górę;\n",
    "4 - w dół;"
   ]
  },
  {
   "cell_type": "markdown",
   "metadata": {
    "nteract": {
     "transient": {
      "deleting": false
     }
    }
   },
   "source": [
    "Funkcja fitnessu oceniała trasy o długości 30, kodowane za pomocą powyższych genów (0,...,4). Karała za wejście w ścianę oraz stanie w miejscu, dopóki nie dotarto do mety. Ponadto ignorowała ruchy przez ściany. Po dojściu do mety przestawała karać za brak ruchu - zamiast tego nagradzała za pozostanie w mecie. Wartości funkcji fitnessu były ustandaryzowaną sumą z wagami: metryki Manhattan odległości od mety z wagą 2, kar za \"wejścia\" na ściany i powtórzenie pozycji przed osiągnięciem mety z wagami 1 oraz wreszcie bonusu za pozostanie w mecie z wagą 2. Ponieważ maksymalna wartość tej sumy wynosiła 56, to w celu standaryzacji podzielono tę sumę rpzez 56."
   ]
  },
  {
   "cell_type": "code",
   "execution_count": 37,
   "metadata": {
    "collapsed": true,
    "execution": {
     "iopub.execute_input": "2022-04-03T20:32:38.569Z",
     "iopub.status.busy": "2022-04-03T20:32:38.564Z",
     "iopub.status.idle": "2022-04-03T20:32:38.577Z",
     "shell.execute_reply": "2022-04-03T20:32:38.638Z"
    },
    "nteract": {
     "transient": {
      "deleting": false
     }
    }
   },
   "outputs": [],
   "source": [
    "def fitness_fun(route, route_idx=None):\n",
    "\n",
    "    # Zaczynamy w (1, 1)\n",
    "    i, j = 1, 1\n",
    "    position = [0]\n",
    "    is_problem = 0\n",
    "    zero_no = 0\n",
    "    bonus = 0\n",
    "\n",
    "    for move in route:  # Zmieniamy położenie w zależności od wykonanego ruchu\n",
    "\n",
    "        if position[-1] == [10, 10] and move == 0:  # bonus za pozostanie w mecie\n",
    "            bonus += 1\n",
    "            continue\n",
    "\n",
    "        if move == 1:\n",
    "            new_j, new_i = j - 1, i\n",
    "        elif move == 2:\n",
    "            new_j, new_i = j + 1, i\n",
    "        elif move == 3:\n",
    "            new_i, new_j = i - 1, j\n",
    "        elif move == 4:\n",
    "            new_i, new_j = i + 1, j\n",
    "        else:\n",
    "            zero_no += 1\n",
    "            new_i, new_j = i, j\n",
    "\n",
    "        if 0 <= new_i <= 11 and 0 <= new_j <= 11:\n",
    "            if labyrinth[new_i, new_j] == 0:\n",
    "                i, j = new_i, new_j\n",
    "                position.append([i, j])\n",
    "                if position.count([i, j]) > 1:  # kara za powtórzenie pozycji\n",
    "                    is_problem += 1\n",
    "            else:\n",
    "                is_problem += 1.25  # kara za zmarnowanie ruchu na odbicie się od ściany\n",
    "\n",
    "    fitness = ((20 - abs(10 - i) - abs(10 - j)) * 2 - is_problem - zero_no + bonus * 2) / 56\n",
    "\n",
    "    return fitness"
   ]
  },
  {
   "cell_type": "markdown",
   "metadata": {
    "nteract": {
     "transient": {
      "deleting": false
     }
    }
   },
   "source": [
    "Ponieważ koszt obliczeniowy algorytmu genetycznego rośnie rpzede wszysktim z rozmiarem populacji, a nie liczbą generacji, to mimo złożonego problemu nie generowano dużych populacji. Dano za to stosunkowo dużo czasu na wykształcenie się preferowanych chromosomów."
   ]
  },
  {
   "cell_type": "code",
   "execution_count": 38,
   "metadata": {
    "collapsed": true,
    "execution": {
     "iopub.execute_input": "2022-04-03T20:32:38.585Z",
     "iopub.status.busy": "2022-04-03T20:32:38.582Z",
     "iopub.status.idle": "2022-04-03T20:32:38.593Z",
     "shell.execute_reply": "2022-04-03T20:32:38.640Z"
    },
    "nteract": {
     "transient": {
      "deleting": false
     }
    }
   },
   "outputs": [],
   "source": [
    "gene_space = [0, 1, 2, 3, 4]\n",
    "num_generations = 3000\n",
    "sol_per_pop = 500\n",
    "num_parents_mating = 250\n",
    "elite_size = 20\n",
    "num_genes = 30"
   ]
  },
  {
   "cell_type": "code",
   "execution_count": 39,
   "metadata": {
    "collapsed": true,
    "execution": {
     "iopub.execute_input": "2022-04-03T20:32:38.602Z",
     "iopub.status.busy": "2022-04-03T20:32:38.598Z",
     "iopub.status.idle": "2022-04-03T20:32:38.608Z",
     "shell.execute_reply": "2022-04-03T20:32:38.642Z"
    },
    "nteract": {
     "transient": {
      "deleting": false
     }
    }
   },
   "outputs": [],
   "source": [
    "ga_instance = pygad.GA(\n",
    "    gene_space=gene_space,\n",
    "    num_genes=num_genes,\n",
    "    num_generations=num_generations,\n",
    "    num_parents_mating=num_parents_mating,\n",
    "    fitness_func=fitness_fun,\n",
    "    sol_per_pop=sol_per_pop,\n",
    "    keep_parents=elite_size,\n",
    "    parent_selection_type=\"rank\",\n",
    "    mutation_type=\"random\",\n",
    "    mutation_probability=0.25,\n",
    "    stop_criteria=\"reach_1\"\n",
    ")"
   ]
  },
  {
   "cell_type": "markdown",
   "metadata": {
    "nteract": {
     "transient": {
      "deleting": false
     }
    }
   },
   "source": [
    "Algorytm wykonano 10 razy, za każdym razem zapamiętując czas wykonywania, nr generacji najlepszego rozwiązania, wartość funkcji fitnessu tego rozwiązania oraz oczywiście samo to rozwiązanie."
   ]
  },
  {
   "cell_type": "code",
   "execution_count": 40,
   "metadata": {
    "collapsed": true,
    "execution": {
     "iopub.execute_input": "2022-04-03T20:32:38.616Z",
     "iopub.status.busy": "2022-04-03T20:32:38.613Z",
     "iopub.status.idle": "2022-04-03T20:32:38.623Z",
     "shell.execute_reply": "2022-04-03T20:32:38.644Z"
    },
    "nteract": {
     "transient": {
      "deleting": false
     }
    }
   },
   "outputs": [],
   "source": [
    "fitness_list = []\n",
    "times = []\n",
    "output_list = []\n",
    "generations_no = []"
   ]
  },
  {
   "cell_type": "code",
   "execution_count": 41,
   "metadata": {
    "collapsed": true,
    "execution": {
     "iopub.execute_input": "2022-04-03T20:32:38.631Z",
     "iopub.status.busy": "2022-04-03T20:32:38.627Z",
     "iopub.status.idle": "2022-04-03T20:53:22.378Z",
     "shell.execute_reply": "2022-04-03T20:53:22.453Z"
    },
    "nteract": {
     "transient": {
      "deleting": false
     }
    }
   },
   "outputs": [],
   "source": [
    "for i in range(10):\n",
    "    # Zaczynam pomiar czasu\n",
    "    start = time.time()\n",
    "\n",
    "    # uruchomienie algorytmu\n",
    "    ga_instance.run()\n",
    "\n",
    "    # Kończę pomiar czasu\n",
    "    end = time.time()\n",
    "    times.append(end - start)\n",
    "\n",
    "    # Parametry danego najlepszego rozwiązania\n",
    "    solution, solution_fitness, solution_idx = ga_instance.best_solution()\n",
    "    generations_no.append(ga_instance.best_solution_generation)\n",
    "\n",
    "    fitness_list.append(solution_fitness)\n",
    "    output_list.append(solution)"
   ]
  },
  {
   "cell_type": "markdown",
   "metadata": {
    "nteract": {
     "transient": {
      "deleting": false
     }
    }
   },
   "source": [
    "Następnie wypisano historie wyników i średnie z ich parametrów."
   ]
  },
  {
   "cell_type": "code",
   "execution_count": 42,
   "metadata": {
    "collapsed": true,
    "execution": {
     "iopub.execute_input": "2022-04-03T20:53:22.392Z",
     "iopub.status.busy": "2022-04-03T20:53:22.388Z",
     "iopub.status.idle": "2022-04-03T20:53:22.415Z",
     "shell.execute_reply": "2022-04-03T20:53:22.457Z"
    },
    "nteract": {
     "transient": {
      "deleting": false
     }
    }
   },
   "outputs": [
    {
     "name": "stdout",
     "output_type": "stream",
     "text": [
      "Średni czas działania algorytmu genetycznego: 124.35253026485444\n",
      "Średnia wartość funkcji fitnessu najlepszego rozwiązania: 0.8808035714285714\n",
      "Średnia liczba generacji do najlepszego rozwiązania: 674.7\n",
      "Historia wyników :\n",
      "[2. 2. 4. 2. 2. 3. 2. 2. 3. 4. 4. 4. 1. 4. 2. 4. 2. 2. 4. 1. 2. 4. 4. 4.\n",
      " 1. 2. 0. 0. 0. 0.]\n",
      "[2. 2. 4. 2. 2. 3. 3. 2. 2. 4. 4. 4. 1. 4. 2. 4. 2. 2. 4. 2. 2. 4. 4. 4.\n",
      " 0. 2. 0. 0. 0. 0.]\n",
      "[2. 2. 4. 2. 2. 3. 3. 2. 2. 4. 4. 4. 1. 4. 2. 4. 2. 2. 4. 4. 2. 4. 4. 4.\n",
      " 0. 0. 0. 0. 0. 0.]\n",
      "[2. 2. 4. 2. 2. 3. 1. 2. 2. 4. 4. 4. 1. 4. 2. 4. 2. 2. 4. 2. 3. 4. 4. 4.\n",
      " 0. 0. 0. 0. 0. 0.]\n",
      "[2. 2. 4. 2. 2. 3. 3. 2. 2. 4. 4. 4. 1. 4. 2. 4. 2. 2. 4. 2. 2. 4. 4. 4.\n",
      " 0. 0. 0. 0. 0. 0.]\n",
      "[2. 2. 4. 2. 2. 3. 1. 2. 2. 4. 4. 4. 1. 4. 2. 4. 2. 2. 4. 2. 2. 4. 4. 4.\n",
      " 0. 0. 0. 0. 0. 0.]\n",
      "[2. 2. 4. 2. 2. 3. 1. 2. 2. 4. 4. 4. 1. 4. 2. 4. 2. 2. 4. 2. 4. 4. 4. 4.\n",
      " 0. 0. 0. 0. 0. 0.]\n",
      "[2. 2. 4. 2. 2. 3. 1. 2. 2. 4. 4. 4. 1. 4. 2. 4. 2. 2. 4. 4. 2. 4. 4. 4.\n",
      " 0. 0. 0. 0. 0. 0.]\n",
      "[2. 2. 4. 2. 2. 3. 1. 2. 2. 4. 4. 4. 1. 4. 2. 4. 2. 2. 4. 2. 4. 4. 4. 0.\n",
      " 0. 0. 0. 0. 0. 0.]\n",
      "[2. 2. 4. 2. 2. 3. 1. 2. 2. 4. 4. 4. 1. 4. 2. 4. 2. 2. 4. 2. 4. 4. 4. 0.\n",
      " 0. 0. 0. 0. 0. 0.]\n"
     ]
    }
   ],
   "source": [
    "print(\"Średni czas działania algorytmu genetycznego: {}\".format(np.mean(times)))\n",
    "print(\"Średnia wartość funkcji fitnessu najlepszego rozwiązania: {}\".format(np.mean(fitness_list)))\n",
    "print(\"Średnia liczba generacji do najlepszego rozwiązania: {}\".format(np.mean(generations_no)))\n",
    "\n",
    "print(\"Historia wyników :\")\n",
    "for i in range(len(output_list)):\n",
    "    print(output_list[i])"
   ]
  },
  {
   "cell_type": "code",
   "execution_count": 43,
   "metadata": {
    "collapsed": true,
    "execution": {
     "iopub.execute_input": "2022-04-03T20:53:22.425Z",
     "iopub.status.busy": "2022-04-03T20:53:22.422Z",
     "iopub.status.idle": "2022-04-03T20:53:22.446Z",
     "shell.execute_reply": "2022-04-03T20:53:22.459Z"
    },
    "nteract": {
     "transient": {
      "deleting": false
     }
    }
   },
   "outputs": [
    {
     "name": "stdout",
     "output_type": "stream",
     "text": [
      "[2. 2. 4. 2. 2. 3. 2. 2. 3. 4. 4. 4. 1. 4. 2. 4. 2. 2. 4. 1. 2. 4. 4. 4.\n",
      " 1. 2. 0. 0. 0. 0.]\n",
      "############\n",
      "# XX#XXX#  #\n",
      "###XXX#X## #\n",
      "#   # #X   #\n",
      "# # ##XX## #\n",
      "#  ## XX#  #\n",
      "#     #XXX##\n",
      "# #  ## #XX#\n",
      "# ###   ##X#\n",
      "# # ## # #X#\n",
      "# #      XX#\n",
      "############\n",
      "[2. 2. 4. 2. 2. 3. 3. 2. 2. 4. 4. 4. 1. 4. 2. 4. 2. 2. 4. 2. 2. 4. 4. 4.\n",
      " 0. 2. 0. 0. 0. 0.]\n",
      "############\n",
      "# XX#XXX#  #\n",
      "###XXX#X## #\n",
      "#   # #X   #\n",
      "# # ##XX## #\n",
      "#  ## XX#  #\n",
      "#     #XXX##\n",
      "# #  ## #XX#\n",
      "# ###   ##X#\n",
      "# # ## # #X#\n",
      "# #       X#\n",
      "############\n",
      "[2. 2. 4. 2. 2. 3. 3. 2. 2. 4. 4. 4. 1. 4. 2. 4. 2. 2. 4. 4. 2. 4. 4. 4.\n",
      " 0. 0. 0. 0. 0. 0.]\n",
      "############\n",
      "# XX#XXX#  #\n",
      "###XXX#X## #\n",
      "#   # #X   #\n",
      "# # ##XX## #\n",
      "#  ## XX#  #\n",
      "#     #XXX##\n",
      "# #  ## #XX#\n",
      "# ###   ##X#\n",
      "# # ## # #X#\n",
      "# #       X#\n",
      "############\n",
      "[2. 2. 4. 2. 2. 3. 1. 2. 2. 4. 4. 4. 1. 4. 2. 4. 2. 2. 4. 2. 3. 4. 4. 4.\n",
      " 0. 0. 0. 0. 0. 0.]\n",
      "############\n",
      "# XX#XXX#  #\n",
      "###XXX#X## #\n",
      "#   # #X   #\n",
      "# # ##XX## #\n",
      "#  ## XX#  #\n",
      "#     #XXX##\n",
      "# #  ## #XX#\n",
      "# ###   ##X#\n",
      "# # ## # #X#\n",
      "# #       X#\n",
      "############\n",
      "[2. 2. 4. 2. 2. 3. 3. 2. 2. 4. 4. 4. 1. 4. 2. 4. 2. 2. 4. 2. 2. 4. 4. 4.\n",
      " 0. 0. 0. 0. 0. 0.]\n",
      "############\n",
      "# XX#XXX#  #\n",
      "###XXX#X## #\n",
      "#   # #X   #\n",
      "# # ##XX## #\n",
      "#  ## XX#  #\n",
      "#     #XXX##\n",
      "# #  ## #XX#\n",
      "# ###   ##X#\n",
      "# # ## # #X#\n",
      "# #       X#\n",
      "############\n",
      "[2. 2. 4. 2. 2. 3. 1. 2. 2. 4. 4. 4. 1. 4. 2. 4. 2. 2. 4. 2. 2. 4. 4. 4.\n",
      " 0. 0. 0. 0. 0. 0.]\n",
      "############\n",
      "# XX#XXX#  #\n",
      "###XXX#X## #\n",
      "#   # #X   #\n",
      "# # ##XX## #\n",
      "#  ## XX#  #\n",
      "#     #XXX##\n",
      "# #  ## #XX#\n",
      "# ###   ##X#\n",
      "# # ## # #X#\n",
      "# #       X#\n",
      "############\n",
      "[2. 2. 4. 2. 2. 3. 1. 2. 2. 4. 4. 4. 1. 4. 2. 4. 2. 2. 4. 2. 4. 4. 4. 4.\n",
      " 0. 0. 0. 0. 0. 0.]\n",
      "############\n",
      "# XX#XXX#  #\n",
      "###XXX#X## #\n",
      "#   # #X   #\n",
      "# # ##XX## #\n",
      "#  ## XX#  #\n",
      "#     #XXX##\n",
      "# #  ## #XX#\n",
      "# ###   ##X#\n",
      "# # ## # #X#\n",
      "# #       X#\n",
      "############\n",
      "[2. 2. 4. 2. 2. 3. 1. 2. 2. 4. 4. 4. 1. 4. 2. 4. 2. 2. 4. 4. 2. 4. 4. 4.\n",
      " 0. 0. 0. 0. 0. 0.]\n",
      "############\n",
      "# XX#XXX#  #\n",
      "###XXX#X## #\n",
      "#   # #X   #\n",
      "# # ##XX## #\n",
      "#  ## XX#  #\n",
      "#     #XXX##\n",
      "# #  ## #XX#\n",
      "# ###   ##X#\n",
      "# # ## # #X#\n",
      "# #       X#\n",
      "############\n",
      "[2. 2. 4. 2. 2. 3. 1. 2. 2. 4. 4. 4. 1. 4. 2. 4. 2. 2. 4. 2. 4. 4. 4. 0.\n",
      " 0. 0. 0. 0. 0. 0.]\n",
      "############\n",
      "# XX#XXX#  #\n",
      "###XXX#X## #\n",
      "#   # #X   #\n",
      "# # ##XX## #\n",
      "#  ## XX#  #\n",
      "#     #XXX##\n",
      "# #  ## #XX#\n",
      "# ###   ##X#\n",
      "# # ## # #X#\n",
      "# #       X#\n",
      "############\n",
      "[2. 2. 4. 2. 2. 3. 1. 2. 2. 4. 4. 4. 1. 4. 2. 4. 2. 2. 4. 2. 4. 4. 4. 0.\n",
      " 0. 0. 0. 0. 0. 0.]\n",
      "############\n",
      "# XX#XXX#  #\n",
      "###XXX#X## #\n",
      "#   # #X   #\n",
      "# # ##XX## #\n",
      "#  ## XX#  #\n",
      "#     #XXX##\n",
      "# #  ## #XX#\n",
      "# ###   ##X#\n",
      "# # ## # #X#\n",
      "# #       X#\n",
      "############\n"
     ]
    }
   ],
   "source": [
    "for index in range(len(output_list)):\n",
    "    print(output_list[index])\n",
    "\n",
    "    # Zaczynamy w (1, 1)\n",
    "    i, j = 1, 1\n",
    "    position = [0]\n",
    "    lab_with_route = np.array([  # będę nadpisywać każdorazowo pola, na których był ruch\n",
    "            [1, 1, 1, 1, 1, 1, 1, 1, 1, 1, 1, 1],\n",
    "            [1, 0, 0, 0, 1, 0, 0, 0, 1, 0, 0, 1],\n",
    "            [1, 1, 1, 0, 0, 0, 1, 0, 1, 1, 0, 1],\n",
    "            [1, 0, 0, 0, 1, 0, 1, 0, 0, 0, 0, 1],\n",
    "            [1, 0, 1, 0, 1, 1, 0, 0, 1, 1, 0, 1],\n",
    "            [1, 0, 0, 1, 1, 0, 0, 0, 1, 0, 0, 1],\n",
    "            [1, 0, 0, 0, 0, 0, 1, 0, 0, 0, 1, 1],\n",
    "            [1, 0, 1, 0, 0, 1, 1, 0, 1, 0, 0, 1],\n",
    "            [1, 0, 1, 1, 1, 0, 0, 0, 1, 1, 0, 1],\n",
    "            [1, 0, 1, 0, 1, 1, 0, 1, 0, 1, 0, 1],\n",
    "            [1, 0, 1, 0, 0, 0, 0, 0, 0, 0, 0, 1],\n",
    "            [1, 1, 1, 1, 1, 1, 1, 1, 1, 1, 1, 1]\n",
    "        ])\n",
    "\n",
    "    for move in output_list[index]:  # analogicznie do funkcji fitnessu sprawdzamy kolejne położenia\n",
    "        if position[-1] == [10, 10] and move == 0:\n",
    "            continue\n",
    "\n",
    "        if move == 1:\n",
    "            new_j, new_i = j - 1, i\n",
    "        elif move == 2:\n",
    "            new_j, new_i = j + 1, i\n",
    "        elif move == 3:\n",
    "            new_i, new_j = i - 1, j\n",
    "        elif move == 4:\n",
    "            new_i, new_j = i + 1, j\n",
    "        else:\n",
    "            new_i, new_j = i, j\n",
    "\n",
    "        if 0 <= new_i <= 11 and 0 <= new_j <= 11:\n",
    "            if lab_with_route[new_i, new_j] != 1:\n",
    "                i, j = new_i, new_j\n",
    "                position.append([i, j])\n",
    "                lab_with_route[i, j] = 2\n",
    "\n",
    "    for index1 in range(12):\n",
    "        line = \"\"\n",
    "        for index2 in range(12):\n",
    "            if lab_with_route[index1, index2] == 0:\n",
    "                line += ' '\n",
    "            elif lab_with_route[index1, index2] == 1:\n",
    "                line += '#'\n",
    "            else:\n",
    "                line += 'X'\n",
    "        print(line)\n",
    "    \n",
    "    # print(lab_with_route)"
   ]
  }
 ],
 "metadata": {
  "kernel_info": {
   "name": "python3"
  },
  "kernelspec": {
   "display_name": "Python 3 (ipykernel)",
   "language": "python",
   "name": "python3"
  },
  "language_info": {
   "codemirror_mode": {
    "name": "ipython",
    "version": 3
   },
   "file_extension": ".py",
   "mimetype": "text/x-python",
   "name": "python",
   "nbconvert_exporter": "python",
   "pygments_lexer": "ipython3",
   "version": "3.11.1"
  },
  "nteract": {
   "version": "0.28.0"
  }
 },
 "nbformat": 4,
 "nbformat_minor": 1
}
