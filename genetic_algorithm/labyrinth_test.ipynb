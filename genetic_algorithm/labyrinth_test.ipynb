{
 "cells": [
  {
   "cell_type": "code",
   "execution_count": 8,
   "id": "initial_id",
   "metadata": {
    "collapsed": true,
    "ExecuteTime": {
     "end_time": "2023-11-10T09:30:43.902097300Z",
     "start_time": "2023-11-10T09:30:43.899720400Z"
    }
   },
   "outputs": [],
   "source": [
    "import numpy as np\n",
    "import genetic_algorithm"
   ]
  },
  {
   "cell_type": "code",
   "execution_count": 9,
   "outputs": [],
   "source": [
    "labyrinth = np.array([\n",
    "            [1, 1, 1, 1, 1, 1, 1, 1, 1, 1, 1, 1],\n",
    "            [1, 0, 0, 0, 1, 0, 0, 0, 1, 0, 0, 1],\n",
    "            [1, 1, 1, 0, 0, 0, 1, 0, 1, 1, 0, 1],\n",
    "            [1, 0, 0, 0, 1, 0, 1, 0, 0, 0, 0, 1],\n",
    "            [1, 0, 1, 0, 1, 1, 0, 0, 1, 1, 0, 1],\n",
    "            [1, 0, 0, 1, 1, 0, 0, 0, 1, 0, 0, 1],\n",
    "            [1, 0, 0, 0, 0, 0, 1, 0, 0, 0, 1, 1],\n",
    "            [1, 0, 1, 0, 0, 1, 1, 0, 1, 0, 0, 1],\n",
    "            [1, 0, 1, 1, 1, 0, 0, 0, 1, 1, 0, 1],\n",
    "            [1, 0, 1, 0, 1, 1, 0, 1, 0, 1, 0, 1],\n",
    "            [1, 0, 1, 0, 0, 0, 0, 0, 0, 0, 0, 1],\n",
    "            [1, 1, 1, 1, 1, 1, 1, 1, 1, 1, 1, 1]\n",
    "        ])"
   ],
   "metadata": {
    "collapsed": false,
    "ExecuteTime": {
     "end_time": "2023-11-10T09:30:44.696590400Z",
     "start_time": "2023-11-10T09:30:44.689004200Z"
    }
   },
   "id": "a490908c1822f13f"
  },
  {
   "cell_type": "code",
   "execution_count": 10,
   "outputs": [],
   "source": [
    "def fitness_fun(chromosome, route_idx=None):\n",
    "    \n",
    "    route = chromosome.genes\n",
    "\n",
    "    # Zaczynamy w (1, 1)\n",
    "    i, j = 1, 1\n",
    "    position = [0]\n",
    "    is_problem = 0\n",
    "    zero_no = 0\n",
    "    bonus = 0\n",
    "\n",
    "    for move in route:  # Zmieniamy położenie w zależności od wykonanego ruchu\n",
    "\n",
    "        if position[-1] == [10, 10] and move == 0:  # bonus za pozostanie w mecie\n",
    "            bonus += 1\n",
    "            continue\n",
    "\n",
    "        if move == 1:\n",
    "            new_j, new_i = j - 1, i\n",
    "        elif move == 2:\n",
    "            new_j, new_i = j + 1, i\n",
    "        elif move == 3:\n",
    "            new_i, new_j = i - 1, j\n",
    "        elif move == 4:\n",
    "            new_i, new_j = i + 1, j\n",
    "        else:\n",
    "            zero_no += 1\n",
    "            new_i, new_j = i, j\n",
    "\n",
    "        if 0 <= new_i <= 11 and 0 <= new_j <= 11:\n",
    "            if labyrinth[new_i, new_j] == 0:\n",
    "                i, j = new_i, new_j\n",
    "                position.append([i, j])\n",
    "                if position.count([i, j]) > 1:  # kara za powtórzenie pozycji\n",
    "                    is_problem += 1\n",
    "            else:\n",
    "                is_problem += 1.25  # kara za zmarnowanie ruchu na odbicie się od ściany\n",
    "\n",
    "    fitness = ((20 - abs(10 - i) - abs(10 - j)) * 2 - is_problem - zero_no + bonus * 2) / 56\n",
    "\n",
    "    return fitness"
   ],
   "metadata": {
    "collapsed": false,
    "ExecuteTime": {
     "end_time": "2023-11-10T09:30:45.870954200Z",
     "start_time": "2023-11-10T09:30:45.852090300Z"
    }
   },
   "id": "ca357edb80e54e6b"
  },
  {
   "cell_type": "code",
   "execution_count": 11,
   "outputs": [],
   "source": [
    "gene_space = [0, 1, 2, 3, 4]\n",
    "num_generations = 3000\n",
    "sol_per_pop = 500\n",
    "num_parents_mating = 250\n",
    "elite_size = 20\n",
    "num_genes = 30"
   ],
   "metadata": {
    "collapsed": false,
    "ExecuteTime": {
     "end_time": "2023-11-10T09:30:46.997663600Z",
     "start_time": "2023-11-10T09:30:46.997663600Z"
    }
   },
   "id": "65a062fdb23917c9"
  },
  {
   "cell_type": "code",
   "execution_count": 12,
   "outputs": [],
   "source": [
    "def genome_generator(args):\n",
    "    \"\"\"Simple function for generating a given number of randomly sequenced genes\"\"\"\n",
    "    space, amount = args[0], args[1]\n",
    "    genome = random.choices(population=space, k=amount)\n",
    "    return genome"
   ],
   "metadata": {
    "collapsed": false,
    "ExecuteTime": {
     "end_time": "2023-11-10T09:30:47.761103Z",
     "start_time": "2023-11-10T09:30:47.748139200Z"
    }
   },
   "id": "c0799db2cbdcc493"
  },
  {
   "cell_type": "code",
   "execution_count": 13,
   "outputs": [],
   "source": [
    "population = genetic_algorithm.Population(\n",
    "    pop_size=500,\n",
    "    fit_fun=fitness_fun,\n",
    "    genome_generator=genome_generator,\n",
    "    args=[gene_space, num_genes],\n",
    "    elite_size=elite_size,\n",
    "    mutation_prob=0.25\n",
    ")"
   ],
   "metadata": {
    "collapsed": false,
    "ExecuteTime": {
     "end_time": "2023-11-10T09:30:48.898381Z",
     "start_time": "2023-11-10T09:30:48.882126900Z"
    }
   },
   "id": "e704c7b83f8871b3"
  },
  {
   "cell_type": "code",
   "execution_count": 17,
   "outputs": [
    {
     "ename": "KeyError",
     "evalue": "0",
     "output_type": "error",
     "traceback": [
      "\u001B[1;31m---------------------------------------------------------------------------\u001B[0m",
      "\u001B[1;31mKeyError\u001B[0m                                  Traceback (most recent call last)",
      "Cell \u001B[1;32mIn[17], line 7\u001B[0m\n\u001B[0;32m      5\u001B[0m current_solution \u001B[38;5;241m=\u001B[39m population\u001B[38;5;241m.\u001B[39mbest_fit()\n\u001B[0;32m      6\u001B[0m solutions\u001B[38;5;241m.\u001B[39mappend(current_solution)\n\u001B[1;32m----> 7\u001B[0m \u001B[43mpopulation\u001B[49m\u001B[38;5;241;43m.\u001B[39;49m\u001B[43mcreate_new_generation\u001B[49m\u001B[43m(\u001B[49m\u001B[43mselection_operator\u001B[49m\u001B[38;5;241;43m=\u001B[39;49m\u001B[38;5;124;43m'\u001B[39;49m\u001B[38;5;124;43mranking\u001B[39;49m\u001B[38;5;124;43m'\u001B[39;49m\u001B[43m,\u001B[49m\u001B[43m \u001B[49m\u001B[43mcrossover_operator\u001B[49m\u001B[38;5;241;43m=\u001B[39;49m\u001B[38;5;124;43m'\u001B[39;49m\u001B[38;5;124;43muniform\u001B[39;49m\u001B[38;5;124;43m'\u001B[39;49m\u001B[43m)\u001B[49m\n\u001B[0;32m      8\u001B[0m population\u001B[38;5;241m.\u001B[39mmutate()\n",
      "File \u001B[1;32m~\\PycharmProjects\\qkd\\genetic_algorithm\\genetic_algorithm.py:397\u001B[0m, in \u001B[0;36mPopulation.create_new_generation\u001B[1;34m(self, selection_operator, crossover_operator)\u001B[0m\n\u001B[0;32m    392\u001B[0m     \u001B[38;5;28mself\u001B[39m\u001B[38;5;241m.\u001B[39mperform_crossover(\n\u001B[0;32m    393\u001B[0m         crossover_operator\u001B[38;5;241m=\u001B[39msingle_point_crossover,\n\u001B[0;32m    394\u001B[0m         selection_operator_name\u001B[38;5;241m=\u001B[39m\u001B[38;5;124m'\u001B[39m\u001B[38;5;124mranking\u001B[39m\u001B[38;5;124m'\u001B[39m\n\u001B[0;32m    395\u001B[0m     )\n\u001B[0;32m    396\u001B[0m \u001B[38;5;28;01mcase\u001B[39;00m \u001B[38;5;124m'\u001B[39m\u001B[38;5;124muniform\u001B[39m\u001B[38;5;124m'\u001B[39m:\n\u001B[1;32m--> 397\u001B[0m     \u001B[38;5;28;43mself\u001B[39;49m\u001B[38;5;241;43m.\u001B[39;49m\u001B[43mperform_crossover\u001B[49m\u001B[43m(\u001B[49m\n\u001B[0;32m    398\u001B[0m \u001B[43m        \u001B[49m\u001B[43mcrossover_operator\u001B[49m\u001B[38;5;241;43m=\u001B[39;49m\u001B[43muniform_crossover\u001B[49m\u001B[43m,\u001B[49m\n\u001B[0;32m    399\u001B[0m \u001B[43m        \u001B[49m\u001B[43mselection_operator_name\u001B[49m\u001B[38;5;241;43m=\u001B[39;49m\u001B[38;5;124;43m'\u001B[39;49m\u001B[38;5;124;43mranking\u001B[39;49m\u001B[38;5;124;43m'\u001B[39;49m\n\u001B[0;32m    400\u001B[0m \u001B[43m    \u001B[49m\u001B[43m)\u001B[49m\n\u001B[0;32m    401\u001B[0m \u001B[38;5;28;01mcase\u001B[39;00m \u001B[38;5;124m'\u001B[39m\u001B[38;5;124mplco\u001B[39m\u001B[38;5;124m'\u001B[39m:\n\u001B[0;32m    402\u001B[0m     \u001B[38;5;28mself\u001B[39m\u001B[38;5;241m.\u001B[39mperform_crossover(\n\u001B[0;32m    403\u001B[0m         crossover_operator\u001B[38;5;241m=\u001B[39mplco,\n\u001B[0;32m    404\u001B[0m         selection_operator_name\u001B[38;5;241m=\u001B[39m\u001B[38;5;124m'\u001B[39m\u001B[38;5;124mranking\u001B[39m\u001B[38;5;124m'\u001B[39m\n\u001B[0;32m    405\u001B[0m     )\n",
      "File \u001B[1;32m~\\PycharmProjects\\qkd\\genetic_algorithm\\genetic_algorithm.py:362\u001B[0m, in \u001B[0;36mPopulation.perform_crossover\u001B[1;34m(self, crossover_operator, selection_operator_name)\u001B[0m\n\u001B[0;32m    358\u001B[0m list_of_parents_pairs \u001B[38;5;241m=\u001B[39m parents_candidates\u001B[38;5;241m.\u001B[39mget(selection_operator_name)\n\u001B[0;32m    359\u001B[0m \u001B[38;5;28;01mfor\u001B[39;00m parents_pair \u001B[38;5;129;01min\u001B[39;00m list_of_parents_pairs:  \u001B[38;5;66;03m# this loop end way to soon, I think\u001B[39;00m\n\u001B[0;32m    360\u001B[0m     children_candidates\u001B[38;5;241m.\u001B[39mappend(\n\u001B[0;32m    361\u001B[0m         crossover_operator(\n\u001B[1;32m--> 362\u001B[0m             \u001B[43mparents_pair\u001B[49m\u001B[43m[\u001B[49m\u001B[38;5;241;43m0\u001B[39;49m\u001B[43m]\u001B[49m\u001B[38;5;241m.\u001B[39mget(\u001B[38;5;124m'\u001B[39m\u001B[38;5;124mparent1\u001B[39m\u001B[38;5;124m'\u001B[39m),\n\u001B[0;32m    363\u001B[0m             parents_pair[\u001B[38;5;241m0\u001B[39m]\u001B[38;5;241m.\u001B[39mget(\u001B[38;5;124m'\u001B[39m\u001B[38;5;124mparent2\u001B[39m\u001B[38;5;124m'\u001B[39m)\n\u001B[0;32m    364\u001B[0m         )\n\u001B[0;32m    365\u001B[0m     )\n\u001B[0;32m    366\u001B[0m \u001B[38;5;28mself\u001B[39m\u001B[38;5;241m.\u001B[39mcurrent_children\u001B[38;5;241m.\u001B[39mappend(\n\u001B[0;32m    367\u001B[0m     {\n\u001B[0;32m    368\u001B[0m         \u001B[38;5;124m'\u001B[39m\u001B[38;5;124mselection operator\u001B[39m\u001B[38;5;124m'\u001B[39m: parents_candidates\u001B[38;5;241m.\u001B[39mkeys(),\n\u001B[0;32m    369\u001B[0m         \u001B[38;5;124m'\u001B[39m\u001B[38;5;124mchildren\u001B[39m\u001B[38;5;124m'\u001B[39m: children_candidates\n\u001B[0;32m    370\u001B[0m     }\n\u001B[0;32m    371\u001B[0m )\n",
      "\u001B[1;31mKeyError\u001B[0m: 0"
     ]
    }
   ],
   "source": [
    "solutions = []\n",
    "\n",
    "for _ in range(num_generations):\n",
    "    population.evaluate_generation()\n",
    "    current_solution = population.best_fit()\n",
    "    solutions.append(current_solution)\n",
    "    population.create_new_generation(selection_operator='ranking', crossover_operator='uniform')\n",
    "    population.mutate()"
   ],
   "metadata": {
    "collapsed": false,
    "ExecuteTime": {
     "end_time": "2023-11-10T09:39:16.962062800Z",
     "start_time": "2023-11-10T09:39:16.913484300Z"
    }
   },
   "id": "af4b6d00bb248a0a"
  },
  {
   "cell_type": "code",
   "execution_count": null,
   "outputs": [],
   "source": [
    "import random"
   ],
   "metadata": {
    "collapsed": false
   },
   "id": "480c377609780de5"
  },
  {
   "cell_type": "code",
   "execution_count": null,
   "outputs": [],
   "source": [
    "random.sample(range(10), 3)"
   ],
   "metadata": {
    "collapsed": false
   },
   "id": "790ffa768d433c7"
  },
  {
   "cell_type": "code",
   "execution_count": null,
   "outputs": [],
   "source": [],
   "metadata": {
    "collapsed": false
   },
   "id": "2949b3c88181b4ca"
  }
 ],
 "metadata": {
  "kernelspec": {
   "display_name": "Python 3",
   "language": "python",
   "name": "python3"
  },
  "language_info": {
   "codemirror_mode": {
    "name": "ipython",
    "version": 2
   },
   "file_extension": ".py",
   "mimetype": "text/x-python",
   "name": "python",
   "nbconvert_exporter": "python",
   "pygments_lexer": "ipython2",
   "version": "2.7.6"
  }
 },
 "nbformat": 4,
 "nbformat_minor": 5
}
