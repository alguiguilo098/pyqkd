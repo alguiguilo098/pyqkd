{
 "cells": [
  {
   "cell_type": "code",
   "execution_count": 29,
   "id": "initial_id",
   "metadata": {
    "collapsed": true,
    "ExecuteTime": {
     "end_time": "2023-11-10T10:02:19.045411700Z",
     "start_time": "2023-11-10T10:02:19.036942700Z"
    }
   },
   "outputs": [],
   "source": [
    "import numpy as np\n",
    "import genetic_algorithm\n",
    "import random"
   ]
  },
  {
   "cell_type": "code",
   "execution_count": 30,
   "outputs": [],
   "source": [
    "labyrinth = np.array([\n",
    "            [1, 1, 1, 1, 1, 1, 1, 1, 1, 1, 1, 1],\n",
    "            [1, 0, 0, 0, 1, 0, 0, 0, 1, 0, 0, 1],\n",
    "            [1, 1, 1, 0, 0, 0, 1, 0, 1, 1, 0, 1],\n",
    "            [1, 0, 0, 0, 1, 0, 1, 0, 0, 0, 0, 1],\n",
    "            [1, 0, 1, 0, 1, 1, 0, 0, 1, 1, 0, 1],\n",
    "            [1, 0, 0, 1, 1, 0, 0, 0, 1, 0, 0, 1],\n",
    "            [1, 0, 0, 0, 0, 0, 1, 0, 0, 0, 1, 1],\n",
    "            [1, 0, 1, 0, 0, 1, 1, 0, 1, 0, 0, 1],\n",
    "            [1, 0, 1, 1, 1, 0, 0, 0, 1, 1, 0, 1],\n",
    "            [1, 0, 1, 0, 1, 1, 0, 1, 0, 1, 0, 1],\n",
    "            [1, 0, 1, 0, 0, 0, 0, 0, 0, 0, 0, 1],\n",
    "            [1, 1, 1, 1, 1, 1, 1, 1, 1, 1, 1, 1]\n",
    "        ])"
   ],
   "metadata": {
    "collapsed": false,
    "ExecuteTime": {
     "end_time": "2023-11-10T10:02:20.025314200Z",
     "start_time": "2023-11-10T10:02:20.013327500Z"
    }
   },
   "id": "a490908c1822f13f"
  },
  {
   "cell_type": "code",
   "execution_count": 31,
   "outputs": [],
   "source": [
    "def fitness_fun(chromosome, route_idx=None):\n",
    "    \n",
    "    route = chromosome.genes\n",
    "\n",
    "    # Zaczynamy w (1, 1)\n",
    "    i, j = 1, 1\n",
    "    position = [0]\n",
    "    is_problem = 0\n",
    "    zero_no = 0\n",
    "    bonus = 0\n",
    "\n",
    "    for move in route:  # Zmieniamy położenie w zależności od wykonanego ruchu\n",
    "\n",
    "        if position[-1] == [10, 10] and move == 0:  # bonus za pozostanie w mecie\n",
    "            bonus += 1\n",
    "            continue\n",
    "\n",
    "        if move == 1:\n",
    "            new_j, new_i = j - 1, i\n",
    "        elif move == 2:\n",
    "            new_j, new_i = j + 1, i\n",
    "        elif move == 3:\n",
    "            new_i, new_j = i - 1, j\n",
    "        elif move == 4:\n",
    "            new_i, new_j = i + 1, j\n",
    "        else:\n",
    "            zero_no += 1\n",
    "            new_i, new_j = i, j\n",
    "\n",
    "        if 0 <= new_i <= 11 and 0 <= new_j <= 11:\n",
    "            if labyrinth[new_i, new_j] == 0:\n",
    "                i, j = new_i, new_j\n",
    "                position.append([i, j])\n",
    "                if position.count([i, j]) > 1:  # kara za powtórzenie pozycji\n",
    "                    is_problem += 1\n",
    "            else:\n",
    "                is_problem += 1.25  # kara za zmarnowanie ruchu na odbicie się od ściany\n",
    "\n",
    "    fitness = ((20 - abs(10 - i) - abs(10 - j)) * 2 - is_problem - zero_no + bonus * 2) / 56\n",
    "\n",
    "    return fitness"
   ],
   "metadata": {
    "collapsed": false,
    "ExecuteTime": {
     "end_time": "2023-11-10T10:02:21.846274500Z",
     "start_time": "2023-11-10T10:02:21.840022300Z"
    }
   },
   "id": "ca357edb80e54e6b"
  },
  {
   "cell_type": "code",
   "execution_count": 32,
   "outputs": [],
   "source": [
    "gene_space = [0, 1, 2, 3, 4]\n",
    "num_generations = 3000\n",
    "sol_per_pop = 500\n",
    "num_parents_mating = 250\n",
    "elite_size = 20\n",
    "num_genes = 30"
   ],
   "metadata": {
    "collapsed": false,
    "ExecuteTime": {
     "end_time": "2023-11-10T10:02:22.943615700Z",
     "start_time": "2023-11-10T10:02:22.936614700Z"
    }
   },
   "id": "65a062fdb23917c9"
  },
  {
   "cell_type": "code",
   "execution_count": 33,
   "outputs": [],
   "source": [
    "def genome_generator(args):\n",
    "    \"\"\"Simple function for generating a given number of randomly sequenced genes\"\"\"\n",
    "    space, amount = args[0], args[1]\n",
    "    genome = random.choices(population=space, k=amount)\n",
    "    return genome"
   ],
   "metadata": {
    "collapsed": false,
    "ExecuteTime": {
     "end_time": "2023-11-10T10:02:24.229837700Z",
     "start_time": "2023-11-10T10:02:24.199600500Z"
    }
   },
   "id": "c0799db2cbdcc493"
  },
  {
   "cell_type": "code",
   "execution_count": 34,
   "outputs": [],
   "source": [
    "population = genetic_algorithm.Population(\n",
    "    pop_size=500,\n",
    "    fit_fun=fitness_fun,\n",
    "    genome_generator=genome_generator,\n",
    "    args=[gene_space, num_genes],\n",
    "    elite_size=elite_size,\n",
    "    mutation_prob=0.25\n",
    ")"
   ],
   "metadata": {
    "collapsed": false,
    "ExecuteTime": {
     "end_time": "2023-11-10T10:02:25.413382300Z",
     "start_time": "2023-11-10T10:02:25.401924100Z"
    }
   },
   "id": "e704c7b83f8871b3"
  },
  {
   "cell_type": "code",
   "execution_count": 35,
   "outputs": [
    {
     "name": "stdout",
     "output_type": "stream",
     "text": [
      "Generation number: 0\n",
      "Population evaluated\n",
      "Best fit found\n",
      "New generation created\n"
     ]
    },
    {
     "ename": "KeyboardInterrupt",
     "evalue": "",
     "output_type": "error",
     "traceback": [
      "\u001B[1;31m---------------------------------------------------------------------------\u001B[0m",
      "\u001B[1;31mTypeError\u001B[0m                                 Traceback (most recent call last)",
      "    \u001B[1;31m[... skipping hidden 1 frame]\u001B[0m\n",
      "Cell \u001B[1;32mIn[35], line 14\u001B[0m\n\u001B[0;32m     13\u001B[0m \u001B[38;5;28mprint\u001B[39m(\u001B[38;5;124m\"\u001B[39m\u001B[38;5;124mNew generation created\u001B[39m\u001B[38;5;124m\"\u001B[39m)\n\u001B[1;32m---> 14\u001B[0m \u001B[43mpopulation\u001B[49m\u001B[38;5;241;43m.\u001B[39;49m\u001B[43mmutate\u001B[49m\u001B[43m(\u001B[49m\u001B[43m)\u001B[49m\n\u001B[0;32m     15\u001B[0m \u001B[38;5;28mprint\u001B[39m(\u001B[38;5;124m\"\u001B[39m\u001B[38;5;124mNew generation mutated\u001B[39m\u001B[38;5;124m\"\u001B[39m)\n",
      "File \u001B[1;32m~\\PycharmProjects\\qkd\\genetic_algorithm\\genetic_algorithm.py:465\u001B[0m, in \u001B[0;36mPopulation.mutate\u001B[1;34m(self)\u001B[0m\n\u001B[0;32m    463\u001B[0m \u001B[38;5;28;01mfor\u001B[39;00m index \u001B[38;5;129;01min\u001B[39;00m indexes:\n\u001B[0;32m    464\u001B[0m     \u001B[38;5;28mself\u001B[39m\u001B[38;5;241m.\u001B[39mcurrent_generation\u001B[38;5;241m.\u001B[39mmembers[index]\u001B[38;5;241m.\u001B[39mchange_genes(\n\u001B[1;32m--> 465\u001B[0m         \u001B[38;5;28;43mself\u001B[39;49m\u001B[38;5;241;43m.\u001B[39;49m\u001B[43mcurrent_generation\u001B[49m\u001B[38;5;241;43m.\u001B[39;49m\u001B[43mgenome_generator\u001B[49m\u001B[43m(\u001B[49m\u001B[38;5;28;43mself\u001B[39;49m\u001B[38;5;241;43m.\u001B[39;49m\u001B[43mcurrent_generation\u001B[49m\u001B[38;5;241;43m.\u001B[39;49m\u001B[43mgenome_generator_args\u001B[49m\u001B[43m)\u001B[49m\n\u001B[0;32m    466\u001B[0m     )\n",
      "\u001B[1;31mTypeError\u001B[0m: 'NoneType' object is not callable",
      "\nDuring handling of the above exception, another exception occurred:\n",
      "\u001B[1;31mKeyboardInterrupt\u001B[0m                         Traceback (most recent call last)",
      "    \u001B[1;31m[... skipping hidden 1 frame]\u001B[0m\n",
      "File \u001B[1;32m_pydevd_bundle\\pydevd_cython_win32_311_64.pyx:1179\u001B[0m, in \u001B[0;36m_pydevd_bundle.pydevd_cython_win32_311_64.SafeCallWrapper.__call__\u001B[1;34m()\u001B[0m\n",
      "File \u001B[1;32m_pydevd_bundle\\pydevd_cython_win32_311_64.pyx:620\u001B[0m, in \u001B[0;36m_pydevd_bundle.pydevd_cython_win32_311_64.PyDBFrame.trace_dispatch\u001B[1;34m()\u001B[0m\n",
      "File \u001B[1;32m_pydevd_bundle\\pydevd_cython_win32_311_64.pyx:1095\u001B[0m, in \u001B[0;36m_pydevd_bundle.pydevd_cython_win32_311_64.PyDBFrame.trace_dispatch\u001B[1;34m()\u001B[0m\n",
      "File \u001B[1;32m_pydevd_bundle\\pydevd_cython_win32_311_64.pyx:1057\u001B[0m, in \u001B[0;36m_pydevd_bundle.pydevd_cython_win32_311_64.PyDBFrame.trace_dispatch\u001B[1;34m()\u001B[0m\n",
      "File \u001B[1;32m_pydevd_bundle\\pydevd_cython_win32_311_64.pyx:317\u001B[0m, in \u001B[0;36m_pydevd_bundle.pydevd_cython_win32_311_64.PyDBFrame.do_wait_suspend\u001B[1;34m()\u001B[0m\n",
      "File \u001B[1;32mC:\\Program Files\\JetBrains\\PyCharm 2023.2.4\\plugins\\python\\helpers\\pydev\\pydevd.py:1160\u001B[0m, in \u001B[0;36mPyDB.do_wait_suspend\u001B[1;34m(self, thread, frame, event, arg, send_suspend_message, is_unhandled_exception)\u001B[0m\n\u001B[0;32m   1157\u001B[0m         from_this_thread\u001B[38;5;241m.\u001B[39mappend(frame_id)\n\u001B[0;32m   1159\u001B[0m \u001B[38;5;28;01mwith\u001B[39;00m \u001B[38;5;28mself\u001B[39m\u001B[38;5;241m.\u001B[39m_threads_suspended_single_notification\u001B[38;5;241m.\u001B[39mnotify_thread_suspended(thread_id, stop_reason):\n\u001B[1;32m-> 1160\u001B[0m     \u001B[38;5;28;43mself\u001B[39;49m\u001B[38;5;241;43m.\u001B[39;49m\u001B[43m_do_wait_suspend\u001B[49m\u001B[43m(\u001B[49m\u001B[43mthread\u001B[49m\u001B[43m,\u001B[49m\u001B[43m \u001B[49m\u001B[43mframe\u001B[49m\u001B[43m,\u001B[49m\u001B[43m \u001B[49m\u001B[43mevent\u001B[49m\u001B[43m,\u001B[49m\u001B[43m \u001B[49m\u001B[43marg\u001B[49m\u001B[43m,\u001B[49m\u001B[43m \u001B[49m\u001B[43msuspend_type\u001B[49m\u001B[43m,\u001B[49m\u001B[43m \u001B[49m\u001B[43mfrom_this_thread\u001B[49m\u001B[43m)\u001B[49m\n",
      "File \u001B[1;32mC:\\Program Files\\JetBrains\\PyCharm 2023.2.4\\plugins\\python\\helpers\\pydev\\pydevd.py:1175\u001B[0m, in \u001B[0;36mPyDB._do_wait_suspend\u001B[1;34m(self, thread, frame, event, arg, suspend_type, from_this_thread)\u001B[0m\n\u001B[0;32m   1172\u001B[0m             \u001B[38;5;28mself\u001B[39m\u001B[38;5;241m.\u001B[39m_call_mpl_hook()\n\u001B[0;32m   1174\u001B[0m         \u001B[38;5;28mself\u001B[39m\u001B[38;5;241m.\u001B[39mprocess_internal_commands()\n\u001B[1;32m-> 1175\u001B[0m         time\u001B[38;5;241m.\u001B[39msleep(\u001B[38;5;241m0.01\u001B[39m)\n\u001B[0;32m   1177\u001B[0m \u001B[38;5;28mself\u001B[39m\u001B[38;5;241m.\u001B[39mcancel_async_evaluation(get_current_thread_id(thread), \u001B[38;5;28mstr\u001B[39m(\u001B[38;5;28mid\u001B[39m(frame)))\n\u001B[0;32m   1179\u001B[0m \u001B[38;5;66;03m# process any stepping instructions\u001B[39;00m\n",
      "\u001B[1;31mKeyboardInterrupt\u001B[0m: "
     ]
    }
   ],
   "source": [
    "solutions = []\n",
    "index = 0\n",
    "\n",
    "for _ in range(num_generations):\n",
    "    print(\"Generation number: {}\".format(index))\n",
    "    index += 1\n",
    "    population.evaluate_generation()\n",
    "    print(\"Population evaluated\")\n",
    "    current_solution = population.best_fit()\n",
    "    print(\"Best fit found\")\n",
    "    solutions.append(current_solution)\n",
    "    population.create_new_generation(selection_operator='ranking', crossover_operator='uniform')\n",
    "    print(\"New generation created\")\n",
    "    population.mutate()\n",
    "    print(\"New generation mutated\")"
   ],
   "metadata": {
    "collapsed": false,
    "ExecuteTime": {
     "end_time": "2023-11-10T10:12:15.232276Z",
     "start_time": "2023-11-10T10:02:27.466649100Z"
    }
   },
   "id": "af4b6d00bb248a0a"
  },
  {
   "cell_type": "code",
   "execution_count": null,
   "outputs": [],
   "source": [],
   "metadata": {
    "collapsed": false,
    "ExecuteTime": {
     "start_time": "2023-11-10T09:50:13.018904500Z"
    }
   },
   "id": "480c377609780de5"
  },
  {
   "cell_type": "code",
   "execution_count": null,
   "outputs": [],
   "source": [],
   "metadata": {
    "collapsed": false,
    "ExecuteTime": {
     "start_time": "2023-11-10T09:50:13.021973900Z"
    }
   },
   "id": "790ffa768d433c7"
  },
  {
   "cell_type": "code",
   "execution_count": null,
   "outputs": [],
   "source": [],
   "metadata": {
    "collapsed": false,
    "ExecuteTime": {
     "start_time": "2023-11-10T09:50:13.021973900Z"
    }
   },
   "id": "2949b3c88181b4ca"
  }
 ],
 "metadata": {
  "kernelspec": {
   "display_name": "Python 3",
   "language": "python",
   "name": "python3"
  },
  "language_info": {
   "codemirror_mode": {
    "name": "ipython",
    "version": 2
   },
   "file_extension": ".py",
   "mimetype": "text/x-python",
   "name": "python",
   "nbconvert_exporter": "python",
   "pygments_lexer": "ipython2",
   "version": "2.7.6"
  }
 },
 "nbformat": 4,
 "nbformat_minor": 5
}
