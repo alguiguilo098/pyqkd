{
 "cells": [
  {
   "cell_type": "code",
   "execution_count": 1,
   "id": "initial_id",
   "metadata": {
    "collapsed": true,
    "ExecuteTime": {
     "end_time": "2023-11-10T07:06:48.449916Z",
     "start_time": "2023-11-10T07:06:48.310475700Z"
    }
   },
   "outputs": [],
   "source": [
    "import numpy as np\n",
    "import random\n",
    "import genetic_algorithm"
   ]
  },
  {
   "cell_type": "code",
   "execution_count": 2,
   "outputs": [],
   "source": [
    "labyrinth = np.array([\n",
    "            [1, 1, 1, 1, 1, 1, 1, 1, 1, 1, 1, 1],\n",
    "            [1, 0, 0, 0, 1, 0, 0, 0, 1, 0, 0, 1],\n",
    "            [1, 1, 1, 0, 0, 0, 1, 0, 1, 1, 0, 1],\n",
    "            [1, 0, 0, 0, 1, 0, 1, 0, 0, 0, 0, 1],\n",
    "            [1, 0, 1, 0, 1, 1, 0, 0, 1, 1, 0, 1],\n",
    "            [1, 0, 0, 1, 1, 0, 0, 0, 1, 0, 0, 1],\n",
    "            [1, 0, 0, 0, 0, 0, 1, 0, 0, 0, 1, 1],\n",
    "            [1, 0, 1, 0, 0, 1, 1, 0, 1, 0, 0, 1],\n",
    "            [1, 0, 1, 1, 1, 0, 0, 0, 1, 1, 0, 1],\n",
    "            [1, 0, 1, 0, 1, 1, 0, 1, 0, 1, 0, 1],\n",
    "            [1, 0, 1, 0, 0, 0, 0, 0, 0, 0, 0, 1],\n",
    "            [1, 1, 1, 1, 1, 1, 1, 1, 1, 1, 1, 1]\n",
    "        ])"
   ],
   "metadata": {
    "collapsed": false,
    "ExecuteTime": {
     "end_time": "2023-11-10T07:07:09.516511300Z",
     "start_time": "2023-11-10T07:07:09.495499300Z"
    }
   },
   "id": "a490908c1822f13f"
  },
  {
   "cell_type": "code",
   "execution_count": 3,
   "outputs": [],
   "source": [
    "def fitness_fun(chromosome, route_idx=None):\n",
    "    \n",
    "    route = chromosome.genes\n",
    "\n",
    "    # Zaczynamy w (1, 1)\n",
    "    i, j = 1, 1\n",
    "    position = [0]\n",
    "    is_problem = 0\n",
    "    zero_no = 0\n",
    "    bonus = 0\n",
    "\n",
    "    for move in route:  # Zmieniamy położenie w zależności od wykonanego ruchu\n",
    "\n",
    "        if position[-1] == [10, 10] and move == 0:  # bonus za pozostanie w mecie\n",
    "            bonus += 1\n",
    "            continue\n",
    "\n",
    "        if move == 1:\n",
    "            new_j, new_i = j - 1, i\n",
    "        elif move == 2:\n",
    "            new_j, new_i = j + 1, i\n",
    "        elif move == 3:\n",
    "            new_i, new_j = i - 1, j\n",
    "        elif move == 4:\n",
    "            new_i, new_j = i + 1, j\n",
    "        else:\n",
    "            zero_no += 1\n",
    "            new_i, new_j = i, j\n",
    "\n",
    "        if 0 <= new_i <= 11 and 0 <= new_j <= 11:\n",
    "            if labyrinth[new_i, new_j] == 0:\n",
    "                i, j = new_i, new_j\n",
    "                position.append([i, j])\n",
    "                if position.count([i, j]) > 1:  # kara za powtórzenie pozycji\n",
    "                    is_problem += 1\n",
    "            else:\n",
    "                is_problem += 1.25  # kara za zmarnowanie ruchu na odbicie się od ściany\n",
    "\n",
    "    fitness = ((20 - abs(10 - i) - abs(10 - j)) * 2 - is_problem - zero_no + bonus * 2) / 56\n",
    "\n",
    "    return fitness"
   ],
   "metadata": {
    "collapsed": false,
    "ExecuteTime": {
     "end_time": "2023-11-10T07:07:17.278873900Z",
     "start_time": "2023-11-10T07:07:17.224731900Z"
    }
   },
   "id": "ca357edb80e54e6b"
  },
  {
   "cell_type": "code",
   "execution_count": 4,
   "outputs": [],
   "source": [
    "gene_space = [0, 1, 2, 3, 4]\n",
    "num_generations = 3000\n",
    "sol_per_pop = 500\n",
    "num_parents_mating = 250\n",
    "elite_size = 20\n",
    "num_genes = 30"
   ],
   "metadata": {
    "collapsed": false,
    "ExecuteTime": {
     "end_time": "2023-11-10T07:07:18.731505700Z",
     "start_time": "2023-11-10T07:07:18.708467Z"
    }
   },
   "id": "65a062fdb23917c9"
  },
  {
   "cell_type": "code",
   "execution_count": 5,
   "outputs": [],
   "source": [
    "def genome_generator(args):\n",
    "    \"\"\"Simple function for generating a given number of randomly sequenced genes\"\"\"\n",
    "    space, amount = args[0], args[1]\n",
    "    genome = random.choices(population=space, k=amount)\n",
    "    return genome"
   ],
   "metadata": {
    "collapsed": false,
    "ExecuteTime": {
     "end_time": "2023-11-10T07:07:19.327712200Z",
     "start_time": "2023-11-10T07:07:19.303134500Z"
    }
   },
   "id": "c0799db2cbdcc493"
  },
  {
   "cell_type": "code",
   "execution_count": 24,
   "outputs": [
    {
     "ename": "KeyboardInterrupt",
     "evalue": "",
     "output_type": "error",
     "traceback": [
      "\u001B[1;31m---------------------------------------------------------------------------\u001B[0m",
      "\u001B[1;31mKeyboardInterrupt\u001B[0m                         Traceback (most recent call last)",
      "Cell \u001B[1;32mIn[24], line 16\u001B[0m\n\u001B[0;32m     14\u001B[0m current_solution \u001B[38;5;241m=\u001B[39m population\u001B[38;5;241m.\u001B[39mbest_fit()\n\u001B[0;32m     15\u001B[0m solutions\u001B[38;5;241m.\u001B[39mappend(current_solution)\n\u001B[1;32m---> 16\u001B[0m \u001B[43mpopulation\u001B[49m\u001B[38;5;241;43m.\u001B[39;49m\u001B[43mcreate_new_generation\u001B[49m\u001B[43m(\u001B[49m\u001B[43mselection_operator\u001B[49m\u001B[38;5;241;43m=\u001B[39;49m\u001B[38;5;124;43m'\u001B[39;49m\u001B[38;5;124;43mranking\u001B[39;49m\u001B[38;5;124;43m'\u001B[39;49m\u001B[43m,\u001B[49m\u001B[43m \u001B[49m\u001B[43mcrossover_operator\u001B[49m\u001B[38;5;241;43m=\u001B[39;49m\u001B[38;5;124;43m'\u001B[39;49m\u001B[38;5;124;43muniform\u001B[39;49m\u001B[38;5;124;43m'\u001B[39;49m\u001B[43m)\u001B[49m\n\u001B[0;32m     17\u001B[0m population\u001B[38;5;241m.\u001B[39mmutate()\n",
      "File \u001B[1;32m~\\PycharmProjects\\qkd\\genetic_algorithm\\genetic_algorithm.py:385\u001B[0m, in \u001B[0;36mPopulation.create_new_generation\u001B[1;34m(self, selection_operator, crossover_operator)\u001B[0m\n\u001B[0;32m    383\u001B[0m     \u001B[38;5;28mself\u001B[39m\u001B[38;5;241m.\u001B[39mperform_crossover(crossover_operator\u001B[38;5;241m=\u001B[39msingle_point_crossover)\n\u001B[0;32m    384\u001B[0m \u001B[38;5;28;01mcase\u001B[39;00m \u001B[38;5;124m'\u001B[39m\u001B[38;5;124muniform\u001B[39m\u001B[38;5;124m'\u001B[39m:\n\u001B[1;32m--> 385\u001B[0m     \u001B[38;5;28;43mself\u001B[39;49m\u001B[38;5;241;43m.\u001B[39;49m\u001B[43mperform_crossover\u001B[49m\u001B[43m(\u001B[49m\u001B[43mcrossover_operator\u001B[49m\u001B[38;5;241;43m=\u001B[39;49m\u001B[43muniform_crossover\u001B[49m\u001B[43m)\u001B[49m\n\u001B[0;32m    386\u001B[0m \u001B[38;5;28;01mcase\u001B[39;00m \u001B[38;5;124m'\u001B[39m\u001B[38;5;124mplco\u001B[39m\u001B[38;5;124m'\u001B[39m:\n\u001B[0;32m    387\u001B[0m     \u001B[38;5;28mself\u001B[39m\u001B[38;5;241m.\u001B[39mperform_crossover(crossover_operator\u001B[38;5;241m=\u001B[39mplco)\n",
      "File \u001B[1;32m~\\PycharmProjects\\qkd\\genetic_algorithm\\genetic_algorithm.py:356\u001B[0m, in \u001B[0;36mPopulation.perform_crossover\u001B[1;34m(self, crossover_operator)\u001B[0m\n\u001B[0;32m    353\u001B[0m \u001B[38;5;250m\u001B[39m\u001B[38;5;124;03m\"\"\"Let's try passing the selection operator info into the crossover operator, so that instead of forcing\u001B[39;00m\n\u001B[0;32m    354\u001B[0m \u001B[38;5;124;03mtaking a list of dict_values we simply call the value with a key.\"\"\"\u001B[39;00m\n\u001B[0;32m    355\u001B[0m children_candidates \u001B[38;5;241m=\u001B[39m []\n\u001B[1;32m--> 356\u001B[0m \u001B[38;5;28;01mfor\u001B[39;00m parents_candidates \u001B[38;5;129;01min\u001B[39;00m \u001B[38;5;28mself\u001B[39m\u001B[38;5;241m.\u001B[39mcurrent_parents:\n\u001B[0;32m    357\u001B[0m     \u001B[38;5;66;03m# list_of_parents_pairs = list(parents_candidates.values())  # I'm forcing it to be a list object\u001B[39;00m\n\u001B[0;32m    358\u001B[0m     list_of_parents_pairs \u001B[38;5;241m=\u001B[39m parents_candidates\u001B[38;5;241m.\u001B[39mget(selection_operator_name)\n\u001B[0;32m    359\u001B[0m     \u001B[38;5;28;01mfor\u001B[39;00m parents_pair \u001B[38;5;129;01min\u001B[39;00m list_of_parents_pairs:  \u001B[38;5;66;03m# this loop end way to soon, I think\u001B[39;00m\n",
      "File \u001B[1;32m~\\PycharmProjects\\qkd\\genetic_algorithm\\genetic_algorithm.py:356\u001B[0m, in \u001B[0;36mPopulation.perform_crossover\u001B[1;34m(self, crossover_operator)\u001B[0m\n\u001B[0;32m    353\u001B[0m \u001B[38;5;250m\u001B[39m\u001B[38;5;124;03m\"\"\"Let's try passing the selection operator info into the crossover operator, so that instead of forcing\u001B[39;00m\n\u001B[0;32m    354\u001B[0m \u001B[38;5;124;03mtaking a list of dict_values we simply call the value with a key.\"\"\"\u001B[39;00m\n\u001B[0;32m    355\u001B[0m children_candidates \u001B[38;5;241m=\u001B[39m []\n\u001B[1;32m--> 356\u001B[0m \u001B[38;5;28;01mfor\u001B[39;00m parents_candidates \u001B[38;5;129;01min\u001B[39;00m \u001B[38;5;28mself\u001B[39m\u001B[38;5;241m.\u001B[39mcurrent_parents:\n\u001B[0;32m    357\u001B[0m     \u001B[38;5;66;03m# list_of_parents_pairs = list(parents_candidates.values())  # I'm forcing it to be a list object\u001B[39;00m\n\u001B[0;32m    358\u001B[0m     list_of_parents_pairs \u001B[38;5;241m=\u001B[39m parents_candidates\u001B[38;5;241m.\u001B[39mget(selection_operator_name)\n\u001B[0;32m    359\u001B[0m     \u001B[38;5;28;01mfor\u001B[39;00m parents_pair \u001B[38;5;129;01min\u001B[39;00m list_of_parents_pairs:  \u001B[38;5;66;03m# this loop end way to soon, I think\u001B[39;00m\n",
      "File \u001B[1;32m_pydevd_bundle\\pydevd_cython_win32_311_64.pyx:1179\u001B[0m, in \u001B[0;36m_pydevd_bundle.pydevd_cython_win32_311_64.SafeCallWrapper.__call__\u001B[1;34m()\u001B[0m\n",
      "File \u001B[1;32m_pydevd_bundle\\pydevd_cython_win32_311_64.pyx:620\u001B[0m, in \u001B[0;36m_pydevd_bundle.pydevd_cython_win32_311_64.PyDBFrame.trace_dispatch\u001B[1;34m()\u001B[0m\n",
      "File \u001B[1;32m_pydevd_bundle\\pydevd_cython_win32_311_64.pyx:1095\u001B[0m, in \u001B[0;36m_pydevd_bundle.pydevd_cython_win32_311_64.PyDBFrame.trace_dispatch\u001B[1;34m()\u001B[0m\n",
      "File \u001B[1;32m_pydevd_bundle\\pydevd_cython_win32_311_64.pyx:1057\u001B[0m, in \u001B[0;36m_pydevd_bundle.pydevd_cython_win32_311_64.PyDBFrame.trace_dispatch\u001B[1;34m()\u001B[0m\n",
      "File \u001B[1;32m_pydevd_bundle\\pydevd_cython_win32_311_64.pyx:317\u001B[0m, in \u001B[0;36m_pydevd_bundle.pydevd_cython_win32_311_64.PyDBFrame.do_wait_suspend\u001B[1;34m()\u001B[0m\n",
      "File \u001B[1;32mC:\\Program Files\\JetBrains\\PyCharm 2023.2.4\\plugins\\python\\helpers\\pydev\\pydevd.py:1160\u001B[0m, in \u001B[0;36mPyDB.do_wait_suspend\u001B[1;34m(self, thread, frame, event, arg, send_suspend_message, is_unhandled_exception)\u001B[0m\n\u001B[0;32m   1157\u001B[0m         from_this_thread\u001B[38;5;241m.\u001B[39mappend(frame_id)\n\u001B[0;32m   1159\u001B[0m \u001B[38;5;28;01mwith\u001B[39;00m \u001B[38;5;28mself\u001B[39m\u001B[38;5;241m.\u001B[39m_threads_suspended_single_notification\u001B[38;5;241m.\u001B[39mnotify_thread_suspended(thread_id, stop_reason):\n\u001B[1;32m-> 1160\u001B[0m     \u001B[38;5;28;43mself\u001B[39;49m\u001B[38;5;241;43m.\u001B[39;49m\u001B[43m_do_wait_suspend\u001B[49m\u001B[43m(\u001B[49m\u001B[43mthread\u001B[49m\u001B[43m,\u001B[49m\u001B[43m \u001B[49m\u001B[43mframe\u001B[49m\u001B[43m,\u001B[49m\u001B[43m \u001B[49m\u001B[43mevent\u001B[49m\u001B[43m,\u001B[49m\u001B[43m \u001B[49m\u001B[43marg\u001B[49m\u001B[43m,\u001B[49m\u001B[43m \u001B[49m\u001B[43msuspend_type\u001B[49m\u001B[43m,\u001B[49m\u001B[43m \u001B[49m\u001B[43mfrom_this_thread\u001B[49m\u001B[43m)\u001B[49m\n",
      "File \u001B[1;32mC:\\Program Files\\JetBrains\\PyCharm 2023.2.4\\plugins\\python\\helpers\\pydev\\pydevd.py:1175\u001B[0m, in \u001B[0;36mPyDB._do_wait_suspend\u001B[1;34m(self, thread, frame, event, arg, suspend_type, from_this_thread)\u001B[0m\n\u001B[0;32m   1172\u001B[0m             \u001B[38;5;28mself\u001B[39m\u001B[38;5;241m.\u001B[39m_call_mpl_hook()\n\u001B[0;32m   1174\u001B[0m         \u001B[38;5;28mself\u001B[39m\u001B[38;5;241m.\u001B[39mprocess_internal_commands()\n\u001B[1;32m-> 1175\u001B[0m         time\u001B[38;5;241m.\u001B[39msleep(\u001B[38;5;241m0.01\u001B[39m)\n\u001B[0;32m   1177\u001B[0m \u001B[38;5;28mself\u001B[39m\u001B[38;5;241m.\u001B[39mcancel_async_evaluation(get_current_thread_id(thread), \u001B[38;5;28mstr\u001B[39m(\u001B[38;5;28mid\u001B[39m(frame)))\n\u001B[0;32m   1179\u001B[0m \u001B[38;5;66;03m# process any stepping instructions\u001B[39;00m\n",
      "\u001B[1;31mKeyboardInterrupt\u001B[0m: "
     ]
    }
   ],
   "source": [
    "population = genetic_algorithm.Population(\n",
    "    pop_size=500,\n",
    "    fit_fun=fitness_fun,\n",
    "    genome_generator=genome_generator,\n",
    "    args=[gene_space, num_genes],\n",
    "    elite_size=elite_size,\n",
    "    mutation_prob=0.25\n",
    ")\n",
    "\n",
    "solutions = []\n",
    "\n",
    "for _ in range(num_generations):\n",
    "    population.evaluate_generation()\n",
    "    current_solution = population.best_fit()\n",
    "    solutions.append(current_solution)\n",
    "    population.create_new_generation(selection_operator='ranking', crossover_operator='uniform')\n",
    "    population.mutate()"
   ],
   "metadata": {
    "collapsed": false,
    "ExecuteTime": {
     "end_time": "2023-11-10T09:19:03.650764700Z",
     "start_time": "2023-11-10T09:18:09.913313500Z"
    }
   },
   "id": "af4b6d00bb248a0a"
  },
  {
   "cell_type": "code",
   "execution_count": 8,
   "outputs": [],
   "source": [
    "import random"
   ],
   "metadata": {
    "collapsed": false,
    "ExecuteTime": {
     "end_time": "2023-11-10T07:09:24.812357100Z",
     "start_time": "2023-11-10T07:09:24.779092900Z"
    }
   },
   "id": "480c377609780de5"
  },
  {
   "cell_type": "code",
   "execution_count": 13,
   "outputs": [
    {
     "data": {
      "text/plain": "[4, 6, 9]"
     },
     "execution_count": 13,
     "metadata": {},
     "output_type": "execute_result"
    }
   ],
   "source": [
    "random.sample(range(10), 3)"
   ],
   "metadata": {
    "collapsed": false,
    "ExecuteTime": {
     "end_time": "2023-11-10T07:10:03.915916900Z",
     "start_time": "2023-11-10T07:10:03.898516400Z"
    }
   },
   "id": "790ffa768d433c7"
  },
  {
   "cell_type": "code",
   "execution_count": null,
   "outputs": [],
   "source": [],
   "metadata": {
    "collapsed": false,
    "ExecuteTime": {
     "end_time": "2023-09-13T18:59:59.163306400Z",
     "start_time": "2023-09-13T18:59:59.163306400Z"
    }
   },
   "id": "2949b3c88181b4ca"
  }
 ],
 "metadata": {
  "kernelspec": {
   "display_name": "Python 3",
   "language": "python",
   "name": "python3"
  },
  "language_info": {
   "codemirror_mode": {
    "name": "ipython",
    "version": 2
   },
   "file_extension": ".py",
   "mimetype": "text/x-python",
   "name": "python",
   "nbconvert_exporter": "python",
   "pygments_lexer": "ipython2",
   "version": "2.7.6"
  }
 },
 "nbformat": 4,
 "nbformat_minor": 5
}
