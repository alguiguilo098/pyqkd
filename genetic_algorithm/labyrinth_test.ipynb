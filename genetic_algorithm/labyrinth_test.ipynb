{
 "cells": [
  {
   "cell_type": "code",
   "execution_count": 1,
   "id": "initial_id",
   "metadata": {
    "collapsed": true,
    "ExecuteTime": {
     "end_time": "2024-01-15T09:42:17.783754900Z",
     "start_time": "2024-01-15T09:42:16.640230600Z"
    }
   },
   "outputs": [],
   "source": [
    "import numpy as np\n",
    "import genetic_algorithm\n",
    "import random"
   ]
  },
  {
   "cell_type": "code",
   "execution_count": 2,
   "outputs": [],
   "source": [
    "labyrinth = np.array([\n",
    "            [1, 1, 1, 1, 1, 1, 1, 1, 1, 1, 1, 1],\n",
    "            [1, 0, 0, 0, 1, 0, 0, 0, 1, 0, 0, 1],\n",
    "            [1, 1, 1, 0, 0, 0, 1, 0, 1, 1, 0, 1],\n",
    "            [1, 0, 0, 0, 1, 0, 1, 0, 0, 0, 0, 1],\n",
    "            [1, 0, 1, 0, 1, 1, 0, 0, 1, 1, 0, 1],\n",
    "            [1, 0, 0, 1, 1, 0, 0, 0, 1, 0, 0, 1],\n",
    "            [1, 0, 0, 0, 0, 0, 1, 0, 0, 0, 1, 1],\n",
    "            [1, 0, 1, 0, 0, 1, 1, 0, 1, 0, 0, 1],\n",
    "            [1, 0, 1, 1, 1, 0, 0, 0, 1, 1, 0, 1],\n",
    "            [1, 0, 1, 0, 1, 1, 0, 1, 0, 1, 0, 1],\n",
    "            [1, 0, 1, 0, 0, 0, 0, 0, 0, 0, 0, 1],\n",
    "            [1, 1, 1, 1, 1, 1, 1, 1, 1, 1, 1, 1]\n",
    "        ])"
   ],
   "metadata": {
    "collapsed": false,
    "ExecuteTime": {
     "end_time": "2024-01-15T09:42:19.878430900Z",
     "start_time": "2024-01-15T09:42:19.859109800Z"
    }
   },
   "id": "a490908c1822f13f"
  },
  {
   "cell_type": "code",
   "execution_count": 3,
   "outputs": [],
   "source": [
    "def fitness_fun(chromosome, route_idx=None):\n",
    "    \n",
    "    route = chromosome.genes\n",
    "\n",
    "    # Zaczynamy w (1, 1)\n",
    "    i, j = 1, 1\n",
    "    position = [0]\n",
    "    is_problem = 0\n",
    "    zero_no = 0\n",
    "    bonus = 0\n",
    "\n",
    "    for move in route:  # Zmieniamy położenie w zależności od wykonanego ruchu\n",
    "\n",
    "        if position[-1] == [10, 10] and move == 0:  # bonus za pozostanie w mecie\n",
    "            bonus += 1\n",
    "            continue\n",
    "\n",
    "        if move == 1:\n",
    "            new_j, new_i = j - 1, i\n",
    "        elif move == 2:\n",
    "            new_j, new_i = j + 1, i\n",
    "        elif move == 3:\n",
    "            new_i, new_j = i - 1, j\n",
    "        elif move == 4:\n",
    "            new_i, new_j = i + 1, j\n",
    "        else:\n",
    "            zero_no += 1\n",
    "            new_i, new_j = i, j\n",
    "\n",
    "        if 0 <= new_i <= 11 and 0 <= new_j <= 11:\n",
    "            if labyrinth[new_i, new_j] == 0:\n",
    "                i, j = new_i, new_j\n",
    "                position.append([i, j])\n",
    "                if position.count([i, j]) > 1:  # kara za powtórzenie pozycji\n",
    "                    is_problem += 1\n",
    "            else:\n",
    "                is_problem += 1.25  # kara za zmarnowanie ruchu na odbicie się od ściany\n",
    "\n",
    "    fitness = ((20 - abs(10 - i) - abs(10 - j)) * 2 - is_problem - zero_no + bonus * 2) / 56\n",
    "\n",
    "    return fitness"
   ],
   "metadata": {
    "collapsed": false,
    "ExecuteTime": {
     "end_time": "2024-01-15T09:42:21.076354700Z",
     "start_time": "2024-01-15T09:42:21.063328100Z"
    }
   },
   "id": "ca357edb80e54e6b"
  },
  {
   "cell_type": "code",
   "execution_count": 4,
   "outputs": [],
   "source": [
    "gene_space = [0, 1, 2, 3, 4]\n",
    "num_generations = 3000\n",
    "pop_size = 1000\n",
    "elite_size = 2\n",
    "num_parents_mating = (pop_size - elite_size) // 2\n",
    "num_genes = 30"
   ],
   "metadata": {
    "collapsed": false,
    "ExecuteTime": {
     "end_time": "2024-01-15T09:42:21.964785500Z",
     "start_time": "2024-01-15T09:42:21.946499400Z"
    }
   },
   "id": "65a062fdb23917c9"
  },
  {
   "cell_type": "code",
   "execution_count": 5,
   "outputs": [],
   "source": [
    "def genome_generator(args):\n",
    "    \"\"\"Simple function for generating a given number of randomly sequenced genes\"\"\"\n",
    "    space, amount = args[0], args[1]\n",
    "    genome = random.choices(population=space, k=amount)\n",
    "    return genome"
   ],
   "metadata": {
    "collapsed": false,
    "ExecuteTime": {
     "end_time": "2024-01-15T09:42:22.765120700Z",
     "start_time": "2024-01-15T09:42:22.743689100Z"
    }
   },
   "id": "c0799db2cbdcc493"
  },
  {
   "cell_type": "code",
   "execution_count": 6,
   "outputs": [
    {
     "ename": "TypeError",
     "evalue": "Generation.__init__() missing 1 required positional argument: 'fitness_function'",
     "output_type": "error",
     "traceback": [
      "\u001B[1;31m---------------------------------------------------------------------------\u001B[0m",
      "\u001B[1;31mTypeError\u001B[0m                                 Traceback (most recent call last)",
      "Cell \u001B[1;32mIn[6], line 1\u001B[0m\n\u001B[1;32m----> 1\u001B[0m population \u001B[38;5;241m=\u001B[39m \u001B[43mgenetic_algorithm\u001B[49m\u001B[38;5;241;43m.\u001B[39;49m\u001B[43mPopulation\u001B[49m\u001B[43m(\u001B[49m\n\u001B[0;32m      2\u001B[0m \u001B[43m    \u001B[49m\u001B[43mpop_size\u001B[49m\u001B[38;5;241;43m=\u001B[39;49m\u001B[43mpop_size\u001B[49m\u001B[43m,\u001B[49m\n\u001B[0;32m      3\u001B[0m \u001B[43m    \u001B[49m\u001B[43mfit_fun\u001B[49m\u001B[38;5;241;43m=\u001B[39;49m\u001B[43mfitness_fun\u001B[49m\u001B[43m,\u001B[49m\n\u001B[0;32m      4\u001B[0m \u001B[43m    \u001B[49m\u001B[43mgenome_generator\u001B[49m\u001B[38;5;241;43m=\u001B[39;49m\u001B[43mgenome_generator\u001B[49m\u001B[43m,\u001B[49m\n\u001B[0;32m      5\u001B[0m \u001B[43m    \u001B[49m\u001B[43margs\u001B[49m\u001B[38;5;241;43m=\u001B[39;49m\u001B[43m{\u001B[49m\n\u001B[0;32m      6\u001B[0m \u001B[43m        \u001B[49m\u001B[38;5;124;43m'\u001B[39;49m\u001B[38;5;124;43mgenome\u001B[39;49m\u001B[38;5;124;43m'\u001B[39;49m\u001B[43m:\u001B[49m\u001B[43m \u001B[49m\u001B[43m(\u001B[49m\u001B[43mgene_space\u001B[49m\u001B[43m,\u001B[49m\u001B[43m \u001B[49m\u001B[43mnum_genes\u001B[49m\u001B[43m)\u001B[49m\u001B[43m,\u001B[49m\n\u001B[0;32m      7\u001B[0m \u001B[43m        \u001B[49m\u001B[38;5;124;43m'\u001B[39;49m\u001B[38;5;124;43mcrossover\u001B[39;49m\u001B[38;5;124;43m'\u001B[39;49m\u001B[43m:\u001B[49m\u001B[43m \u001B[49m\u001B[38;5;28;43;01mNone\u001B[39;49;00m\u001B[43m,\u001B[49m\n\u001B[0;32m      8\u001B[0m \u001B[43m        \u001B[49m\u001B[38;5;124;43m'\u001B[39;49m\u001B[38;5;124;43mselection\u001B[39;49m\u001B[38;5;124;43m'\u001B[39;49m\u001B[43m:\u001B[49m\u001B[43m \u001B[49m\u001B[38;5;28;43;01mNone\u001B[39;49;00m\n\u001B[0;32m      9\u001B[0m \u001B[43m    \u001B[49m\u001B[43m}\u001B[49m\u001B[43m,\u001B[49m\n\u001B[0;32m     10\u001B[0m \u001B[43m    \u001B[49m\u001B[43melite_size\u001B[49m\u001B[38;5;241;43m=\u001B[39;49m\u001B[43melite_size\u001B[49m\u001B[43m,\u001B[49m\n\u001B[0;32m     11\u001B[0m \u001B[43m    \u001B[49m\u001B[43mmutation_prob\u001B[49m\u001B[38;5;241;43m=\u001B[39;49m\u001B[38;5;241;43m0.1\u001B[39;49m\n\u001B[0;32m     12\u001B[0m \u001B[43m)\u001B[49m\n",
      "File \u001B[1;32m~\\PycharmProjects\\qkd\\genetic_algorithm\\genetic_algorithm.py:142\u001B[0m, in \u001B[0;36mPopulation.__init__\u001B[1;34m(self, pop_size, fit_fun, genome_generator, elite_size, args, mutation_prob, seed)\u001B[0m\n\u001B[0;32m    139\u001B[0m \u001B[38;5;28mself\u001B[39m\u001B[38;5;241m.\u001B[39mcrossover_args \u001B[38;5;241m=\u001B[39m args\u001B[38;5;241m.\u001B[39mget(\u001B[38;5;124m'\u001B[39m\u001B[38;5;124mcrossover\u001B[39m\u001B[38;5;124m'\u001B[39m)\n\u001B[0;32m    141\u001B[0m \u001B[38;5;250m\u001B[39m\u001B[38;5;124;03m\"\"\"Creating the first - initial - generation in this population and lists to handle future generations\"\"\"\u001B[39;00m\n\u001B[1;32m--> 142\u001B[0m \u001B[38;5;28mself\u001B[39m\u001B[38;5;241m.\u001B[39mcurrent_generation \u001B[38;5;241m=\u001B[39m \u001B[43mGeneration\u001B[49m\u001B[43m(\u001B[49m\n\u001B[0;32m    143\u001B[0m \u001B[43m    \u001B[49m\u001B[43msize\u001B[49m\u001B[38;5;241;43m=\u001B[39;49m\u001B[43mpop_size\u001B[49m\u001B[43m,\u001B[49m\n\u001B[0;32m    144\u001B[0m \u001B[43m    \u001B[49m\u001B[43mgenome_generator\u001B[49m\u001B[38;5;241;43m=\u001B[39;49m\u001B[43mgenome_generator\u001B[49m\u001B[43m,\u001B[49m\n\u001B[0;32m    145\u001B[0m \u001B[43m    \u001B[49m\u001B[43mgenome_args\u001B[49m\u001B[38;5;241;43m=\u001B[39;49m\u001B[38;5;28;43mself\u001B[39;49m\u001B[38;5;241;43m.\u001B[39;49m\u001B[43mgenome_generator_args\u001B[49m\n\u001B[0;32m    146\u001B[0m \u001B[43m\u001B[49m\u001B[43m)\u001B[49m\n\u001B[0;32m    147\u001B[0m \u001B[38;5;28mself\u001B[39m\u001B[38;5;241m.\u001B[39mgenerations \u001B[38;5;241m=\u001B[39m [\u001B[38;5;28mself\u001B[39m\u001B[38;5;241m.\u001B[39mcurrent_generation]\n\u001B[0;32m    148\u001B[0m \u001B[38;5;28mself\u001B[39m\u001B[38;5;241m.\u001B[39mcurrent_parents \u001B[38;5;241m=\u001B[39m []\n",
      "\u001B[1;31mTypeError\u001B[0m: Generation.__init__() missing 1 required positional argument: 'fitness_function'"
     ]
    }
   ],
   "source": [
    "population = genetic_algorithm.Population(\n",
    "    pop_size=pop_size,\n",
    "    fit_fun=fitness_fun,\n",
    "    genome_generator=genome_generator,\n",
    "    args={\n",
    "        'genome': (gene_space, num_genes),\n",
    "        'crossover': None,\n",
    "        'selection': None\n",
    "    },\n",
    "    elite_size=elite_size,\n",
    "    mutation_prob=0.1\n",
    ")"
   ],
   "metadata": {
    "collapsed": false,
    "ExecuteTime": {
     "end_time": "2024-01-15T09:42:24.387320200Z",
     "start_time": "2024-01-15T09:42:23.552041300Z"
    }
   },
   "id": "e704c7b83f8871b3"
  },
  {
   "cell_type": "code",
   "execution_count": 7,
   "outputs": [
    {
     "name": "stdout",
     "output_type": "stream",
     "text": [
      "Generation number: 0\n",
      "Population evaluated\n",
      "Best fit found\n",
      "yes\n"
     ]
    },
    {
     "ename": "IndexError",
     "evalue": "list index out of range",
     "output_type": "error",
     "traceback": [
      "\u001B[1;31m---------------------------------------------------------------------------\u001B[0m",
      "\u001B[1;31mIndexError\u001B[0m                                Traceback (most recent call last)",
      "Cell \u001B[1;32mIn[7], line 12\u001B[0m\n\u001B[0;32m     10\u001B[0m \u001B[38;5;28mprint\u001B[39m(\u001B[38;5;124m\"\u001B[39m\u001B[38;5;124mBest fit found\u001B[39m\u001B[38;5;124m\"\u001B[39m)\n\u001B[0;32m     11\u001B[0m solutions\u001B[38;5;241m.\u001B[39mappend(current_solution)\n\u001B[1;32m---> 12\u001B[0m \u001B[43mpopulation\u001B[49m\u001B[38;5;241;43m.\u001B[39;49m\u001B[43mcreate_new_generation\u001B[49m\u001B[43m(\u001B[49m\n\u001B[0;32m     13\u001B[0m \u001B[43m    \u001B[49m\u001B[43mselection_operator\u001B[49m\u001B[38;5;241;43m=\u001B[39;49m\u001B[38;5;124;43m'\u001B[39;49m\u001B[38;5;124;43msus\u001B[39;49m\u001B[38;5;124;43m'\u001B[39;49m\u001B[43m,\u001B[49m\u001B[43m \u001B[49m\n\u001B[0;32m     14\u001B[0m \u001B[43m    \u001B[49m\u001B[43mcrossover_operator\u001B[49m\u001B[38;5;241;43m=\u001B[39;49m\u001B[38;5;124;43m'\u001B[39;49m\u001B[38;5;124;43muniform\u001B[39;49m\u001B[38;5;124;43m'\u001B[39;49m\n\u001B[0;32m     15\u001B[0m \u001B[43m\u001B[49m\u001B[43m)\u001B[49m\n\u001B[0;32m     16\u001B[0m \u001B[38;5;28mprint\u001B[39m(\u001B[38;5;124m\"\u001B[39m\u001B[38;5;124mNew generation created\u001B[39m\u001B[38;5;124m\"\u001B[39m)\n\u001B[0;32m     17\u001B[0m population\u001B[38;5;241m.\u001B[39mmutate()\n",
      "File \u001B[1;32m~\\PycharmProjects\\qkd\\qkd\\genetic_algorithm\\genetic_algorithm.py:362\u001B[0m, in \u001B[0;36mPopulation.create_new_generation\u001B[1;34m(self, selection_operator, crossover_operator)\u001B[0m\n\u001B[0;32m    357\u001B[0m             \u001B[38;5;28mself\u001B[39m\u001B[38;5;241m.\u001B[39mperform_crossover(\n\u001B[0;32m    358\u001B[0m                 crossover_operator\u001B[38;5;241m=\u001B[39mplco,\n\u001B[0;32m    359\u001B[0m                 selection_operator_name\u001B[38;5;241m=\u001B[39m\u001B[38;5;124m'\u001B[39m\u001B[38;5;124mroulette wheel\u001B[39m\u001B[38;5;124m'\u001B[39m\n\u001B[0;32m    360\u001B[0m             )\n\u001B[0;32m    361\u001B[0m \u001B[38;5;28;01mcase\u001B[39;00m \u001B[38;5;124m'\u001B[39m\u001B[38;5;124msus\u001B[39m\u001B[38;5;124m'\u001B[39m:  \u001B[38;5;66;03m# abbreviation for stochastic universal sampling\u001B[39;00m\n\u001B[1;32m--> 362\u001B[0m     \u001B[38;5;28;43mself\u001B[39;49m\u001B[38;5;241;43m.\u001B[39;49m\u001B[43mstochastic_universal_sampling\u001B[49m\u001B[43m(\u001B[49m\u001B[43m)\u001B[49m\n\u001B[0;32m    363\u001B[0m     \u001B[38;5;28;01mmatch\u001B[39;00m crossover_operator:\n\u001B[0;32m    364\u001B[0m         \u001B[38;5;28;01mcase\u001B[39;00m \u001B[38;5;124m'\u001B[39m\u001B[38;5;124msingle point\u001B[39m\u001B[38;5;124m'\u001B[39m:\n",
      "File \u001B[1;32m~\\PycharmProjects\\qkd\\qkd\\genetic_algorithm\\genetic_algorithm.py:269\u001B[0m, in \u001B[0;36mPopulation.stochastic_universal_sampling\u001B[1;34m(self)\u001B[0m\n\u001B[0;32m    260\u001B[0m \u001B[38;5;250m\u001B[39m\u001B[38;5;124;03m\"\"\"Because I decided to not only preserve the elite, but also perform crossover on it, I'll disregard\u001B[39;00m\n\u001B[0;32m    261\u001B[0m \u001B[38;5;124;03ma part of current generation's members with worst fitness, so that the size os population is constant.\u001B[39;00m\n\u001B[0;32m    262\u001B[0m \n\u001B[1;32m   (...)\u001B[0m\n\u001B[0;32m    266\u001B[0m \u001B[38;5;124;03mloop limit to preserve the right size of generation - for when the elite will be copied directly\u001B[39;00m\n\u001B[0;32m    267\u001B[0m \u001B[38;5;124;03minto children's list:\"\"\"\u001B[39;00m\n\u001B[0;32m    268\u001B[0m \u001B[38;5;28;01mwhile\u001B[39;00m member_counter \u001B[38;5;241m<\u001B[39m \u001B[38;5;28mself\u001B[39m\u001B[38;5;241m.\u001B[39mcurrent_generation\u001B[38;5;241m.\u001B[39msize \u001B[38;5;241m-\u001B[39m \u001B[38;5;28mself\u001B[39m\u001B[38;5;241m.\u001B[39melite_size:\n\u001B[1;32m--> 269\u001B[0m     \u001B[38;5;28;01mwhile\u001B[39;00m random_value \u001B[38;5;241m<\u001B[39m\u001B[38;5;241m=\u001B[39m \u001B[43mcumulative_prob_distribution\u001B[49m\u001B[43m[\u001B[49m\u001B[43mindex\u001B[49m\u001B[43m]\u001B[49m:\n\u001B[0;32m    270\u001B[0m \u001B[38;5;250m        \u001B[39m\u001B[38;5;124;03m\"\"\"We keep assigning given member as a new parent until the condition is met. This way we reflect\u001B[39;00m\n\u001B[0;32m    271\u001B[0m \u001B[38;5;124;03m        the probability of it's selection.\"\"\"\u001B[39;00m\n\u001B[0;32m    272\u001B[0m         new_parent \u001B[38;5;241m=\u001B[39m \u001B[38;5;28mself\u001B[39m\u001B[38;5;241m.\u001B[39mcurrent_generation\u001B[38;5;241m.\u001B[39mmembers[\u001B[38;5;28mself\u001B[39m\u001B[38;5;241m.\u001B[39mcurrent_fitness_ranking[index]\u001B[38;5;241m.\u001B[39mget(\u001B[38;5;124m'\u001B[39m\u001B[38;5;124mindex\u001B[39m\u001B[38;5;124m'\u001B[39m)]\n",
      "\u001B[1;31mIndexError\u001B[0m: list index out of range"
     ]
    }
   ],
   "source": [
    "solutions = []\n",
    "index = 0\n",
    "\n",
    "for _ in range(num_generations):\n",
    "    print(\"Generation number: {}\".format(index))\n",
    "    index += 1\n",
    "    population.evaluate_generation()\n",
    "    print(\"Population evaluated\")\n",
    "    current_solution = population.best_fit()\n",
    "    print(\"Best fit found\")\n",
    "    solutions.append(current_solution)\n",
    "    population.create_new_generation(\n",
    "        selection_operator='sus', \n",
    "        crossover_operator='uniform'\n",
    "    )\n",
    "    print(\"New generation created\")\n",
    "    population.mutate()\n",
    "    print(\"New generation mutated\")\n",
    "    \n",
    "    population.reset_parents()\n",
    "    population.reset_children()"
   ],
   "metadata": {
    "collapsed": false,
    "ExecuteTime": {
     "end_time": "2023-12-08T10:50:59.398893800Z",
     "start_time": "2023-12-08T10:50:59.071806200Z"
    }
   },
   "id": "af4b6d00bb248a0a"
  },
  {
   "cell_type": "code",
   "execution_count": 8,
   "outputs": [
    {
     "name": "stdout",
     "output_type": "stream",
     "text": [
      "[[2, 3, 1, 2, 4, 2, 4, 1, 1, 4, 3, 2, 2, 2, 3, 2, 2, 4, 4, 2, 2, 4, 1, 2, 3, 1, 2, 2, 4, 2], 0.21428571428571427]\n"
     ]
    }
   ],
   "source": [
    "print(solutions[-1])"
   ],
   "metadata": {
    "collapsed": false,
    "ExecuteTime": {
     "end_time": "2023-12-08T10:26:58.631947500Z",
     "start_time": "2023-12-08T10:26:58.624264700Z"
    }
   },
   "id": "480c377609780de5"
  },
  {
   "cell_type": "code",
   "execution_count": 9,
   "outputs": [
    {
     "data": {
      "text/plain": "<Figure size 640x480 with 1 Axes>",
      "image/png": "[encoded data removed]"
     },
     "metadata": {},
     "output_type": "display_data"
    }
   ],
   "source": [
    "population.fitness_plot()"
   ],
   "metadata": {
    "collapsed": false,
    "ExecuteTime": {
     "end_time": "2023-12-08T10:26:58.853347400Z",
     "start_time": "2023-12-08T10:26:58.631947500Z"
    }
   },
   "id": "790ffa768d433c7"
  },
  {
   "cell_type": "code",
   "execution_count": 9,
   "outputs": [],
   "source": [],
   "metadata": {
    "collapsed": false,
    "ExecuteTime": {
     "end_time": "2023-12-08T10:26:58.853347400Z",
     "start_time": "2023-12-08T10:26:58.848612800Z"
    }
   },
   "id": "2949b3c88181b4ca"
  }
 ],
 "metadata": {
  "kernelspec": {
   "display_name": "Python 3",
   "language": "python",
   "name": "python3"
  },
  "language_info": {
   "codemirror_mode": {
    "name": "ipython",
    "version": 2
   },
   "file_extension": ".py",
   "mimetype": "text/x-python",
   "name": "python",
   "nbconvert_exporter": "python",
   "pygments_lexer": "ipython2",
   "version": "2.7.6"
  }
 },
 "nbformat": 4,
 "nbformat_minor": 5
}
