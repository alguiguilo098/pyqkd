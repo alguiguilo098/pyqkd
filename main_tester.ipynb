{
 "cells": [
  {
   "cell_type": "code",
   "execution_count": 3,
   "id": "initial_id",
   "metadata": {
    "collapsed": true,
    "ExecuteTime": {
     "end_time": "2023-12-13T10:59:37.913225600Z",
     "start_time": "2023-12-13T10:59:36.176143800Z"
    }
   },
   "outputs": [],
   "source": [
    "from simulator.bb84 import simulation_bb84\n",
    "from tqdm import tqdm\n",
    "from numpy import arange"
   ]
  },
  {
   "cell_type": "code",
   "execution_count": 5,
   "outputs": [
    {
     "name": "stderr",
     "output_type": "stream",
     "text": [
      " 20%|██        | 3/15 [00:04<00:16,  1.39s/it]"
     ]
    },
    {
     "name": "stdout",
     "output_type": "stream",
     "text": [
      "[[34, 68, 136, 272], 10000, 1.0, 0.04, 0.02421858955928862, 3961, 0.2548363208770752, 0.5, 0.2, 4, 'AttributeError for binary_previous']\n"
     ]
    },
    {
     "name": "stderr",
     "output_type": "stream",
     "text": [
      "\n"
     ]
    },
    {
     "ename": "NameError",
     "evalue": "name 'exit' is not defined",
     "output_type": "error",
     "traceback": [
      "\u001B[1;31m---------------------------------------------------------------------------\u001B[0m",
      "\u001B[1;31mAttributeError\u001B[0m                            Traceback (most recent call last)",
      "File \u001B[1;32m~\\PycharmProjects\\qkd\\simulator\\bb84.py:696\u001B[0m, in \u001B[0;36msimulation_bb84\u001B[1;34m(gain, alice_basis_length, rectilinear_basis_prob, disturbance_probability, publication_probability_rectilinear, publication_probability_diagonal, cascade_n_passes, error_estimation)\u001B[0m\n\u001B[0;32m    692\u001B[0m     indexes \u001B[38;5;241m=\u001B[39m ast\u001B[38;5;241m.\u001B[39mliteral_eval(history[n_pass][\u001B[38;5;241m1\u001B[39m][n_block])\n\u001B[0;32m    693\u001B[0m     binary_previous \u001B[38;5;241m=\u001B[39m binary(\n\u001B[0;32m    694\u001B[0m         sender_block\u001B[38;5;241m=\u001B[39mhistory[n_pass][\u001B[38;5;241m0\u001B[39m][n_block],\n\u001B[0;32m    695\u001B[0m         receiver_block\u001B[38;5;241m=\u001B[39mhistory[n_pass][\u001B[38;5;241m1\u001B[39m][n_block],\n\u001B[1;32m--> 696\u001B[0m         indexes\u001B[38;5;241m=\u001B[39m\u001B[43mindexes\u001B[49m\u001B[38;5;241;43m.\u001B[39;49m\u001B[43mkeys\u001B[49m()\n\u001B[0;32m    697\u001B[0m     )\n\u001B[0;32m    698\u001B[0m \u001B[38;5;28;01melif\u001B[39;00m \u001B[38;5;28mtype\u001B[39m(history[n_pass][\u001B[38;5;241m1\u001B[39m][n_block]) \u001B[38;5;241m==\u001B[39m \u001B[38;5;28mdict\u001B[39m:\n",
      "\u001B[1;31mAttributeError\u001B[0m: 'int' object has no attribute 'keys'",
      "\nDuring handling of the above exception, another exception occurred:\n",
      "\u001B[1;31mNameError\u001B[0m                                 Traceback (most recent call last)",
      "Cell \u001B[1;32mIn[5], line 3\u001B[0m\n\u001B[0;32m      1\u001B[0m results_list \u001B[38;5;241m=\u001B[39m []\n\u001B[0;32m      2\u001B[0m \u001B[38;5;28;01mfor\u001B[39;00m qber \u001B[38;5;129;01min\u001B[39;00m tqdm(arange(start\u001B[38;5;241m=\u001B[39m\u001B[38;5;241m0.01\u001B[39m, stop\u001B[38;5;241m=\u001B[39m\u001B[38;5;241m0.16\u001B[39m, step \u001B[38;5;241m=\u001B[39m \u001B[38;5;241m0.01\u001B[39m)):\n\u001B[1;32m----> 3\u001B[0m     simulation_results \u001B[38;5;241m=\u001B[39m \u001B[43msimulation_bb84\u001B[49m\u001B[43m(\u001B[49m\n\u001B[0;32m      4\u001B[0m \u001B[43m        \u001B[49m\u001B[43malice_basis_length\u001B[49m\u001B[38;5;241;43m=\u001B[39;49m\u001B[38;5;241;43m10000\u001B[39;49m\u001B[43m,\u001B[49m\n\u001B[0;32m      5\u001B[0m \u001B[43m        \u001B[49m\u001B[43mdisturbance_probability\u001B[49m\u001B[38;5;241;43m=\u001B[39;49m\u001B[43mqber\u001B[49m\u001B[43m,\u001B[49m\n\u001B[0;32m      6\u001B[0m \u001B[43m        \u001B[49m\u001B[43mcascade_n_passes\u001B[49m\u001B[38;5;241;43m=\u001B[39;49m\u001B[38;5;241;43m4\u001B[39;49m\n\u001B[0;32m      7\u001B[0m \u001B[43m    \u001B[49m\u001B[43m)\u001B[49m\n\u001B[0;32m      8\u001B[0m     results_list\u001B[38;5;241m.\u001B[39mappend(simulation_results)\n\u001B[0;32m      9\u001B[0m     \u001B[38;5;66;03m# How long will it take to perform this simple test?\u001B[39;00m\n\u001B[0;32m     10\u001B[0m     \u001B[38;5;66;03m# TODO: handling of no error estimation (like in the '93 paper)\u001B[39;00m\n",
      "File \u001B[1;32m~\\PycharmProjects\\qkd\\simulator\\bb84.py:721\u001B[0m, in \u001B[0;36msimulation_bb84\u001B[1;34m(gain, alice_basis_length, rectilinear_basis_prob, disturbance_probability, publication_probability_rectilinear, publication_probability_diagonal, cascade_n_passes, error_estimation)\u001B[0m\n\u001B[0;32m    713\u001B[0m     file\u001B[38;5;241m.\u001B[39mwrite(\u001B[38;5;124m'\u001B[39m\u001B[38;5;130;01m\\n\u001B[39;00m\u001B[38;5;124m'\u001B[39m \u001B[38;5;241m+\u001B[39m \u001B[38;5;124m'\u001B[39m\u001B[38;5;124mtype of history: \u001B[39m\u001B[38;5;124m'\u001B[39m \u001B[38;5;241m+\u001B[39m \u001B[38;5;28mstr\u001B[39m(\u001B[38;5;28mtype\u001B[39m(history)) \u001B[38;5;241m+\u001B[39m \u001B[38;5;124m'\u001B[39m\u001B[38;5;130;01m\\n\u001B[39;00m\u001B[38;5;124m'\u001B[39m \u001B[38;5;241m+\u001B[39m \u001B[38;5;124m'\u001B[39m\u001B[38;5;124mtype of \u001B[39m\u001B[38;5;124m'\u001B[39m\n\u001B[0;32m    714\u001B[0m                                                                         \u001B[38;5;124m'\u001B[39m\u001B[38;5;124mhistory[\u001B[39m\u001B[38;5;124m'\u001B[39m\n\u001B[0;32m    715\u001B[0m                                                                         \u001B[38;5;124m'\u001B[39m\u001B[38;5;124mn_pass]: \u001B[39m\u001B[38;5;124m'\u001B[39m \u001B[38;5;241m+\u001B[39m\n\u001B[1;32m   (...)\u001B[0m\n\u001B[0;32m    718\u001B[0m                                                       \u001B[38;5;124m'\u001B[39m\u001B[38;5;124mn_block]: \u001B[39m\u001B[38;5;124m'\u001B[39m \u001B[38;5;241m+\u001B[39m\n\u001B[0;32m    719\u001B[0m                \u001B[38;5;28mstr\u001B[39m(\u001B[38;5;28mtype\u001B[39m(history[n_pass][\u001B[38;5;241m1\u001B[39m][n_block])) \u001B[38;5;241m+\u001B[39m \u001B[38;5;124m'\u001B[39m\u001B[38;5;130;01m\\n\u001B[39;00m\u001B[38;5;124m'\u001B[39m \u001B[38;5;241m+\u001B[39m \u001B[38;5;28mstr\u001B[39m(history) \u001B[38;5;241m+\u001B[39m \u001B[38;5;124m'\u001B[39m\u001B[38;5;130;01m\\n\u001B[39;00m\u001B[38;5;124m'\u001B[39m)\n\u001B[0;32m    720\u001B[0m     file\u001B[38;5;241m.\u001B[39mclose()\n\u001B[1;32m--> 721\u001B[0m     \u001B[43mexit\u001B[49m()\n\u001B[0;32m    723\u001B[0m exchanged_bits_counter \u001B[38;5;241m+\u001B[39m\u001B[38;5;241m=\u001B[39m binary_previous[\u001B[38;5;241m2\u001B[39m]\n\u001B[0;32m    724\u001B[0m bob_cascade[binary_previous[\u001B[38;5;241m1\u001B[39m]] \u001B[38;5;241m=\u001B[39m binary_previous[\u001B[38;5;241m0\u001B[39m]\n",
      "\u001B[1;31mNameError\u001B[0m: name 'exit' is not defined"
     ]
    }
   ],
   "source": [
    "results_list = []\n",
    "for qber in tqdm(arange(start=0.01, stop=0.16, step = 0.01)):\n",
    "    simulation_results = simulation_bb84(\n",
    "        alice_basis_length=10000,\n",
    "        disturbance_probability=qber,\n",
    "        cascade_n_passes=4\n",
    "    )\n",
    "    results_list.append(simulation_results)\n",
    "    # How long will it take to perform this simple test?\n",
    "    # TODO: handling of no error estimation (like in the '93 paper)"
   ],
   "metadata": {
    "collapsed": false,
    "ExecuteTime": {
     "end_time": "2023-12-13T11:04:08.733343100Z",
     "start_time": "2023-12-13T11:04:03.719088400Z"
    }
   },
   "id": "4dc02d2c49aba028"
  },
  {
   "cell_type": "code",
   "execution_count": null,
   "outputs": [],
   "source": [],
   "metadata": {
    "collapsed": false
   },
   "id": "86bfed1f168d5e9c"
  }
 ],
 "metadata": {
  "kernelspec": {
   "display_name": "Python 3",
   "language": "python",
   "name": "python3"
  },
  "language_info": {
   "codemirror_mode": {
    "name": "ipython",
    "version": 2
   },
   "file_extension": ".py",
   "mimetype": "text/x-python",
   "name": "python",
   "nbconvert_exporter": "python",
   "pygments_lexer": "ipython2",
   "version": "2.7.6"
  }
 },
 "nbformat": 4,
 "nbformat_minor": 5
}
