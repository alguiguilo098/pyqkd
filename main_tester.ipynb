{
 "cells": [
  {
   "cell_type": "code",
   "execution_count": 1,
   "id": "initial_id",
   "metadata": {
    "collapsed": true,
    "ExecuteTime": {
     "end_time": "2023-12-14T13:26:04.673795Z",
     "start_time": "2023-12-14T13:26:03.851874100Z"
    }
   },
   "outputs": [],
   "source": [
    "from simulator.bb84 import simulation_bb84\n",
    "from tqdm import tqdm\n",
    "from numpy import arange"
   ]
  },
  {
   "cell_type": "code",
   "execution_count": 2,
   "outputs": [
    {
     "name": "stderr",
     "output_type": "stream",
     "text": [
      "100%|██████████| 15/15 [00:00<00:00, 17.39it/s]\n"
     ]
    }
   ],
   "source": [
    "results_list = []\n",
    "for qber in tqdm(arange(start=0.01, stop=0.16, step = 0.01)):\n",
    "    simulation_results = simulation_bb84(\n",
    "        alice_basis_length=500,\n",
    "        disturbance_probability=qber,\n",
    "        cascade_n_passes=4\n",
    "    )\n",
    "    results_list.append(simulation_results)\n",
    "    # How long will it take to perform this simple test?"
   ],
   "metadata": {
    "collapsed": false,
    "ExecuteTime": {
     "end_time": "2023-12-14T13:26:07.236316100Z",
     "start_time": "2023-12-14T13:26:06.344906100Z"
    }
   },
   "id": "4dc02d2c49aba028"
  },
  {
   "cell_type": "code",
   "execution_count": 3,
   "outputs": [
    {
     "name": "stdout",
     "output_type": "stream",
     "text": [
      "\n",
      "New instance of 161 key found.\n",
      "['161', '46', '7', '132', '171', '92']\n",
      "['161', '46', '7', '132', '171', '92']\n",
      "\n",
      "New instance of 161 key found.\n",
      "['84', '45', '75', '60', '152', '172', '161', '164', '148', '109', '86', '203']\n",
      "['84', '45', '75', '60', '152', '172', '161', '164', '148', '109', '86', '203']\n",
      "\n",
      "New instance of 161 key found.\n",
      "['66', '146', '34', '15', '193', '11', '173', '170', '108', '44', '59', '148', '102', '107', '140', '178', '71', '50', '0', '134', '196', '190', '161', '131']\n",
      "['66', '146', '34', '15', '193', '11', '173', '170', '108', '44', '59', '148', '102', '107', '140', '178', '71', '50', '0', '134', '196', '190', '161', '131']\n",
      "\n",
      "New instance of 161 key found.\n",
      "['154', '204', '42', '4', '188', '46', '48', '55', '50', '58', '63', '10', '113', '140', '20', '51', '111', '93', '44', '183', '75', '96', '161', '117', '26', '202', '163', '91', '53', '54', '116', '29', '103', '118', '166', '156', '170', '88', '43', '187', '79', '143', '160', '123', '39', '152', '150', '83']\n",
      "['154', '204', '42', '4', '188', '46', '48', '55', '50', '58', '63', '10', '113', '140', '20', '51', '111', '93', '44', '183', '75', '96', '161', '117', '26', '202', '163', '91', '53', '54', '116', '29', '103', '118', '166', '156', '170', '88', '43', '187', '79', '143', '160', '123', '39', '152', '150', '83']\n"
     ]
    }
   ],
   "source": [
    "for block_set in results_list[-1].get('cascade history'):\n",
    "    alice_blocks = block_set.get('Alice blocks')\n",
    "    bob_blocks = block_set.get('Bob blocks')\n",
    "    for i in range(len(bob_blocks)):\n",
    "        alice_keys = list(alice_blocks[i].keys())\n",
    "        bob_keys = list(bob_blocks[i].keys())\n",
    "        if '161' in bob_keys:\n",
    "            print(\"\\nNew instance of 161 key found.\")\n",
    "            print(alice_keys)\n",
    "            print(bob_keys)"
   ],
   "metadata": {
    "collapsed": false,
    "ExecuteTime": {
     "end_time": "2023-12-14T13:26:13.538949800Z",
     "start_time": "2023-12-14T13:26:13.525003500Z"
    }
   },
   "id": "9efc2acb6d4e67f"
  },
  {
   "cell_type": "code",
   "execution_count": null,
   "outputs": [],
   "source": [],
   "metadata": {
    "collapsed": false
   },
   "id": "a638a6917f583eb6"
  }
 ],
 "metadata": {
  "kernelspec": {
   "display_name": "Python 3",
   "language": "python",
   "name": "python3"
  },
  "language_info": {
   "codemirror_mode": {
    "name": "ipython",
    "version": 2
   },
   "file_extension": ".py",
   "mimetype": "text/x-python",
   "name": "python",
   "nbconvert_exporter": "python",
   "pygments_lexer": "ipython2",
   "version": "2.7.6"
  }
 },
 "nbformat": 4,
 "nbformat_minor": 5
}
