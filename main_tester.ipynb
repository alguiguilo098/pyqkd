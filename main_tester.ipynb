{
 "cells": [
  {
   "cell_type": "code",
   "execution_count": 1,
   "id": "initial_id",
   "metadata": {
    "collapsed": true,
    "ExecuteTime": {
     "end_time": "2023-12-13T14:18:58.517981500Z",
     "start_time": "2023-12-13T14:18:55.695598100Z"
    }
   },
   "outputs": [],
   "source": [
    "from simulator.bb84 import simulation_bb84\n",
    "from tqdm import tqdm\n",
    "from numpy import arange"
   ]
  },
  {
   "cell_type": "code",
   "execution_count": 3,
   "outputs": [
    {
     "name": "stderr",
     "output_type": "stream",
     "text": [
      "  7%|▋         | 1/15 [01:57<27:29, 117.83s/it]\n"
     ]
    },
    {
     "ename": "KeyboardInterrupt",
     "evalue": "",
     "output_type": "error",
     "traceback": [
      "\u001B[1;31m---------------------------------------------------------------------------\u001B[0m",
      "\u001B[1;31mKeyboardInterrupt\u001B[0m                         Traceback (most recent call last)",
      "Cell \u001B[1;32mIn[3], line 3\u001B[0m\n\u001B[0;32m      1\u001B[0m results_list \u001B[38;5;241m=\u001B[39m []\n\u001B[0;32m      2\u001B[0m \u001B[38;5;28;01mfor\u001B[39;00m qber \u001B[38;5;129;01min\u001B[39;00m tqdm(arange(start\u001B[38;5;241m=\u001B[39m\u001B[38;5;241m0.01\u001B[39m, stop\u001B[38;5;241m=\u001B[39m\u001B[38;5;241m0.16\u001B[39m, step \u001B[38;5;241m=\u001B[39m \u001B[38;5;241m0.01\u001B[39m)):\n\u001B[1;32m----> 3\u001B[0m     simulation_results \u001B[38;5;241m=\u001B[39m \u001B[43msimulation_bb84\u001B[49m\u001B[43m(\u001B[49m\n\u001B[0;32m      4\u001B[0m \u001B[43m        \u001B[49m\u001B[43malice_basis_length\u001B[49m\u001B[38;5;241;43m=\u001B[39;49m\u001B[38;5;241;43m10000\u001B[39;49m\u001B[43m,\u001B[49m\n\u001B[0;32m      5\u001B[0m \u001B[43m        \u001B[49m\u001B[43mdisturbance_probability\u001B[49m\u001B[38;5;241;43m=\u001B[39;49m\u001B[43mqber\u001B[49m\u001B[43m,\u001B[49m\n\u001B[0;32m      6\u001B[0m \u001B[43m        \u001B[49m\u001B[43mcascade_n_passes\u001B[49m\u001B[38;5;241;43m=\u001B[39;49m\u001B[38;5;241;43m4\u001B[39;49m\n\u001B[0;32m      7\u001B[0m \u001B[43m    \u001B[49m\u001B[43m)\u001B[49m\n\u001B[0;32m      8\u001B[0m     results_list\u001B[38;5;241m.\u001B[39mappend(simulation_results)\n\u001B[0;32m      9\u001B[0m     \u001B[38;5;66;03m# How long will it take to perform this simple test?\u001B[39;00m\n\u001B[0;32m     10\u001B[0m     \u001B[38;5;66;03m# TODO: handling of no error estimation (like in the '93 paper)\u001B[39;00m\n",
      "File \u001B[1;32m~\\PycharmProjects\\qkd\\simulator\\bb84.py:721\u001B[0m, in \u001B[0;36msimulation_bb84\u001B[1;34m(gain, alice_basis_length, rectilinear_basis_prob, disturbance_probability, publication_probability_rectilinear, publication_probability_diagonal, cascade_n_passes, error_estimation)\u001B[0m\n\u001B[0;32m    719\u001B[0m \u001B[38;5;28;01mif\u001B[39;00m \u001B[38;5;28mtype\u001B[39m(history[n_pass][\u001B[38;5;241m1\u001B[39m][n_block]) \u001B[38;5;241m==\u001B[39m \u001B[38;5;28mstr\u001B[39m:\n\u001B[0;32m    720\u001B[0m     indexes \u001B[38;5;241m=\u001B[39m ast\u001B[38;5;241m.\u001B[39mliteral_eval(history[n_pass][\u001B[38;5;241m1\u001B[39m][n_block])\n\u001B[1;32m--> 721\u001B[0m     binary_previous \u001B[38;5;241m=\u001B[39m \u001B[43mbinary\u001B[49m(\n\u001B[0;32m    722\u001B[0m         sender_block\u001B[38;5;241m=\u001B[39mhistory[n_pass][\u001B[38;5;241m0\u001B[39m][n_block],\n\u001B[0;32m    723\u001B[0m         receiver_block\u001B[38;5;241m=\u001B[39mhistory[n_pass][\u001B[38;5;241m1\u001B[39m][n_block],\n\u001B[0;32m    724\u001B[0m         indexes\u001B[38;5;241m=\u001B[39mindexes\u001B[38;5;241m.\u001B[39mkeys()\n\u001B[0;32m    725\u001B[0m     )\n\u001B[0;32m    726\u001B[0m \u001B[38;5;28;01melif\u001B[39;00m \u001B[38;5;28mtype\u001B[39m(history[n_pass][\u001B[38;5;241m1\u001B[39m][n_block]) \u001B[38;5;241m==\u001B[39m \u001B[38;5;28mdict\u001B[39m:\n\u001B[0;32m    727\u001B[0m     binary_previous \u001B[38;5;241m=\u001B[39m binary(\n\u001B[0;32m    728\u001B[0m         sender_block\u001B[38;5;241m=\u001B[39mhistory[n_pass][\u001B[38;5;241m0\u001B[39m][n_block],\n\u001B[0;32m    729\u001B[0m         receiver_block\u001B[38;5;241m=\u001B[39mhistory[n_pass][\u001B[38;5;241m1\u001B[39m][n_block],\n\u001B[0;32m    730\u001B[0m         indexes\u001B[38;5;241m=\u001B[39mhistory[n_pass][\u001B[38;5;241m1\u001B[39m][n_block]\u001B[38;5;241m.\u001B[39mkeys()\n\u001B[0;32m    731\u001B[0m     )\n",
      "File \u001B[1;32m~\\PycharmProjects\\qkd\\simulator\\bb84.py:721\u001B[0m, in \u001B[0;36msimulation_bb84\u001B[1;34m(gain, alice_basis_length, rectilinear_basis_prob, disturbance_probability, publication_probability_rectilinear, publication_probability_diagonal, cascade_n_passes, error_estimation)\u001B[0m\n\u001B[0;32m    719\u001B[0m \u001B[38;5;28;01mif\u001B[39;00m \u001B[38;5;28mtype\u001B[39m(history[n_pass][\u001B[38;5;241m1\u001B[39m][n_block]) \u001B[38;5;241m==\u001B[39m \u001B[38;5;28mstr\u001B[39m:\n\u001B[0;32m    720\u001B[0m     indexes \u001B[38;5;241m=\u001B[39m ast\u001B[38;5;241m.\u001B[39mliteral_eval(history[n_pass][\u001B[38;5;241m1\u001B[39m][n_block])\n\u001B[1;32m--> 721\u001B[0m     binary_previous \u001B[38;5;241m=\u001B[39m \u001B[43mbinary\u001B[49m(\n\u001B[0;32m    722\u001B[0m         sender_block\u001B[38;5;241m=\u001B[39mhistory[n_pass][\u001B[38;5;241m0\u001B[39m][n_block],\n\u001B[0;32m    723\u001B[0m         receiver_block\u001B[38;5;241m=\u001B[39mhistory[n_pass][\u001B[38;5;241m1\u001B[39m][n_block],\n\u001B[0;32m    724\u001B[0m         indexes\u001B[38;5;241m=\u001B[39mindexes\u001B[38;5;241m.\u001B[39mkeys()\n\u001B[0;32m    725\u001B[0m     )\n\u001B[0;32m    726\u001B[0m \u001B[38;5;28;01melif\u001B[39;00m \u001B[38;5;28mtype\u001B[39m(history[n_pass][\u001B[38;5;241m1\u001B[39m][n_block]) \u001B[38;5;241m==\u001B[39m \u001B[38;5;28mdict\u001B[39m:\n\u001B[0;32m    727\u001B[0m     binary_previous \u001B[38;5;241m=\u001B[39m binary(\n\u001B[0;32m    728\u001B[0m         sender_block\u001B[38;5;241m=\u001B[39mhistory[n_pass][\u001B[38;5;241m0\u001B[39m][n_block],\n\u001B[0;32m    729\u001B[0m         receiver_block\u001B[38;5;241m=\u001B[39mhistory[n_pass][\u001B[38;5;241m1\u001B[39m][n_block],\n\u001B[0;32m    730\u001B[0m         indexes\u001B[38;5;241m=\u001B[39mhistory[n_pass][\u001B[38;5;241m1\u001B[39m][n_block]\u001B[38;5;241m.\u001B[39mkeys()\n\u001B[0;32m    731\u001B[0m     )\n",
      "File \u001B[1;32m_pydevd_bundle\\pydevd_cython_win32_311_64.pyx:1187\u001B[0m, in \u001B[0;36m_pydevd_bundle.pydevd_cython_win32_311_64.SafeCallWrapper.__call__\u001B[1;34m()\u001B[0m\n",
      "File \u001B[1;32m_pydevd_bundle\\pydevd_cython_win32_311_64.pyx:627\u001B[0m, in \u001B[0;36m_pydevd_bundle.pydevd_cython_win32_311_64.PyDBFrame.trace_dispatch\u001B[1;34m()\u001B[0m\n",
      "File \u001B[1;32m_pydevd_bundle\\pydevd_cython_win32_311_64.pyx:937\u001B[0m, in \u001B[0;36m_pydevd_bundle.pydevd_cython_win32_311_64.PyDBFrame.trace_dispatch\u001B[1;34m()\u001B[0m\n",
      "File \u001B[1;32m_pydevd_bundle\\pydevd_cython_win32_311_64.pyx:928\u001B[0m, in \u001B[0;36m_pydevd_bundle.pydevd_cython_win32_311_64.PyDBFrame.trace_dispatch\u001B[1;34m()\u001B[0m\n",
      "File \u001B[1;32m_pydevd_bundle\\pydevd_cython_win32_311_64.pyx:585\u001B[0m, in \u001B[0;36m_pydevd_bundle.pydevd_cython_win32_311_64.PyDBFrame.do_wait_suspend\u001B[1;34m()\u001B[0m\n",
      "File \u001B[1;32mC:\\Program Files\\JetBrains\\PyCharm 2023.2.4\\plugins\\python\\helpers\\pydev\\pydevd.py:1184\u001B[0m, in \u001B[0;36mPyDB.do_wait_suspend\u001B[1;34m(self, thread, frame, event, arg, send_suspend_message, is_unhandled_exception)\u001B[0m\n\u001B[0;32m   1181\u001B[0m         from_this_thread\u001B[38;5;241m.\u001B[39mappend(frame_id)\n\u001B[0;32m   1183\u001B[0m \u001B[38;5;28;01mwith\u001B[39;00m \u001B[38;5;28mself\u001B[39m\u001B[38;5;241m.\u001B[39m_threads_suspended_single_notification\u001B[38;5;241m.\u001B[39mnotify_thread_suspended(thread_id, stop_reason):\n\u001B[1;32m-> 1184\u001B[0m     \u001B[38;5;28;43mself\u001B[39;49m\u001B[38;5;241;43m.\u001B[39;49m\u001B[43m_do_wait_suspend\u001B[49m\u001B[43m(\u001B[49m\u001B[43mthread\u001B[49m\u001B[43m,\u001B[49m\u001B[43m \u001B[49m\u001B[43mframe\u001B[49m\u001B[43m,\u001B[49m\u001B[43m \u001B[49m\u001B[43mevent\u001B[49m\u001B[43m,\u001B[49m\u001B[43m \u001B[49m\u001B[43marg\u001B[49m\u001B[43m,\u001B[49m\u001B[43m \u001B[49m\u001B[43msuspend_type\u001B[49m\u001B[43m,\u001B[49m\u001B[43m \u001B[49m\u001B[43mfrom_this_thread\u001B[49m\u001B[43m)\u001B[49m\n",
      "File \u001B[1;32mC:\\Program Files\\JetBrains\\PyCharm 2023.2.4\\plugins\\python\\helpers\\pydev\\pydevd.py:1199\u001B[0m, in \u001B[0;36mPyDB._do_wait_suspend\u001B[1;34m(self, thread, frame, event, arg, suspend_type, from_this_thread)\u001B[0m\n\u001B[0;32m   1196\u001B[0m             \u001B[38;5;28mself\u001B[39m\u001B[38;5;241m.\u001B[39m_call_mpl_hook()\n\u001B[0;32m   1198\u001B[0m         \u001B[38;5;28mself\u001B[39m\u001B[38;5;241m.\u001B[39mprocess_internal_commands()\n\u001B[1;32m-> 1199\u001B[0m         time\u001B[38;5;241m.\u001B[39msleep(\u001B[38;5;241m0.01\u001B[39m)\n\u001B[0;32m   1201\u001B[0m \u001B[38;5;28mself\u001B[39m\u001B[38;5;241m.\u001B[39mcancel_async_evaluation(get_current_thread_id(thread), \u001B[38;5;28mstr\u001B[39m(\u001B[38;5;28mid\u001B[39m(frame)))\n\u001B[0;32m   1203\u001B[0m \u001B[38;5;66;03m# process any stepping instructions\u001B[39;00m\n",
      "\u001B[1;31mKeyboardInterrupt\u001B[0m: "
     ]
    }
   ],
   "source": [
    "results_list = []\n",
    "for qber in tqdm(arange(start=0.01, stop=0.16, step = 0.01)):\n",
    "    simulation_results = simulation_bb84(\n",
    "        alice_basis_length=10000,\n",
    "        disturbance_probability=qber,\n",
    "        cascade_n_passes=4\n",
    "    )\n",
    "    results_list.append(simulation_results)\n",
    "    # How long will it take to perform this simple test?\n",
    "    # TODO: handling of no error estimation (like in the '93 paper)"
   ],
   "metadata": {
    "collapsed": false,
    "ExecuteTime": {
     "end_time": "2023-12-13T14:21:41.989997500Z",
     "start_time": "2023-12-13T14:19:43.827394400Z"
    }
   },
   "id": "4dc02d2c49aba028"
  },
  {
   "cell_type": "code",
   "execution_count": null,
   "outputs": [],
   "source": [],
   "metadata": {
    "collapsed": false
   },
   "id": "86bfed1f168d5e9c"
  }
 ],
 "metadata": {
  "kernelspec": {
   "display_name": "Python 3",
   "language": "python",
   "name": "python3"
  },
  "language_info": {
   "codemirror_mode": {
    "name": "ipython",
    "version": 2
   },
   "file_extension": ".py",
   "mimetype": "text/x-python",
   "name": "python",
   "nbconvert_exporter": "python",
   "pygments_lexer": "ipython2",
   "version": "2.7.6"
  }
 },
 "nbformat": 4,
 "nbformat_minor": 5
}
