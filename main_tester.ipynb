{
 "cells": [
  {
   "cell_type": "code",
   "id": "initial_id",
   "metadata": {
    "collapsed": true,
    "ExecuteTime": {
     "end_time": "2024-10-10T21:06:38.053286Z",
     "start_time": "2024-10-10T21:06:36.833297Z"
    }
   },
   "source": [
    "from simulator_ver1.bb84 import simulation_bb84\n",
    "from tqdm import tqdm\n",
    "from numpy import arange\n",
    "import pandas as pd\n",
    "import matplotlib.pyplot as plt\n",
    "from mpl_toolkits.mplot3d import Axes3D\n",
    "import numpy as np\n",
    "import genal.genetic_algorithm"
   ],
   "outputs": [
    {
     "ename": "NameError",
     "evalue": "name 'refined_average_error' is not defined",
     "output_type": "error",
     "traceback": [
      "\u001B[1;31m---------------------------------------------------------------------------\u001B[0m",
      "\u001B[1;31mNameError\u001B[0m                                 Traceback (most recent call last)",
      "Cell \u001B[1;32mIn[2], line 1\u001B[0m\n\u001B[1;32m----> 1\u001B[0m \u001B[38;5;28;01mfrom\u001B[39;00m \u001B[38;5;21;01msimulator_ver1\u001B[39;00m\u001B[38;5;21;01m.\u001B[39;00m\u001B[38;5;21;01mbb84\u001B[39;00m \u001B[38;5;28;01mimport\u001B[39;00m simulation_bb84\n\u001B[0;32m      2\u001B[0m \u001B[38;5;28;01mfrom\u001B[39;00m \u001B[38;5;21;01mtqdm\u001B[39;00m \u001B[38;5;28;01mimport\u001B[39;00m tqdm\n\u001B[0;32m      3\u001B[0m \u001B[38;5;28;01mfrom\u001B[39;00m \u001B[38;5;21;01mnumpy\u001B[39;00m \u001B[38;5;28;01mimport\u001B[39;00m arange\n",
      "File \u001B[1;32m~\\PycharmProjects\\qkd\\qkd\\simulator_ver1\\bb84.py:18\u001B[0m\n\u001B[0;32m      9\u001B[0m \u001B[38;5;28;01mfrom\u001B[39;00m \u001B[38;5;21;01msimulator_ver1\u001B[39;00m\u001B[38;5;21;01m.\u001B[39;00m\u001B[38;5;21;01mbinary\u001B[39;00m \u001B[38;5;28;01mimport\u001B[39;00m binary\n\u001B[0;32m     12\u001B[0m \u001B[38;5;66;03m# TODO: rename variable to have the content first, name later, e.g., bits_alice instead of alice_bits\u001B[39;00m\n\u001B[0;32m     13\u001B[0m \u001B[38;5;66;03m# TODO: add a variable demonstration=FALSE, which makes the code omit parts which are for the demonstrator\u001B[39;00m\n\u001B[0;32m     16\u001B[0m \u001B[38;5;28;01mdef\u001B[39;00m \u001B[38;5;21msimulation_bb84\u001B[39m(gain\u001B[38;5;241m=\u001B[39m\u001B[38;5;241m1.\u001B[39m, alice_basis_length\u001B[38;5;241m=\u001B[39m\u001B[38;5;241m256\u001B[39m, rectilinear_basis_prob\u001B[38;5;241m=\u001B[39m\u001B[38;5;241m0.5\u001B[39m, disturbance_probability\u001B[38;5;241m=\u001B[39m\u001B[38;5;241m0.1\u001B[39m,\n\u001B[0;32m     17\u001B[0m                     publication_probability_rectilinear\u001B[38;5;241m=\u001B[39m\u001B[38;5;241m0.2\u001B[39m, publication_probability_diagonal\u001B[38;5;241m=\u001B[39m\u001B[38;5;241m0.2\u001B[39m, cascade_n_passes\u001B[38;5;241m=\u001B[39m\u001B[38;5;241m1\u001B[39m,\n\u001B[1;32m---> 18\u001B[0m                     error_estimation\u001B[38;5;241m=\u001B[39m\u001B[43mrefined_average_error\u001B[49m):\n\u001B[0;32m     19\u001B[0m \u001B[38;5;250m    \u001B[39m\u001B[38;5;124;03m\"\"\"This function is supposed to perform BB84 protocol with given parameters and return: error rate of the\u001B[39;00m\n\u001B[0;32m     20\u001B[0m \u001B[38;5;124;03m    final key, length of the final key, a dictionary containing computational costs of consecutive parts of the\u001B[39;00m\n\u001B[0;32m     21\u001B[0m \u001B[38;5;124;03m    algorithm, equal to number of bits exchanged (either via quantum or public channel) and number of last performed\u001B[39;00m\n\u001B[0;32m     22\u001B[0m \u001B[38;5;124;03m    CASCADE pass - after each one error rate is tested and if equals 0, the error correction algorithm is stopped.\"\"\"\u001B[39;00m\n\u001B[0;32m     24\u001B[0m \u001B[38;5;250m    \u001B[39m\u001B[38;5;124;03m\"\"\"I want to have a history of key lengths through the whole simulation: after using the quantum channel,\u001B[39;00m\n\u001B[0;32m     25\u001B[0m \u001B[38;5;124;03m    after performing sifting, error estimation and finally CASCADE.\u001B[39;00m\n\u001B[0;32m     26\u001B[0m \u001B[38;5;124;03m    \"\"\"\u001B[39;00m\n",
      "\u001B[1;31mNameError\u001B[0m: name 'refined_average_error' is not defined"
     ]
    }
   ],
   "execution_count": 2
  },
  {
   "cell_type": "markdown",
   "source": [
    "# Preliminary tests without optimisation"
   ],
   "metadata": {
    "collapsed": false
   },
   "id": "63b64c6daeecd2a5"
  },
  {
   "cell_type": "code",
   "execution_count": 12,
   "source": [
    "# Create an empty list to store the dictionaries\n",
    "results_list = []\n",
    "\n",
    "for i in range(20):\n",
    "    \n",
    "    for qber in tqdm(arange(start=0.01, stop=0.16, step=0.01)):\n",
    "        simulation_results = simulation_bb84(\n",
    "            alice_basis_length=10000,\n",
    "            disturbance_probability=qber,\n",
    "            cascade_n_passes=4\n",
    "        )\n",
    "        \n",
    "        # Append the results as a new dictionary to the list\n",
    "        new_row = {\n",
    "            'qber': qber,\n",
    "            'final error rate': simulation_results.get('error rate'),\n",
    "            'error estimate': simulation_results.get('error estimate'),\n",
    "            'initial key length': simulation_results.get('key length history').get('qubits'),\n",
    "            'key length after sifting': simulation_results.get('key length history').get('sifting'),\n",
    "            'key length after err est': simulation_results.get('key length history').get('error estimation'),\n",
    "            'key length after err corr': simulation_results.get('key length history').get('error correction')\n",
    "        }\n",
    "        results_list.append(new_row)\n",
    "\n",
    "# Create a DataFrame from the list of dictionaries\n",
    "results_df = pd.DataFrame(results_list)"
   ],
   "metadata": {
    "collapsed": false,
    "ExecuteTime": {
     "end_time": "2023-12-14T14:10:30.392302400Z",
     "start_time": "2023-12-14T14:09:05.196021100Z"
    }
   },
   "id": "4dc02d2c49aba028",
   "outputs": []
  },
  {
   "cell_type": "code",
   "execution_count": 13,
   "source": [
    "results_df.sample(10)"
   ],
   "metadata": {
    "collapsed": false,
    "ExecuteTime": {
     "end_time": "2023-12-14T14:10:34.720301900Z",
     "start_time": "2023-12-14T14:10:34.540250200Z"
    }
   },
   "id": "9130f68d8473e065",
   "outputs": []
  },
  {
   "cell_type": "markdown",
   "source": [
    "Plotting results:"
   ],
   "metadata": {
    "collapsed": false
   },
   "id": "26461aa52ade819b"
  },
  {
   "cell_type": "code",
   "execution_count": 21,
   "source": [
    "# Create a 3D scatter plot\n",
    "fig = plt.figure(figsize=(12, 8))\n",
    "ax = fig.add_subplot(111, projection='3d')\n",
    "\n",
    "# Prepare data for scatter plot\n",
    "initial_params = results_df['qber']\n",
    "stages = np.arange(1, 4)  # Assuming there are three stages in the simulation\n",
    "\n",
    "# Scatter plot for Variable_1\n",
    "ax.scatter(\n",
    "    initial_params, \n",
    "    np.full_like(initial_params, 1), \n",
    "    results_df['key length after sifting'], \n",
    "    label='after sifting'\n",
    ")\n",
    "\n",
    "# Scatter plot for Variable_2\n",
    "ax.scatter(\n",
    "    initial_params, \n",
    "    np.full_like(initial_params, 2), \n",
    "    results_df['key length after err est'], \n",
    "    label='after error estimation'\n",
    ")\n",
    "\n",
    "# Scatter plot for Variable_3\n",
    "ax.scatter(\n",
    "    initial_params, \n",
    "    np.full_like(initial_params, 3), \n",
    "    results_df['key length after err corr'], \n",
    "    label='after error correction'\n",
    ")\n",
    "\n",
    "# Set labels for axes\n",
    "ax.set_xlabel('QBER')\n",
    "ax.set_ylabel('Simulation Stages')\n",
    "ax.set_zlabel('Key length')\n",
    "\n",
    "# Set plot title\n",
    "plt.title('Key lengths at given stages of the BB84 simulation')\n",
    "\n",
    "# Set the viewing point\n",
    "ax.view_init(elev=20, azim=60)  # Adjust these values to change the viewing point\n",
    "\n",
    "# Show the legend\n",
    "ax.legend()\n",
    "\n",
    "# Show the plot\n",
    "plt.show()"
   ],
   "metadata": {
    "collapsed": false,
    "ExecuteTime": {
     "end_time": "2023-12-14T14:17:03.159891700Z",
     "start_time": "2023-12-14T14:17:02.904902100Z"
    }
   },
   "id": "f6b7ca183de7df4a",
   "outputs": []
  },
  {
   "cell_type": "code",
   "execution_count": 31,
   "source": [
    "# Create a 3D scatter plot\n",
    "fig = plt.figure(figsize=(12, 8))\n",
    "ax_3d = fig.add_subplot(111, projection='3d')\n",
    "\n",
    "# Plot the 3D scatter plot\n",
    "ax_3d.scatter(results_df['qber'], results_df['error estimate'], results_df['key length after err corr'], c='blue', label='3D scatter')\n",
    "\n",
    "# Set labels for axes\n",
    "ax_3d.set_xlabel('QBER')\n",
    "ax_3d.set_ylabel('Error estimation')\n",
    "ax_3d.set_zlabel('Key length after error correction')\n",
    "\n",
    "# Set plot title\n",
    "plt.title('Key lengths for different QBER and its estimates')\n",
    "\n",
    "# Set the viewing point\n",
    "ax_3d.view_init(elev=20, azim=60)  # Adjust these values to change the viewing point\n",
    "\n",
    "# Plot projections on XY, XZ, and YZ planes\n",
    "fig, axes = plt.subplots(1, 3, figsize=(18, 6))\n",
    "\n",
    "# XY projection\n",
    "axes[0].scatter(results_df['qber'], results_df['error estimate'], c='red', label='XY projection')\n",
    "axes[0].set_xlabel('QBER')\n",
    "axes[0].set_ylabel('Error estimation')\n",
    "axes[0].set_title('XY Projection')\n",
    "\n",
    "# XZ projection\n",
    "axes[1].scatter(results_df['qber'], results_df['key length after err corr'], c='green', label='XZ projection')\n",
    "axes[1].set_xlabel('QBER')\n",
    "axes[1].set_ylabel('Key length after error correction')\n",
    "axes[1].set_title('XZ Projection')\n",
    "\n",
    "# YZ projection\n",
    "axes[2].scatter(results_df['error estimate'], results_df['key length after err corr'], c='purple', label='YZ projection')\n",
    "axes[2].set_xlabel('Error estimation')\n",
    "axes[2].set_ylabel('Key length after error correction')\n",
    "axes[2].set_title('YZ Projection')\n",
    "\n",
    "# Show the plots\n",
    "plt.show()"
   ],
   "metadata": {
    "collapsed": false,
    "ExecuteTime": {
     "end_time": "2023-12-14T14:37:01.236937800Z",
     "start_time": "2023-12-14T14:37:00.015242500Z"
    }
   },
   "id": "d58398d8a2ec7e5",
   "outputs": []
  },
  {
   "cell_type": "code",
   "execution_count": 37,
   "source": [
    "results_df.to_csv(\"new_results.csv\")"
   ],
   "metadata": {
    "collapsed": false,
    "ExecuteTime": {
     "end_time": "2023-12-14T14:51:50.137328700Z",
     "start_time": "2023-12-14T14:51:50.104642400Z"
    }
   },
   "id": "c2b197f9c26dc04c",
   "outputs": []
  },
  {
   "cell_type": "markdown",
   "source": [
    "# Simulation with no error estimation, just as in the '93 paper"
   ],
   "metadata": {
    "collapsed": false
   },
   "id": "c059648497cd54fe"
  },
  {
   "cell_type": "code",
   "execution_count": 11,
   "source": [
    "# Create an empty list to store the dictionaries\n",
    "results93_list = []\n",
    "\n",
    "for i in range(20):\n",
    "    \n",
    "    for qber in tqdm(arange(start=0.01, stop=0.16, step=0.01)):\n",
    "        simulation_results = simulation_bb84(\n",
    "            alice_basis_length=10000,\n",
    "            disturbance_probability=qber,\n",
    "            cascade_n_passes=4,\n",
    "            error_estimation='none'\n",
    "        )\n",
    "        \n",
    "        # Append the results as a new dictionary to the list\n",
    "        new_row = {\n",
    "            'qber': qber,\n",
    "            'final error rate': simulation_results.get('error rate'),\n",
    "            'error estimate': simulation_results.get('error estimate'),\n",
    "            'initial key length': simulation_results.get('key length history').get('qubits'),\n",
    "            'key length after sifting': simulation_results.get('key length history').get('sifting'),\n",
    "            'key length after err est': simulation_results.get('key length history').get('error estimation'),\n",
    "            'key length after err corr': simulation_results.get('key length history').get('error correction'),\n",
    "            'no. cascade pass.': simulation_results.get('key length history').get('no. cascade pass.')\n",
    "        }\n",
    "        results93_list.append(new_row)\n",
    "\n",
    "# Create a DataFrame from the list of dictionaries\n",
    "results93_df = pd.DataFrame(results93_list)"
   ],
   "metadata": {
    "collapsed": false,
    "ExecuteTime": {
     "end_time": "2023-12-14T16:21:37.566107700Z",
     "start_time": "2023-12-14T16:20:45.671925200Z"
    }
   },
   "id": "a638a6917f583eb6",
   "outputs": []
  },
  {
   "cell_type": "code",
   "execution_count": 12,
   "source": [
    "results93_df.sample(10)"
   ],
   "metadata": {
    "collapsed": false,
    "ExecuteTime": {
     "end_time": "2023-12-14T16:21:45.988180900Z",
     "start_time": "2023-12-14T16:21:45.937590900Z"
    }
   },
   "id": "621d1bf6689db471",
   "outputs": []
  },
  {
   "cell_type": "code",
   "execution_count": 7,
   "source": [
    "# Create a 3D scatter plot\n",
    "fig = plt.figure(figsize=(12, 8))\n",
    "ax_3d = fig.add_subplot(111, projection='3d')\n",
    "\n",
    "# Plot the 3D scatter plot\n",
    "ax_3d.scatter(results93_df['qber'], results93_df['error estimate'], results93_df['key length after err corr'], c='blue', label='3D scatter')\n",
    "\n",
    "# Set labels for axes\n",
    "ax_3d.set_xlabel('QBER')\n",
    "ax_3d.set_ylabel('Error estimation')\n",
    "ax_3d.set_zlabel('Key length after error correction')\n",
    "\n",
    "# Set plot title\n",
    "plt.title('Key lengths for different QBER - no error estimation')\n",
    "\n",
    "# Set the viewing point\n",
    "ax_3d.view_init(elev=20, azim=60)  # Adjust these values to change the viewing point\n",
    "\n",
    "# Plot projections on XY, XZ, and YZ planes\n",
    "fig, axes = plt.subplots(1, 3, figsize=(18, 6))\n",
    "\n",
    "# XY projection\n",
    "axes[0].scatter(results93_df['qber'], results93_df['error estimate'], c='red', label='XY projection')\n",
    "axes[0].set_xlabel('QBER')\n",
    "axes[0].set_ylabel('Error estimation')\n",
    "axes[0].set_title('XY Projection')\n",
    "\n",
    "# XZ projection\n",
    "axes[1].scatter(results93_df['qber'], results93_df['key length after err corr'], c='green', label='XZ projection')\n",
    "axes[1].set_xlabel('QBER')\n",
    "axes[1].set_ylabel('Key length after error correction')\n",
    "axes[1].set_title('XZ Projection')\n",
    "\n",
    "# YZ projection\n",
    "axes[2].scatter(results93_df['error estimate'], results93_df['key length after err corr'], c='purple', label='YZ projection')\n",
    "axes[2].set_xlabel('Error estimation')\n",
    "axes[2].set_ylabel('Key length after error correction')\n",
    "axes[2].set_title('YZ Projection')\n",
    "\n",
    "# Show the plots\n",
    "plt.show()"
   ],
   "metadata": {
    "collapsed": false,
    "ExecuteTime": {
     "end_time": "2023-12-14T16:12:31.304954700Z",
     "start_time": "2023-12-14T16:12:29.894228300Z"
    }
   },
   "id": "201a0d06b5586738",
   "outputs": []
  },
  {
   "cell_type": "markdown",
   "source": [
    "Perhaps it depends on whether all 4 CASCADE passes were done? What's the final error rate?"
   ],
   "metadata": {
    "collapsed": false
   },
   "id": "102cc85e7b270a65"
  },
  {
   "cell_type": "code",
   "execution_count": 8,
   "source": [
    "plt.scatter(results93_df['final error rate'], results93_df['key length after err corr'])"
   ],
   "metadata": {
    "collapsed": false,
    "ExecuteTime": {
     "end_time": "2023-12-14T16:17:58.419532500Z",
     "start_time": "2023-12-14T16:17:58.040526800Z"
    }
   },
   "id": "88024cf560c2d8d9",
   "outputs": []
  },
  {
   "cell_type": "code",
   "execution_count": 10,
   "source": [
    "plt.scatter(results93_df['qber'], results93_df['final error rate'])"
   ],
   "metadata": {
    "collapsed": false,
    "ExecuteTime": {
     "end_time": "2023-12-14T16:19:05.007920Z",
     "start_time": "2023-12-14T16:19:04.860637Z"
    }
   },
   "id": "e818d63c27fb8c83",
   "outputs": []
  },
  {
   "cell_type": "code",
   "execution_count": null,
   "source": [
    "plt.scatter(results93_df['no. cascade pass'], results93_df['key length after err corr'])"
   ],
   "metadata": {
    "collapsed": false
   },
   "id": "aac6166a4467a694",
   "outputs": []
  },
  {
   "cell_type": "markdown",
   "source": [
    "# Optimisation with a classical genetic algorithm"
   ],
   "metadata": {
    "collapsed": false
   },
   "id": "2b1cb7bd505d0df4"
  },
  {
   "cell_type": "code",
   "execution_count": null,
   "source": [
    "gene_space = [0, 1, 2, 3, 4]\n",
    "num_generations = 100\n",
    "population_size = 50\n",
    "elite_size = 2"
   ],
   "metadata": {
    "collapsed": false
   },
   "id": "5e7f001442a0abd8",
   "outputs": []
  },
  {
   "cell_type": "code",
   "execution_count": null,
   "source": [
    "def genome_generator(args):\n",
    "    \"\"\"Function for randomising BB84 input parameters\"\"\"\n",
    "    \n",
    "    return genome"
   ],
   "metadata": {
    "collapsed": false
   },
   "id": "fbc1aa4eda975a6",
   "outputs": []
  }
 ],
 "metadata": {
  "kernelspec": {
   "display_name": "Python 3",
   "language": "python",
   "name": "python3"
  },
  "language_info": {
   "codemirror_mode": {
    "name": "ipython",
    "version": 2
   },
   "file_extension": ".py",
   "mimetype": "text/x-python",
   "name": "python",
   "nbconvert_exporter": "python",
   "pygments_lexer": "ipython2",
   "version": "2.7.6"
  }
 },
 "nbformat": 4,
 "nbformat_minor": 5
}
