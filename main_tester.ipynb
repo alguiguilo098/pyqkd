{
 "cells": [
  {
   "cell_type": "code",
   "execution_count": 1,
   "id": "initial_id",
   "metadata": {
    "collapsed": true,
    "ExecuteTime": {
     "end_time": "2023-12-14T12:15:16.904912400Z",
     "start_time": "2023-12-14T12:15:16.042211200Z"
    }
   },
   "outputs": [],
   "source": [
    "from simulator.bb84 import simulation_bb84\n",
    "from tqdm import tqdm\n",
    "from numpy import arange"
   ]
  },
  {
   "cell_type": "code",
   "execution_count": 2,
   "outputs": [
    {
     "name": "stderr",
     "output_type": "stream",
     "text": [
      "  0%|          | 0/15 [00:01<?, ?it/s]"
     ]
    },
    {
     "name": "stdout",
     "output_type": "stream",
     "text": [
      "Doing previous BINARY\n",
      "Doing previous BINARY\n",
      "Doing previous BINARY\n",
      "Doing previous BINARY\n",
      "Doing previous BINARY\n",
      "Doing previous BINARY\n",
      "Doing previous BINARY\n",
      "Doing previous BINARY\n",
      "Doing previous BINARY\n",
      "Doing previous BINARY\n",
      "Doing previous BINARY\n",
      "Doing previous BINARY\n"
     ]
    },
    {
     "name": "stderr",
     "output_type": "stream",
     "text": [
      "\n"
     ]
    },
    {
     "ename": "KeyError",
     "evalue": "'3028'",
     "output_type": "error",
     "traceback": [
      "\u001B[1;31m---------------------------------------------------------------------------\u001B[0m",
      "\u001B[1;31mKeyError\u001B[0m                                  Traceback (most recent call last)",
      "Cell \u001B[1;32mIn[2], line 3\u001B[0m\n\u001B[0;32m      1\u001B[0m results_list \u001B[38;5;241m=\u001B[39m []\n\u001B[0;32m      2\u001B[0m \u001B[38;5;28;01mfor\u001B[39;00m qber \u001B[38;5;129;01min\u001B[39;00m tqdm(arange(start\u001B[38;5;241m=\u001B[39m\u001B[38;5;241m0.01\u001B[39m, stop\u001B[38;5;241m=\u001B[39m\u001B[38;5;241m0.16\u001B[39m, step \u001B[38;5;241m=\u001B[39m \u001B[38;5;241m0.01\u001B[39m)):\n\u001B[1;32m----> 3\u001B[0m     simulation_results \u001B[38;5;241m=\u001B[39m \u001B[43msimulation_bb84\u001B[49m\u001B[43m(\u001B[49m\n\u001B[0;32m      4\u001B[0m \u001B[43m        \u001B[49m\u001B[43malice_basis_length\u001B[49m\u001B[38;5;241;43m=\u001B[39;49m\u001B[38;5;241;43m10000\u001B[39;49m\u001B[43m,\u001B[49m\n\u001B[0;32m      5\u001B[0m \u001B[43m        \u001B[49m\u001B[43mdisturbance_probability\u001B[49m\u001B[38;5;241;43m=\u001B[39;49m\u001B[43mqber\u001B[49m\u001B[43m,\u001B[49m\n\u001B[0;32m      6\u001B[0m \u001B[43m        \u001B[49m\u001B[43mcascade_n_passes\u001B[49m\u001B[38;5;241;43m=\u001B[39;49m\u001B[38;5;241;43m4\u001B[39;49m\n\u001B[0;32m      7\u001B[0m \u001B[43m    \u001B[49m\u001B[43m)\u001B[49m\n\u001B[0;32m      8\u001B[0m     results_list\u001B[38;5;241m.\u001B[39mappend(simulation_results)\n\u001B[0;32m      9\u001B[0m     \u001B[38;5;66;03m# How long will it take to perform this simple test?\u001B[39;00m\n",
      "File \u001B[1;32m~\\PycharmProjects\\qkd\\simulator\\bb84.py:731\u001B[0m, in \u001B[0;36msimulation_bb84\u001B[1;34m(gain, alice_basis_length, rectilinear_basis_prob, disturbance_probability, publication_probability_rectilinear, publication_probability_diagonal, cascade_n_passes, error_estimation)\u001B[0m\n\u001B[0;32m    729\u001B[0m \u001B[38;5;28;01mtry\u001B[39;00m:\n\u001B[0;32m    730\u001B[0m     \u001B[38;5;28mprint\u001B[39m(\u001B[38;5;124m\"\u001B[39m\u001B[38;5;124mDoing previous BINARY\u001B[39m\u001B[38;5;124m\"\u001B[39m)\n\u001B[1;32m--> 731\u001B[0m     binary_previous \u001B[38;5;241m=\u001B[39m \u001B[43mbinary\u001B[49m\u001B[43m(\u001B[49m\n\u001B[0;32m    732\u001B[0m \u001B[43m        \u001B[49m\u001B[43msender_block\u001B[49m\u001B[38;5;241;43m=\u001B[39;49m\u001B[43mprevious_pass_blocks_alice\u001B[49m\u001B[43m[\u001B[49m\u001B[43mn_block\u001B[49m\u001B[43m]\u001B[49m\u001B[43m,\u001B[49m\n\u001B[0;32m    733\u001B[0m \u001B[43m        \u001B[49m\u001B[43mreceiver_block\u001B[49m\u001B[38;5;241;43m=\u001B[39;49m\u001B[43mprevious_pass_blocks_bob\u001B[49m\u001B[43m[\u001B[49m\u001B[43mn_block\u001B[49m\u001B[43m]\u001B[49m\u001B[43m,\u001B[49m\n\u001B[0;32m    734\u001B[0m \u001B[43m        \u001B[49m\u001B[43mindexes\u001B[49m\u001B[38;5;241;43m=\u001B[39;49m\u001B[38;5;28;43mlist\u001B[39;49m\u001B[43m(\u001B[49m\u001B[43mprevious_pass_blocks_bob\u001B[49m\u001B[43m[\u001B[49m\u001B[43mn_block\u001B[49m\u001B[43m]\u001B[49m\u001B[38;5;241;43m.\u001B[39;49m\u001B[43mkeys\u001B[49m\u001B[43m(\u001B[49m\u001B[43m)\u001B[49m\u001B[43m)\u001B[49m\n\u001B[0;32m    735\u001B[0m \u001B[43m    \u001B[49m\u001B[43m)\u001B[49m\n\u001B[0;32m    736\u001B[0m \u001B[38;5;28;01mexcept\u001B[39;00m \u001B[38;5;167;01mAttributeError\u001B[39;00m:\n\u001B[0;32m    737\u001B[0m     error_message \u001B[38;5;241m=\u001B[39m [blocks_sizes, alice_basis_length, gain, disturbance_probability,\n\u001B[0;32m    738\u001B[0m                      error_estimate, key_len, rectilinear_basis_prob,\n\u001B[0;32m    739\u001B[0m                      publication_probability_rectilinear,\n\u001B[0;32m    740\u001B[0m                      cascade_n_passes, \u001B[38;5;124m\"\u001B[39m\u001B[38;5;124mAttributeError for binary_previous\u001B[39m\u001B[38;5;124m\"\u001B[39m]\n",
      "File \u001B[1;32m~\\PycharmProjects\\qkd\\simulator\\binary.py:77\u001B[0m, in \u001B[0;36mbinary\u001B[1;34m(sender_block, receiver_block, indexes, receiver_name)\u001B[0m\n\u001B[0;32m     75\u001B[0m \u001B[38;5;28;01mfor\u001B[39;00m index \u001B[38;5;129;01min\u001B[39;00m second_half_indexes:\n\u001B[0;32m     76\u001B[0m     receiver_subscription_block[index] \u001B[38;5;241m=\u001B[39m receiver_current_block[index]\n\u001B[1;32m---> 77\u001B[0m     sender_subscription_block[index] \u001B[38;5;241m=\u001B[39m \u001B[43msender_current_block\u001B[49m\u001B[43m[\u001B[49m\u001B[43mindex\u001B[49m\u001B[43m]\u001B[49m\n\u001B[0;32m     79\u001B[0m sender_current_block \u001B[38;5;241m=\u001B[39m sender_subscription_block\n\u001B[0;32m     80\u001B[0m receiver_current_block \u001B[38;5;241m=\u001B[39m receiver_subscription_block\n",
      "\u001B[1;31mKeyError\u001B[0m: '3028'"
     ]
    }
   ],
   "source": [
    "results_list = []\n",
    "for qber in tqdm(arange(start=0.01, stop=0.16, step = 0.01)):\n",
    "    simulation_results = simulation_bb84(\n",
    "        alice_basis_length=10000,\n",
    "        disturbance_probability=qber,\n",
    "        cascade_n_passes=4\n",
    "    )\n",
    "    results_list.append(simulation_results)\n",
    "    # How long will it take to perform this simple test?"
   ],
   "metadata": {
    "collapsed": false,
    "ExecuteTime": {
     "end_time": "2023-12-14T12:15:19.778007400Z",
     "start_time": "2023-12-14T12:15:17.981191500Z"
    }
   },
   "id": "4dc02d2c49aba028"
  },
  {
   "cell_type": "code",
   "execution_count": null,
   "outputs": [],
   "source": [],
   "metadata": {
    "collapsed": false
   },
   "id": "86bfed1f168d5e9c"
  }
 ],
 "metadata": {
  "kernelspec": {
   "display_name": "Python 3",
   "language": "python",
   "name": "python3"
  },
  "language_info": {
   "codemirror_mode": {
    "name": "ipython",
    "version": 2
   },
   "file_extension": ".py",
   "mimetype": "text/x-python",
   "name": "python",
   "nbconvert_exporter": "python",
   "pygments_lexer": "ipython2",
   "version": "2.7.6"
  }
 },
 "nbformat": 4,
 "nbformat_minor": 5
}
