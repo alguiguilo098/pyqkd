{
 "cells": [
  {
   "cell_type": "code",
   "execution_count": 3,
   "id": "initial_id",
   "metadata": {
    "collapsed": true,
    "ExecuteTime": {
     "end_time": "2023-12-13T10:59:37.913225600Z",
     "start_time": "2023-12-13T10:59:36.176143800Z"
    }
   },
   "outputs": [],
   "source": [
    "from simulator.bb84 import simulation_bb84\n",
    "from tqdm import tqdm\n",
    "from numpy import arange"
   ]
  },
  {
   "cell_type": "code",
   "execution_count": null,
   "outputs": [],
   "source": [
    "results_list = []\n",
    "for qber in tqdm(arange(start=0.01, stop=0.16, step = 0.01)):\n",
    "    simulation_results = simulation_bb84(\n",
    "        alice_basis_length=10000,\n",
    "        disturbance_probability=qber,\n",
    "        cascade_n_passes=4\n",
    "    )\n",
    "    results_list.append(simulation_results)"
   ],
   "metadata": {
    "collapsed": false
   },
   "id": "4dc02d2c49aba028"
  }
 ],
 "metadata": {
  "kernelspec": {
   "display_name": "Python 3",
   "language": "python",
   "name": "python3"
  },
  "language_info": {
   "codemirror_mode": {
    "name": "ipython",
    "version": 2
   },
   "file_extension": ".py",
   "mimetype": "text/x-python",
   "name": "python",
   "nbconvert_exporter": "python",
   "pygments_lexer": "ipython2",
   "version": "2.7.6"
  }
 },
 "nbformat": 4,
 "nbformat_minor": 5
}
