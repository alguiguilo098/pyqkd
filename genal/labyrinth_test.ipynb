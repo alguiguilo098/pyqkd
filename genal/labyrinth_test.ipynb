{
 "cells": [
  {
   "cell_type": "code",
   "id": "initial_id",
   "metadata": {
    "collapsed": true,
    "ExecuteTime": {
     "end_time": "2024-12-27T12:25:52.421695Z",
     "start_time": "2024-12-27T12:25:51.115757Z"
    }
   },
   "source": [
    "import numpy as np\n",
    "import genetic_algorithm\n",
    "import random"
   ],
   "outputs": [],
   "execution_count": 1
  },
  {
   "metadata": {
    "ExecuteTime": {
     "end_time": "2024-12-27T12:25:54.038923Z",
     "start_time": "2024-12-27T12:25:53.999605Z"
    }
   },
   "cell_type": "code",
   "source": [
    "import matplotlib.pyplot as plt\n",
    "import matplotlib.patches as patches\n",
    "import matplotlib.animation as animation\n",
    "import tqdm\n",
    "import copy\n",
    "\n",
    "from time import time"
   ],
   "id": "cb144d01b69e994a",
   "outputs": [],
   "execution_count": 2
  },
  {
   "cell_type": "code",
   "source": [
    "labyrinth = np.array([\n",
    "            [1, 1, 1, 1, 1, 1, 1, 1, 1, 1, 1, 1],\n",
    "            [1, 0, 0, 0, 1, 0, 0, 0, 1, 0, 0, 1],\n",
    "            [1, 1, 1, 0, 0, 0, 1, 0, 1, 1, 0, 1],\n",
    "            [1, 0, 0, 0, 1, 0, 1, 0, 0, 0, 0, 1],\n",
    "            [1, 0, 1, 0, 1, 1, 0, 0, 1, 1, 0, 1],\n",
    "            [1, 0, 0, 1, 1, 0, 0, 0, 1, 0, 0, 1],\n",
    "            [1, 0, 0, 0, 0, 0, 1, 0, 0, 0, 1, 1],\n",
    "            [1, 0, 1, 0, 0, 1, 1, 0, 1, 0, 0, 1],\n",
    "            [1, 0, 1, 1, 1, 0, 0, 0, 1, 1, 0, 1],\n",
    "            [1, 0, 1, 0, 1, 1, 0, 1, 0, 1, 0, 1],\n",
    "            [1, 0, 1, 0, 0, 0, 0, 0, 0, 0, 0, 1],\n",
    "            [1, 1, 1, 1, 1, 1, 1, 1, 1, 1, 1, 1]\n",
    "        ])"
   ],
   "metadata": {
    "collapsed": false,
    "ExecuteTime": {
     "end_time": "2024-12-27T12:25:55.216172Z",
     "start_time": "2024-12-27T12:25:55.206057Z"
    }
   },
   "id": "a490908c1822f13f",
   "outputs": [],
   "execution_count": 3
  },
  {
   "metadata": {
    "ExecuteTime": {
     "end_time": "2024-12-27T12:25:55.937713Z",
     "start_time": "2024-12-27T12:25:55.928174Z"
    }
   },
   "cell_type": "code",
   "source": [
    "def draw_labyrinth(plot_object, labyrinth: np.ndarray):\n",
    "    \"\"\"Funkcja rysująca pusty labirynt (bez trasy) zgodnie z macierzą 'labyrinth', na podanym obiekcie\n",
    "    graficznym 'plot_object'.\n",
    "    \"\"\"\n",
    "    for i in range(len(labyrinth)):\n",
    "        \"\"\"Iteracja po kolejnych wierszach\"\"\"\n",
    "        for j in range(len(labyrinth[i])):\n",
    "            \"\"\"Iteracja po kolejnych kolumnach\"\"\"\n",
    "            if labyrinth[i, j] == 1:\n",
    "                \"\"\"Rysowanie ściany\"\"\"\n",
    "                rect = patches.Rectangle(\n",
    "                    (j, i), 1, 1, linewidth=1, edgecolor='black', facecolor='black'\n",
    "                )\n",
    "            else:\n",
    "                \"\"\"Rysowanie pustego pola\"\"\"\n",
    "                rect = patches.Rectangle(\n",
    "                    (j, i), 1, 1, linewidth=1, edgecolor='grey', facecolor='white'\n",
    "                )\n",
    "            plot_object.add_patch(rect)\n",
    "\n",
    "    \"\"\"Końcowe ustawienia\"\"\"\n",
    "    plot_object.set_xlim(0, 12)\n",
    "    plot_object.set_ylim(0, 12)\n",
    "    plot_object.invert_yaxis()\n",
    "    plot_object.set_aspect('equal')"
   ],
   "id": "eb0e5b9195fafa24",
   "outputs": [],
   "execution_count": 4
  },
  {
   "metadata": {
    "ExecuteTime": {
     "end_time": "2024-12-27T12:25:56.544884Z",
     "start_time": "2024-12-27T12:25:56.533734Z"
    }
   },
   "cell_type": "code",
   "source": [
    "def see_route(labyrinth: np.ndarray, moves_mapping: dict, steps: list,\n",
    "              gif_filename='labirynt.gif', summary_filename='labirynt_summary.png'):\n",
    "    \"\"\"Funkcja przyjmująca na wejściu macierz reprezentującą labirynt (labyrinth), słownik dopasowujący kod ruchu\n",
    "    do zmiany odpowiednich współrzędnych — w macierzy z biblioteki numpy najpierw jest wsp. wiersza, a następnie wsp.\n",
    "    kolumny!\n",
    "\n",
    "    Wynikiem funkcji jest animacja GIF danej trasy przez labirynt oraz grafika PNG z podsumowaniem całej trasy.\n",
    "    \"\"\"\n",
    "    start_pos = (1, 1)\n",
    "    fig, ax = plt.subplots()\n",
    "\n",
    "    \"\"\"Rysowanie pustego labiryntu\"\"\"\n",
    "    draw_labyrinth(plot_object=ax, labyrinth=labyrinth)\n",
    "\n",
    "    \"\"\"Tworzenie trasy na podstawie kroków\"\"\"\n",
    "    path_x, path_y = [start_pos[1] + 0.5], [start_pos[0] + 0.5]  # ścieżka zaczyna się w środku pola wejścia, stąd 0.5\n",
    "    pos = list(start_pos)\n",
    "    for step in steps:\n",
    "        move = moves_mapping[int(step)]\n",
    "        pos[0] += move[0]\n",
    "        pos[1] += move[1]\n",
    "        path_x.append(pos[1] + 0.5)  # przesunięcie o 0.5, żeby linie były \"wycentrowane\", a nie wzdłuż krawędzi pól\n",
    "        path_y.append(pos[0] + 0.5)  # przesunięcie o 0.5, żeby linie były \"wycentrowane\", a nie wzdłuż krawędzi pól\n",
    "\n",
    "    def update(num, path_x, path_y, line):  # wewnątrz funkcji można tworzyć \"lokalną\" funkcję\n",
    "        \"\"\"Funkcja do aktualizacji animacji\"\"\"\n",
    "        line.set_data(path_x[:num], path_y[:num])\n",
    "        return line,\n",
    "\n",
    "    \"\"\"Inicjalizacja linii trasy\"\"\"\n",
    "    line, = ax.plot([], [], lw=2, color='red')\n",
    "\n",
    "    \"\"\"Animacja trasy wzdłuż odpowiednich współrzędnych z zadanym interwałem, określającym jak szybko zmieniają się\n",
    "    klatki w końcowym GIFie.\"\"\"\n",
    "    ani = animation.FuncAnimation(fig, update, frames=len(path_x), fargs=[path_x, path_y, line], interval=200,\n",
    "                                  blit=True)\n",
    "\n",
    "    \"\"\"Ustawienia osi\"\"\"\n",
    "    plt.xlim(0, 12)\n",
    "    plt.ylim(0, 12)\n",
    "    plt.gca().invert_yaxis()\n",
    "\n",
    "    \"\"\"Zapisanie animacji jako GIF\"\"\"\n",
    "    ani.save(gif_filename, writer='imagemagick')\n",
    "    # print(f\"Wygenerowano animację trasy przez labirynt\")\n",
    "\n",
    "    \"\"\"Rysowanie całej trasy na grafice PNG\"\"\"\n",
    "    fig, ax = plt.subplots()  # wykorzystuję ponownie zmienne lokalne\n",
    "    draw_labyrinth(plot_object=ax, labyrinth=labyrinth)  # rysujemy pusty labirynt od nowa\n",
    "    ax.plot(path_x, path_y, lw=2, color='red')  # dodajemy całą wygenerowaną trasę\n",
    "\n",
    "    \"\"\"Ustawienia osi\"\"\"\n",
    "    plt.xlim(0, 12)\n",
    "    plt.ylim(0, 12)\n",
    "    plt.gca().invert_yaxis()\n",
    "\n",
    "    \"\"\"Zapisanie obrazu jako PNG\"\"\"\n",
    "    plt.savefig(summary_filename)\n",
    "    plt.close()\n",
    "    # print(f\"Wykonano grafikę z całą trasą przez labirynt\")"
   ],
   "id": "155a7768c0b2779a",
   "outputs": [],
   "execution_count": 5
  },
  {
   "metadata": {
    "ExecuteTime": {
     "end_time": "2024-12-27T12:25:57.758166Z",
     "start_time": "2024-12-27T12:25:57.747635Z"
    }
   },
   "cell_type": "code",
   "source": [
    "\"\"\"Ruchy przez labirynt zakodowano w następujący sposób:\n",
    "0 - bez ruchu;\n",
    "1 - w lewo;\n",
    "2 - w prawo;\n",
    "3 - w górę;\n",
    "4 - w dół.\n",
    "\n",
    "Dodatkowo, stworzono słownik mapujący to kodowanie do zmian odpowiednich współrzędnych.\n",
    "moves_mapping = {ruch: (zmiana y, zmiana x), ...}\n",
    "y jest pierwszą wsp. w macierzy, ponieważ to nr wiersza!\n",
    "\"\"\"\n",
    "gene_space = [0, 1, 2, 3, 4]\n",
    "moves_mapping = {\n",
    "    0: (0, 0),    # bez ruchu\n",
    "    1: (0, -1),   # w lewo\n",
    "    2: (0, 1),    # w prawo\n",
    "    3: (-1, 0),   # w górę\n",
    "    4: (1, 0)     # w dół\n",
    "}"
   ],
   "id": "19bad88810fbc86d",
   "outputs": [],
   "execution_count": 6
  },
  {
   "metadata": {
    "ExecuteTime": {
     "end_time": "2024-12-27T12:26:00.866844Z",
     "start_time": "2024-12-27T12:26:00.860656Z"
    }
   },
   "cell_type": "code",
   "source": [
    "\"\"\"Ustawienia algorytmu genetycznego\"\"\"\n",
    "exit_labyrinth = {'y': 10, 'x': 10}  # współrzędne \"wyjścia\" z labiryntu\n",
    "num_generations = 4000\n",
    "sol_per_pop = 500\n",
    "num_parents_mating = 250\n",
    "num_genes = 30\n",
    "selection = \"tournament\"\n",
    "mutation = \"random\"\n",
    "mutation_prob = 0.15\n",
    "k_tournament = 10\n",
    "stop_criteria = \"reach_1\""
   ],
   "id": "c79bcc474d5b3460",
   "outputs": [],
   "execution_count": 7
  },
  {
   "metadata": {
    "ExecuteTime": {
     "end_time": "2024-12-27T12:26:03.427048Z",
     "start_time": "2024-12-27T12:26:03.417120Z"
    }
   },
   "cell_type": "code",
   "source": [
    "\"\"\"Wagi punktów nagród & kar:\"\"\"\n",
    "bonus_point = 2  # do nagród\n",
    "pos_repeat_point = 1  # do kary za powtórzenie pozycji\n",
    "hitting_a_wall_point = 1.25  # do kary za zmarnowanie ruchu na odbicie się od ściany\n",
    "max_bonus = 10 * bonus_point  # maksymalnie 10 kroków czekamy w mecie, do której można dotrzeć w 20 z 30 kroków"
   ],
   "id": "d38c0a4ea161fb83",
   "outputs": [],
   "execution_count": 8
  },
  {
   "metadata": {
    "ExecuteTime": {
     "end_time": "2024-12-27T12:26:04.000642Z",
     "start_time": "2024-12-27T12:26:03.987494Z"
    }
   },
   "cell_type": "code",
   "source": [
    "def fitness_fun_new(genetic_algorithm_instance, route, route_idx):\n",
    "    \"\"\"Używamy metryki Taxi do ewaluacji tras przez labirynt. Dodatkowo, przydzielamy kary i nagrody za poszczególne\n",
    "    zachowania, aby trasy proponowane przez chromosomy były jak najbliższe tym faktycznym, po uwzględnieniu\n",
    "    \"odbijania się\" od ścian.\n",
    "    \"\"\"\n",
    "    position = {'y': 1, 'x': 1}  # zaczynamy w (1,1)\n",
    "\n",
    "    \"\"\"Aby uniknąć kłopotu z cechą 'mutable' słowników, zapamiętujemy w liście historii położeń kopię\n",
    "    początkowego stanu słownika położeń, zamiast przypisywać do listy dynamiczną strukturę danych.\n",
    "    \"\"\"\n",
    "    history = [copy.deepcopy(position)]\n",
    "    is_probem = 0  # początkowa wartość licznika problemów, do którego przydzielamy punkty kar\n",
    "    bonus = 0  # początkowa wartość bonusu, do której dodajemy punkty nagród\n",
    "\n",
    "    for move in route:  # zmieniamy położenie w zależności od wykonanego ruchu\n",
    "\n",
    "        if position.get('x') == exit_labyrinth.get('x') and position.get('y') == exit_labyrinth.get('y') and move == 0:\n",
    "            bonus += bonus_point  # bonus za pozostanie w mecie\n",
    "            continue\n",
    "\n",
    "        new_y, new_x = position.get('y') + moves_mapping.get(move)[0], position.get('x') + moves_mapping.get(move)[1]\n",
    "\n",
    "        \"\"\"Sprawdzamy, czy nowe współrzędne wskazują na dozwolone pole:\"\"\"\n",
    "        if labyrinth[new_y, new_x] == 0:\n",
    "            position['x'], position['y'] = new_x, new_y\n",
    "            history.append(copy.deepcopy(position))\n",
    "\n",
    "            \"\"\"Sprawdzamy, czy trzeba przydzielić karę za powtórzenie pozycji:\"\"\"\n",
    "            if history.count(position) > 1:\n",
    "                is_probem += pos_repeat_point\n",
    "        else:  # pole, na które chce wejść chromosom, nie jest dozwolone!\n",
    "            is_probem += hitting_a_wall_point\n",
    "\n",
    "    \"\"\"Najpierw obliczamy pomocnicze zmienne, dla czytelności:\"\"\"\n",
    "    x_distance = abs(exit_labyrinth.get('x') - position.get('x'))\n",
    "    y_distance = abs(exit_labyrinth.get('y') - position.get('y'))\n",
    "    sum_exit_coordinates = exit_labyrinth.get('x') + exit_labyrinth.get('y')\n",
    "\n",
    "    \"\"\"Faktyczna wartość fitnessu, maksymalnie 1:\"\"\"\n",
    "    fitness_val = (sum_exit_coordinates - x_distance - y_distance) * 2  # użycie metryki taxi\n",
    "    fitness_val += bonus  # dodajemy punkty nagród za czekanie w mecie \"do końca\"\n",
    "    fitness_val -= is_probem  # odejmujemy punkty kar\n",
    "    fitness_val = fitness_val / (sum_exit_coordinates * 2 + max_bonus)\n",
    "\n",
    "    return fitness_val"
   ],
   "id": "30dc30fd523c96e7",
   "outputs": [],
   "execution_count": 9
  },
  {
   "metadata": {
    "ExecuteTime": {
     "end_time": "2024-12-27T12:26:05.171585Z",
     "start_time": "2024-12-27T12:26:05.155838Z"
    }
   },
   "cell_type": "code",
   "source": [
    "def main():\n",
    "    \"\"\"Główna funkcja wykonująca, aplikująca algorytm genetyczny do labiryntu zgodnie z ustawieniami w zmiennych\n",
    "    globalnych oraz z wykorzystaniem zdefiniowanych w skrypcie `projekt01_labirynt_wizualizacje.py` funkcji\n",
    "    do wizualizacji.\n",
    "    \"\"\"\n",
    "    fitness_list = []\n",
    "    times = []\n",
    "    output_list = []\n",
    "    generations_no = []  # nr generacji w danej iteracji, w której osiągnięto najlepsze rozwiązanie\n",
    "\n",
    "    for i in tqdm.tqdm(range(10)):\n",
    "        start = time()  # sprawdzamy czas na starcie\n",
    "\n",
    "        ga_instance = pygad.GA(\n",
    "            gene_space=gene_space,\n",
    "            num_genes=num_genes,\n",
    "            num_generations=num_generations,\n",
    "            num_parents_mating=num_parents_mating,\n",
    "            fitness_func=fitness_fun_new,\n",
    "            sol_per_pop=sol_per_pop,\n",
    "            parent_selection_type=selection,\n",
    "            mutation_type=mutation,\n",
    "            mutation_probability=mutation_prob,\n",
    "            stop_criteria=stop_criteria,\n",
    "            suppress_warnings=True,\n",
    "            K_tournament=k_tournament\n",
    "        )\n",
    "\n",
    "        ga_instance.run()  # uruchamiamy algorytm genetyczny\n",
    "        end = time()  # mierzymy czas na koniec\n",
    "        times.append(end - start)\n",
    "\n",
    "        \"\"\"Ręcznie wizualizujemy historię fitnessu na przestrzeni generacji.\"\"\"\n",
    "        fig, ax = plt.subplots()  # tworzymy osobną figurę na wykresy historii fitnessu!\n",
    "        fitness = ga_instance.best_solutions_fitness  # wartości na oś 0y\n",
    "        generations = list(range(len(fitness)))  # wartości na oś 0x\n",
    "\n",
    "        ax.plot(generations, fitness, color=\"lime\", linewidth=4, drawstyle='steps-post', label='Fitness')\n",
    "\n",
    "        ax.set_xlabel(\"Generations\")\n",
    "        ax.set_ylabel(\"Fitness\")\n",
    "        ax.set_title(\"PyGAD - Generations vs. Fitness\")\n",
    "        ax.legend()  # żeby mieć pewność, że legenda się wyświetli\n",
    "        ax.grid(True)\n",
    "        plt.show()\n",
    "\n",
    "        \"\"\"Zapamiętujemy parametry rozwiązania:\"\"\"\n",
    "        solution, solution_fitness, solution_idx = ga_instance.best_solution()\n",
    "        generations_no.append(ga_instance.best_solution_generation)\n",
    "        fitness_list.append(solution_fitness)\n",
    "        output_list.append(solution)\n",
    "\n",
    "        \"\"\"Wizualizujemy wyniki (trasy, które chromosomy chciały przejść)\"\"\"\n",
    "        gif_filename = 'chromosome_animation' + str(i) + '.gif'\n",
    "        picture_filename = 'chromosome_picture' + str(i) + '.png'\n",
    "        see_route(labyrinth=labyrinth, moves_mapping=moves_mapping, steps=output_list[-1],\n",
    "                  gif_filename=gif_filename, summary_filename=picture_filename)\n",
    "\n",
    "        \"\"\"Wizualizujemy faktyczną trasę, z pominięciem kroków polegających na wejściu na pole niedozwolone\"\"\"\n",
    "        x, y = 1, 1\n",
    "        history = []\n",
    "\n",
    "        for step in output_list[-1]:\n",
    "            new_y, new_x = y + moves_mapping.get(step)[0], x + moves_mapping.get(step)[1]\n",
    "            if 0 <= new_y <= 11 and 0 <= new_x <= 11:\n",
    "                \"\"\"Po zweryfikowaniu, że nowe współrzędne są wewnątrz labiryntu (tzn. mieszczą się w macierzy),\n",
    "                sprawdzamy, czy reprezentują dozwolone pole:\n",
    "                \"\"\"\n",
    "                if labyrinth[new_y, new_x] == 0:\n",
    "                    x, y = new_x, new_y\n",
    "                    history.append(step)\n",
    "                else:\n",
    "                    history.append(0)\n",
    "            else:\n",
    "                print(f\"Dostaliśmy współrzędne x={new_x} oraz y={new_y} poza labiryntem (przy wizualizacji).\")\n",
    "\n",
    "        gif_filename = 'actual_route_animation' + str(i) + '.gif'\n",
    "        picture_filename = 'actual_route_picture' + str(i) + '.png'\n",
    "        see_route(labyrinth=labyrinth, moves_mapping=moves_mapping, steps=history,\n",
    "                  gif_filename=gif_filename, summary_filename=picture_filename)\n",
    "\n",
    "    print(f\"Średni czas działania algorytmu genetycznego: {np.mean(times)}\")\n",
    "    print(f\"Średnia wartość f. fitnessu najlepszego rozwiązania: {np.mean(fitness_list)}\")\n",
    "    print(f\"Średnia liczba generacji do otrzymania najlepszego rozwiązania: {np.mean(generations_no)}\")\n",
    "\n",
    "    print(f\"Historia wyników: \\n\")\n",
    "    for j in range(len(output_list)):\n",
    "        print(output_list[j])"
   ],
   "id": "3d9bc2d4311b956f",
   "outputs": [],
   "execution_count": 10
  },
  {
   "metadata": {},
   "cell_type": "code",
   "outputs": [],
   "execution_count": null,
   "source": "",
   "id": "1024a26880b672f7"
  },
  {
   "metadata": {
    "ExecuteTime": {
     "end_time": "2024-12-27T12:22:04.380356Z",
     "start_time": "2024-12-27T12:22:04.338165Z"
    }
   },
   "cell_type": "code",
   "source": [
    "def generator(genome, length):\n",
    "    return random.sample(genome, length)"
   ],
   "id": "1a381be05799f635",
   "outputs": [],
   "execution_count": 12
  },
  {
   "metadata": {},
   "cell_type": "code",
   "outputs": [],
   "execution_count": null,
   "source": [
    "genetic_algorithm.Population(\n",
    "    initial_pop_size=sol_per_pop,\n",
    "    fit_fun=fitness_fun_new,\n",
    "    genome_generator=generator,\n",
    "    elite_size=0,\n",
    "    args={'genome': (gene_space, num_genes)},\n",
    "    no_parents_pairs=num_parents_mating,\n",
    "    mutation_prob=mutation_prob\n",
    ")"
   ],
   "id": "82e4d0df69ab1ba"
  }
 ],
 "metadata": {
  "kernelspec": {
   "display_name": "Python 3",
   "language": "python",
   "name": "python3"
  },
  "language_info": {
   "codemirror_mode": {
    "name": "ipython",
    "version": 2
   },
   "file_extension": ".py",
   "mimetype": "text/x-python",
   "name": "python",
   "nbconvert_exporter": "python",
   "pygments_lexer": "ipython2",
   "version": "2.7.6"
  }
 },
 "nbformat": 4,
 "nbformat_minor": 5
}
