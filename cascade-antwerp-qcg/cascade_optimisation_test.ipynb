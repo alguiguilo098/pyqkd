{
 "cells": [
  {
   "cell_type": "code",
   "execution_count": 1,
   "id": "initial_id",
   "metadata": {
    "collapsed": true,
    "ExecuteTime": {
     "end_time": "2023-12-03T10:46:16.919080900Z",
     "start_time": "2023-12-03T10:46:16.519341400Z"
    }
   },
   "outputs": [],
   "source": [
    "from bb84 import cascade_blocks_sizes_old, cascade_blocks_sizes\n",
    "from time import time\n",
    "from numpy import arange"
   ]
  },
  {
   "cell_type": "raw",
   "source": [
    "Time test, just to be sure. I'll manually check 60 second and see in which unit does the function produce output, cause I had mixed experiences so far."
   ],
   "metadata": {
    "collapsed": false
   },
   "id": "89bd42a2d9b54e89"
  },
  {
   "cell_type": "code",
   "execution_count": 4,
   "outputs": [],
   "source": [
    "a = time()"
   ],
   "metadata": {
    "collapsed": false,
    "ExecuteTime": {
     "end_time": "2023-12-02T23:01:59.871303Z",
     "start_time": "2023-12-02T23:01:59.859786800Z"
    }
   },
   "id": "a16d4f938c282f10"
  },
  {
   "cell_type": "code",
   "execution_count": 5,
   "outputs": [],
   "source": [
    "b = time()"
   ],
   "metadata": {
    "collapsed": false,
    "ExecuteTime": {
     "end_time": "2023-12-02T23:03:02.523818400Z",
     "start_time": "2023-12-02T23:03:02.520817400Z"
    }
   },
   "id": "28029775e845dbf2"
  },
  {
   "cell_type": "code",
   "execution_count": 6,
   "outputs": [
    {
     "name": "stdout",
     "output_type": "stream",
     "text": [
      "62.66103410720825\n"
     ]
    }
   ],
   "source": [
    "print(b-a)"
   ],
   "metadata": {
    "collapsed": false,
    "ExecuteTime": {
     "end_time": "2023-12-02T23:03:12.265278100Z",
     "start_time": "2023-12-02T23:03:12.251752300Z"
    }
   },
   "id": "6f05123feb03fb78"
  },
  {
   "cell_type": "raw",
   "source": [
    "Test of new method alone:"
   ],
   "metadata": {
    "collapsed": false
   },
   "id": "c7e7a946c6982f50"
  },
  {
   "cell_type": "code",
   "execution_count": 2,
   "outputs": [
    {
     "name": "stdout",
     "output_type": "stream",
     "text": [
      "For QBER=0.1 new function created a list of sizes=[11, 22, 44, 88] in time=318.4764413833618\n",
      "For QBER=0.11 new function created a list of sizes=[10, 20, 40, 80] in time=316.11003589630127\n",
      "For QBER=0.12 new function created a list of sizes=[9, 18, 36, 72] in time=315.8588869571686\n",
      "For QBER=0.13 new function created a list of sizes=[8, 16, 32, 64] in time=314.2532992362976\n",
      "For QBER=0.13999999999999999 new function created a list of sizes=[8, 16, 32, 64] in time=316.73918175697327\n"
     ]
    }
   ],
   "source": [
    "for qber in arange(start=0.10, stop=0.15, step=0.01):\n",
    "    start_new = time()\n",
    "    sizes_new = cascade_blocks_sizes(\n",
    "        quantum_bit_error_rate=qber,\n",
    "        key_length=10000,\n",
    "        n_passes=4\n",
    "    )\n",
    "    end_new = time()\n",
    "    \n",
    "    print(\"For QBER={} new function created a list of sizes={} in time={}\".format(\n",
    "        qber, sizes_new, end_new - start_new \n",
    "    ))"
   ],
   "metadata": {
    "collapsed": false,
    "ExecuteTime": {
     "end_time": "2023-12-03T11:12:55.761271800Z",
     "start_time": "2023-12-03T10:46:34.314522200Z"
    }
   },
   "id": "1d21f6fb5e0f1319"
  },
  {
   "cell_type": "raw",
   "source": [
    "Comparisson:"
   ],
   "metadata": {
    "collapsed": false
   },
   "id": "efa1efa8d2de4fba"
  },
  {
   "cell_type": "code",
   "execution_count": 2,
   "outputs": [
    {
     "name": "stdout",
     "output_type": "stream",
     "text": [
      "For QBER=0.1 new function created a list of sizes=[1, 2, 4, 8] in time=312.3614511489868\n"
     ]
    },
    {
     "ename": "KeyboardInterrupt",
     "evalue": "",
     "output_type": "error",
     "traceback": [
      "\u001B[1;31m---------------------------------------------------------------------------\u001B[0m",
      "\u001B[1;31mKeyboardInterrupt\u001B[0m                         Traceback (most recent call last)",
      "Cell \u001B[1;32mIn[2], line 15\u001B[0m\n\u001B[0;32m     10\u001B[0m \u001B[38;5;28mprint\u001B[39m(\u001B[38;5;124m\"\u001B[39m\u001B[38;5;124mFor QBER=\u001B[39m\u001B[38;5;132;01m{}\u001B[39;00m\u001B[38;5;124m new function created a list of sizes=\u001B[39m\u001B[38;5;132;01m{}\u001B[39;00m\u001B[38;5;124m in time=\u001B[39m\u001B[38;5;132;01m{}\u001B[39;00m\u001B[38;5;124m\"\u001B[39m\u001B[38;5;241m.\u001B[39mformat(\n\u001B[0;32m     11\u001B[0m     qber, sizes_new, end_new \u001B[38;5;241m-\u001B[39m start_new \n\u001B[0;32m     12\u001B[0m ))\n\u001B[0;32m     14\u001B[0m start_old \u001B[38;5;241m=\u001B[39m time()\n\u001B[1;32m---> 15\u001B[0m sizes_old \u001B[38;5;241m=\u001B[39m \u001B[43mcascade_blocks_sizes_old\u001B[49m\u001B[43m(\u001B[49m\n\u001B[0;32m     16\u001B[0m \u001B[43m    \u001B[49m\u001B[43mquantum_bit_error_rate\u001B[49m\u001B[38;5;241;43m=\u001B[39;49m\u001B[43mqber\u001B[49m\u001B[43m,\u001B[49m\n\u001B[0;32m     17\u001B[0m \u001B[43m    \u001B[49m\u001B[43mkey_length\u001B[49m\u001B[38;5;241;43m=\u001B[39;49m\u001B[38;5;241;43m10000\u001B[39;49m\u001B[43m,\u001B[49m\n\u001B[0;32m     18\u001B[0m \u001B[43m    \u001B[49m\u001B[43mn_passes\u001B[49m\u001B[38;5;241;43m=\u001B[39;49m\u001B[38;5;241;43m4\u001B[39;49m\n\u001B[0;32m     19\u001B[0m \u001B[43m\u001B[49m\u001B[43m)\u001B[49m\n\u001B[0;32m     20\u001B[0m end_old \u001B[38;5;241m=\u001B[39m time()\n\u001B[0;32m     22\u001B[0m \u001B[38;5;28mprint\u001B[39m(\u001B[38;5;124m\"\u001B[39m\u001B[38;5;124mFor QBER=\u001B[39m\u001B[38;5;132;01m{}\u001B[39;00m\u001B[38;5;124m old function created a list of sizes=\u001B[39m\u001B[38;5;132;01m{}\u001B[39;00m\u001B[38;5;124m in time=\u001B[39m\u001B[38;5;132;01m{}\u001B[39;00m\u001B[38;5;124m\"\u001B[39m\u001B[38;5;241m.\u001B[39mformat(\n\u001B[0;32m     23\u001B[0m     qber, sizes_old, end_old \u001B[38;5;241m-\u001B[39m start_old \n\u001B[0;32m     24\u001B[0m ))\n",
      "File \u001B[1;32m~\\PycharmProjects\\qkd\\qkd\\cascade-antwerp-qcg\\bb84.py:145\u001B[0m, in \u001B[0;36mcascade_blocks_sizes_old\u001B[1;34m(quantum_bit_error_rate, key_length, n_passes)\u001B[0m\n\u001B[0;32m    143\u001B[0m prob_sum \u001B[38;5;241m=\u001B[39m \u001B[38;5;241m0\u001B[39m\n\u001B[0;32m    144\u001B[0m \u001B[38;5;28;01mfor\u001B[39;00m k \u001B[38;5;129;01min\u001B[39;00m \u001B[38;5;28mlist\u001B[39m(np\u001B[38;5;241m.\u001B[39marange(j \u001B[38;5;241m+\u001B[39m \u001B[38;5;241m1\u001B[39m, size \u001B[38;5;241m/\u001B[39m\u001B[38;5;241m/\u001B[39m \u001B[38;5;241m2\u001B[39m \u001B[38;5;241m+\u001B[39m \u001B[38;5;241m1\u001B[39m, \u001B[38;5;241m1\u001B[39m)):\n\u001B[1;32m--> 145\u001B[0m     prob_sum \u001B[38;5;241m+\u001B[39m\u001B[38;5;241m=\u001B[39m \u001B[43mnumerical_error_prob\u001B[49m\u001B[43m(\u001B[49m\u001B[43mn_errors\u001B[49m\u001B[38;5;241;43m=\u001B[39;49m\u001B[38;5;241;43m2\u001B[39;49m\u001B[43m \u001B[49m\u001B[38;5;241;43m*\u001B[39;49m\u001B[43m \u001B[49m\u001B[43mk\u001B[49m\u001B[43m,\u001B[49m\u001B[43m \u001B[49m\u001B[43mpass_size\u001B[49m\u001B[38;5;241;43m=\u001B[39;49m\u001B[43msize\u001B[49m\u001B[43m,\u001B[49m\u001B[43m \u001B[49m\u001B[43mqber\u001B[49m\u001B[38;5;241;43m=\u001B[39;49m\u001B[43mquantum_bit_error_rate\u001B[49m\u001B[43m)\u001B[49m\n\u001B[0;32m    147\u001B[0m \u001B[38;5;28;01mif\u001B[39;00m prob_sum \u001B[38;5;241m<\u001B[39m\u001B[38;5;241m=\u001B[39m numerical_error_prob(n_errors\u001B[38;5;241m=\u001B[39m\u001B[38;5;241m2\u001B[39m \u001B[38;5;241m*\u001B[39m j, pass_size\u001B[38;5;241m=\u001B[39msize, qber\u001B[38;5;241m=\u001B[39mquantum_bit_error_rate) \u001B[38;5;241m/\u001B[39m \u001B[38;5;241m4\u001B[39m:\n\u001B[0;32m    148\u001B[0m     second_condition \u001B[38;5;241m=\u001B[39m \u001B[38;5;28;01mTrue\u001B[39;00m\n",
      "File \u001B[1;32m~\\PycharmProjects\\qkd\\qkd\\cascade-antwerp-qcg\\bb84.py:94\u001B[0m, in \u001B[0;36mnumerical_error_prob\u001B[1;34m(n_errors, pass_size, qber)\u001B[0m\n\u001B[0;32m     93\u001B[0m \u001B[38;5;28;01mdef\u001B[39;00m \u001B[38;5;21mnumerical_error_prob\u001B[39m(n_errors, pass_size, qber):  \u001B[38;5;66;03m# probability that n_errors remain\u001B[39;00m\n\u001B[1;32m---> 94\u001B[0m     prob \u001B[38;5;241m=\u001B[39m binom\u001B[38;5;241m.\u001B[39mpmf(n_errors, pass_size, qber) \u001B[38;5;241m+\u001B[39m \u001B[43mbinom\u001B[49m\u001B[38;5;241;43m.\u001B[39;49m\u001B[43mpmf\u001B[49m\u001B[43m(\u001B[49m\u001B[43mn_errors\u001B[49m\u001B[43m \u001B[49m\u001B[38;5;241;43m+\u001B[39;49m\u001B[43m \u001B[49m\u001B[38;5;241;43m1\u001B[39;49m\u001B[43m,\u001B[49m\u001B[43m \u001B[49m\u001B[43mpass_size\u001B[49m\u001B[43m,\u001B[49m\u001B[43m \u001B[49m\u001B[43mqber\u001B[49m\u001B[43m)\u001B[49m\n\u001B[0;32m     95\u001B[0m     \u001B[38;5;28;01mreturn\u001B[39;00m prob\n",
      "File \u001B[1;32m~\\PycharmProjects\\qkd\\venv\\Lib\\site-packages\\scipy\\stats\\_distn_infrastructure.py:3378\u001B[0m, in \u001B[0;36mrv_discrete.pmf\u001B[1;34m(self, k, *args, **kwds)\u001B[0m\n\u001B[0;32m   3376\u001B[0m \u001B[38;5;28;01mif\u001B[39;00m np\u001B[38;5;241m.\u001B[39many(cond):\n\u001B[0;32m   3377\u001B[0m     goodargs \u001B[38;5;241m=\u001B[39m argsreduce(cond, \u001B[38;5;241m*\u001B[39m((k,)\u001B[38;5;241m+\u001B[39margs))\n\u001B[1;32m-> 3378\u001B[0m     \u001B[43mplace\u001B[49m\u001B[43m(\u001B[49m\u001B[43moutput\u001B[49m\u001B[43m,\u001B[49m\u001B[43m \u001B[49m\u001B[43mcond\u001B[49m\u001B[43m,\u001B[49m\u001B[43m \u001B[49m\u001B[43mnp\u001B[49m\u001B[38;5;241;43m.\u001B[39;49m\u001B[43mclip\u001B[49m\u001B[43m(\u001B[49m\u001B[38;5;28;43mself\u001B[39;49m\u001B[38;5;241;43m.\u001B[39;49m\u001B[43m_pmf\u001B[49m\u001B[43m(\u001B[49m\u001B[38;5;241;43m*\u001B[39;49m\u001B[43mgoodargs\u001B[49m\u001B[43m)\u001B[49m\u001B[43m,\u001B[49m\u001B[43m \u001B[49m\u001B[38;5;241;43m0\u001B[39;49m\u001B[43m,\u001B[49m\u001B[43m \u001B[49m\u001B[38;5;241;43m1\u001B[39;49m\u001B[43m)\u001B[49m\u001B[43m)\u001B[49m\n\u001B[0;32m   3379\u001B[0m \u001B[38;5;28;01mif\u001B[39;00m output\u001B[38;5;241m.\u001B[39mndim \u001B[38;5;241m==\u001B[39m \u001B[38;5;241m0\u001B[39m:\n\u001B[0;32m   3380\u001B[0m     \u001B[38;5;28;01mreturn\u001B[39;00m output[()]\n",
      "File \u001B[1;32m~\\PycharmProjects\\qkd\\venv\\Lib\\site-packages\\numpy\\lib\\function_base.py:1954\u001B[0m, in \u001B[0;36mplace\u001B[1;34m(arr, mask, vals)\u001B[0m\n\u001B[0;32m   1917\u001B[0m \u001B[38;5;129m@array_function_dispatch\u001B[39m(_place_dispatcher)\n\u001B[0;32m   1918\u001B[0m \u001B[38;5;28;01mdef\u001B[39;00m \u001B[38;5;21mplace\u001B[39m(arr, mask, vals):\n\u001B[0;32m   1919\u001B[0m \u001B[38;5;250m    \u001B[39m\u001B[38;5;124;03m\"\"\"\u001B[39;00m\n\u001B[0;32m   1920\u001B[0m \u001B[38;5;124;03m    Change elements of an array based on conditional and input values.\u001B[39;00m\n\u001B[0;32m   1921\u001B[0m \n\u001B[1;32m   (...)\u001B[0m\n\u001B[0;32m   1952\u001B[0m \n\u001B[0;32m   1953\u001B[0m \u001B[38;5;124;03m    \"\"\"\u001B[39;00m\n\u001B[1;32m-> 1954\u001B[0m     \u001B[38;5;28;01mreturn\u001B[39;00m \u001B[43m_place\u001B[49m\u001B[43m(\u001B[49m\u001B[43marr\u001B[49m\u001B[43m,\u001B[49m\u001B[43m \u001B[49m\u001B[43mmask\u001B[49m\u001B[43m,\u001B[49m\u001B[43m \u001B[49m\u001B[43mvals\u001B[49m\u001B[43m)\u001B[49m\n",
      "\u001B[1;31mKeyboardInterrupt\u001B[0m: "
     ]
    }
   ],
   "source": [
    "for qber in arange(start=0.10, stop=0.15, step=0.01):\n",
    "    start_new = time()\n",
    "    sizes_new = cascade_blocks_sizes(\n",
    "        quantum_bit_error_rate=qber,\n",
    "        key_length=10000,\n",
    "        n_passes=4\n",
    "    )\n",
    "    end_new = time()\n",
    "    \n",
    "    print(\"For QBER={} new function created a list of sizes={} in time={}\".format(\n",
    "        qber, sizes_new, end_new - start_new \n",
    "    ))\n",
    "    \n",
    "    start_old = time()\n",
    "    sizes_old = cascade_blocks_sizes_old(\n",
    "        quantum_bit_error_rate=qber,\n",
    "        key_length=10000,\n",
    "        n_passes=4\n",
    "    )\n",
    "    end_old = time()\n",
    "    \n",
    "    print(\"For QBER={} old function created a list of sizes={} in time={}\".format(\n",
    "        qber, sizes_old, end_old - start_old \n",
    "    ))"
   ],
   "metadata": {
    "collapsed": false,
    "ExecuteTime": {
     "end_time": "2023-12-03T01:39:41.628769400Z",
     "start_time": "2023-12-02T23:58:05.341599700Z"
    }
   },
   "id": "b47c0d711928a451"
  },
  {
   "cell_type": "code",
   "execution_count": null,
   "outputs": [],
   "source": [],
   "metadata": {
    "collapsed": false
   },
   "id": "b04156b1b4a5af35"
  }
 ],
 "metadata": {
  "kernelspec": {
   "display_name": "Python 3",
   "language": "python",
   "name": "python3"
  },
  "language_info": {
   "codemirror_mode": {
    "name": "ipython",
    "version": 2
   },
   "file_extension": ".py",
   "mimetype": "text/x-python",
   "name": "python",
   "nbconvert_exporter": "python",
   "pygments_lexer": "ipython2",
   "version": "2.7.6"
  }
 },
 "nbformat": 4,
 "nbformat_minor": 5
}
