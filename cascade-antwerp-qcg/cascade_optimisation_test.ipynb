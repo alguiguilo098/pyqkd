{
 "cells": [
  {
   "cell_type": "code",
   "execution_count": 1,
   "id": "initial_id",
   "metadata": {
    "collapsed": true,
    "ExecuteTime": {
     "end_time": "2023-12-05T12:22:47.836282300Z",
     "start_time": "2023-12-05T12:22:45.602683400Z"
    }
   },
   "outputs": [],
   "source": [
    "from bb84 import cascade_blocks_sizes_old, cascade_blocks_sizes\n",
    "from time import time\n",
    "from numpy import arange"
   ]
  },
  {
   "cell_type": "raw",
   "source": [
    "Time test, just to be sure. I'll manually check 60 second and see in which unit does the function produce output, cause I had mixed experiences so far."
   ],
   "metadata": {
    "collapsed": false
   },
   "id": "89bd42a2d9b54e89"
  },
  {
   "cell_type": "code",
   "execution_count": 4,
   "outputs": [],
   "source": [
    "a = time()"
   ],
   "metadata": {
    "collapsed": false,
    "ExecuteTime": {
     "end_time": "2023-12-02T23:01:59.871303Z",
     "start_time": "2023-12-02T23:01:59.859786800Z"
    }
   },
   "id": "a16d4f938c282f10"
  },
  {
   "cell_type": "code",
   "execution_count": 5,
   "outputs": [],
   "source": [
    "b = time()"
   ],
   "metadata": {
    "collapsed": false,
    "ExecuteTime": {
     "end_time": "2023-12-02T23:03:02.523818400Z",
     "start_time": "2023-12-02T23:03:02.520817400Z"
    }
   },
   "id": "28029775e845dbf2"
  },
  {
   "cell_type": "code",
   "execution_count": 6,
   "outputs": [
    {
     "name": "stdout",
     "output_type": "stream",
     "text": [
      "62.66103410720825\n"
     ]
    }
   ],
   "source": [
    "print(b-a)"
   ],
   "metadata": {
    "collapsed": false,
    "ExecuteTime": {
     "end_time": "2023-12-02T23:03:12.265278100Z",
     "start_time": "2023-12-02T23:03:12.251752300Z"
    }
   },
   "id": "6f05123feb03fb78"
  },
  {
   "cell_type": "raw",
   "source": [
    "Test of new method alone:"
   ],
   "metadata": {
    "collapsed": false
   },
   "id": "c7e7a946c6982f50"
  },
  {
   "cell_type": "code",
   "execution_count": 2,
   "outputs": [
    {
     "name": "stdout",
     "output_type": "stream",
     "text": [
      "For QBER=0.01 new function created a list of sizes=[0, 0, 0, 0] in time=398.35778856277466\n"
     ]
    },
    {
     "ename": "KeyboardInterrupt",
     "evalue": "",
     "output_type": "error",
     "traceback": [
      "\u001B[1;31m---------------------------------------------------------------------------\u001B[0m",
      "\u001B[1;31mKeyboardInterrupt\u001B[0m                         Traceback (most recent call last)",
      "Cell \u001B[1;32mIn[2], line 3\u001B[0m\n\u001B[0;32m      1\u001B[0m \u001B[38;5;28;01mfor\u001B[39;00m qber \u001B[38;5;129;01min\u001B[39;00m arange(start\u001B[38;5;241m=\u001B[39m\u001B[38;5;241m0.01\u001B[39m, stop\u001B[38;5;241m=\u001B[39m\u001B[38;5;241m0.15\u001B[39m, step\u001B[38;5;241m=\u001B[39m\u001B[38;5;241m0.01\u001B[39m):\n\u001B[0;32m      2\u001B[0m     start_new \u001B[38;5;241m=\u001B[39m time()\n\u001B[1;32m----> 3\u001B[0m     sizes_new \u001B[38;5;241m=\u001B[39m \u001B[43mcascade_blocks_sizes\u001B[49m\u001B[43m(\u001B[49m\n\u001B[0;32m      4\u001B[0m \u001B[43m        \u001B[49m\u001B[43mquantum_bit_error_rate\u001B[49m\u001B[38;5;241;43m=\u001B[39;49m\u001B[43mqber\u001B[49m\u001B[43m,\u001B[49m\n\u001B[0;32m      5\u001B[0m \u001B[43m        \u001B[49m\u001B[43mkey_length\u001B[49m\u001B[38;5;241;43m=\u001B[39;49m\u001B[38;5;241;43m10000\u001B[39;49m\u001B[43m,\u001B[49m\n\u001B[0;32m      6\u001B[0m \u001B[43m        \u001B[49m\u001B[43mn_passes\u001B[49m\u001B[38;5;241;43m=\u001B[39;49m\u001B[38;5;241;43m4\u001B[39;49m\n\u001B[0;32m      7\u001B[0m \u001B[43m    \u001B[49m\u001B[43m)\u001B[49m\n\u001B[0;32m      8\u001B[0m     end_new \u001B[38;5;241m=\u001B[39m time()\n\u001B[0;32m     10\u001B[0m     \u001B[38;5;28mprint\u001B[39m(\u001B[38;5;124m\"\u001B[39m\u001B[38;5;124mFor QBER=\u001B[39m\u001B[38;5;132;01m{}\u001B[39;00m\u001B[38;5;124m new function created a list of sizes=\u001B[39m\u001B[38;5;132;01m{}\u001B[39;00m\u001B[38;5;124m in time=\u001B[39m\u001B[38;5;132;01m{}\u001B[39;00m\u001B[38;5;124m\"\u001B[39m\u001B[38;5;241m.\u001B[39mformat(\n\u001B[0;32m     11\u001B[0m         qber, sizes_new, end_new \u001B[38;5;241m-\u001B[39m start_new \n\u001B[0;32m     12\u001B[0m     ))\n",
      "File \u001B[1;32m~\\PycharmProjects\\qkd\\cascade-antwerp-qcg\\bb84.py:213\u001B[0m, in \u001B[0;36mcascade_blocks_sizes\u001B[1;34m(quantum_bit_error_rate, key_length, n_passes)\u001B[0m\n\u001B[0;32m    211\u001B[0m second_condition \u001B[38;5;241m=\u001B[39m \u001B[38;5;28;01mFalse\u001B[39;00m\n\u001B[0;32m    212\u001B[0m \u001B[38;5;28;01mfor\u001B[39;00m j \u001B[38;5;129;01min\u001B[39;00m \u001B[38;5;28mlist\u001B[39m(np\u001B[38;5;241m.\u001B[39marange(\u001B[38;5;241m1\u001B[39m, size \u001B[38;5;241m+\u001B[39m \u001B[38;5;241m1\u001B[39m, \u001B[38;5;241m1\u001B[39m)):\n\u001B[1;32m--> 213\u001B[0m     right_side \u001B[38;5;241m=\u001B[39m \u001B[43mnumerical_error_prob\u001B[49m\u001B[43m(\u001B[49m\n\u001B[0;32m    214\u001B[0m \u001B[43m        \u001B[49m\u001B[43mn_errors\u001B[49m\u001B[38;5;241;43m=\u001B[39;49m\u001B[38;5;241;43m2\u001B[39;49m\u001B[43m \u001B[49m\u001B[38;5;241;43m*\u001B[39;49m\u001B[43m \u001B[49m\u001B[43mj\u001B[49m\u001B[43m,\u001B[49m\n\u001B[0;32m    215\u001B[0m \u001B[43m        \u001B[49m\u001B[43mpass_size\u001B[49m\u001B[38;5;241;43m=\u001B[39;49m\u001B[43msize\u001B[49m\u001B[43m,\u001B[49m\n\u001B[0;32m    216\u001B[0m \u001B[43m        \u001B[49m\u001B[43mqber\u001B[49m\u001B[38;5;241;43m=\u001B[39;49m\u001B[43mquantum_bit_error_rate\u001B[49m\u001B[43m)\u001B[49m \u001B[38;5;241m/\u001B[39m \u001B[38;5;241m4\u001B[39m\n\u001B[0;32m    217\u001B[0m     left_side \u001B[38;5;241m=\u001B[39m sum_error_prob_betainc(\n\u001B[0;32m    218\u001B[0m         first_pass_size\u001B[38;5;241m=\u001B[39msize,\n\u001B[0;32m    219\u001B[0m         n_errors\u001B[38;5;241m=\u001B[39m\u001B[38;5;241m2\u001B[39m \u001B[38;5;241m*\u001B[39m j,\n\u001B[0;32m    220\u001B[0m         qber\u001B[38;5;241m=\u001B[39mquantum_bit_error_rate\n\u001B[0;32m    221\u001B[0m     )\n\u001B[0;32m    223\u001B[0m \u001B[38;5;250m    \u001B[39m\u001B[38;5;124;03m\"\"\"Now we check inequality (2) - must work for all possible numbers of errors in a block of given size.\"\"\"\u001B[39;00m\n",
      "File \u001B[1;32m~\\PycharmProjects\\qkd\\cascade-antwerp-qcg\\bb84.py:94\u001B[0m, in \u001B[0;36mnumerical_error_prob\u001B[1;34m(n_errors, pass_size, qber)\u001B[0m\n\u001B[0;32m     93\u001B[0m \u001B[38;5;28;01mdef\u001B[39;00m \u001B[38;5;21mnumerical_error_prob\u001B[39m(n_errors, pass_size, qber):  \u001B[38;5;66;03m# probability that n_errors remain\u001B[39;00m\n\u001B[1;32m---> 94\u001B[0m     prob \u001B[38;5;241m=\u001B[39m binom\u001B[38;5;241m.\u001B[39mpmf(n_errors, pass_size, qber) \u001B[38;5;241m+\u001B[39m \u001B[43mbinom\u001B[49m\u001B[38;5;241;43m.\u001B[39;49m\u001B[43mpmf\u001B[49m\u001B[43m(\u001B[49m\u001B[43mn_errors\u001B[49m\u001B[43m \u001B[49m\u001B[38;5;241;43m+\u001B[39;49m\u001B[43m \u001B[49m\u001B[38;5;241;43m1\u001B[39;49m\u001B[43m,\u001B[49m\u001B[43m \u001B[49m\u001B[43mpass_size\u001B[49m\u001B[43m,\u001B[49m\u001B[43m \u001B[49m\u001B[43mqber\u001B[49m\u001B[43m)\u001B[49m\n\u001B[0;32m     95\u001B[0m     \u001B[38;5;28;01mreturn\u001B[39;00m prob\n",
      "File \u001B[1;32m~\\AppData\\Local\\Programs\\Python\\Python311\\Lib\\site-packages\\scipy\\stats\\_distn_infrastructure.py:3383\u001B[0m, in \u001B[0;36mrv_discrete.pmf\u001B[1;34m(self, k, *args, **kwds)\u001B[0m\n\u001B[0;32m   3381\u001B[0m _a, _b \u001B[38;5;241m=\u001B[39m \u001B[38;5;28mself\u001B[39m\u001B[38;5;241m.\u001B[39m_get_support(\u001B[38;5;241m*\u001B[39margs)\n\u001B[0;32m   3382\u001B[0m k \u001B[38;5;241m=\u001B[39m asarray((k\u001B[38;5;241m-\u001B[39mloc))\n\u001B[1;32m-> 3383\u001B[0m cond0 \u001B[38;5;241m=\u001B[39m \u001B[38;5;28;43mself\u001B[39;49m\u001B[38;5;241;43m.\u001B[39;49m\u001B[43m_argcheck\u001B[49m\u001B[43m(\u001B[49m\u001B[38;5;241;43m*\u001B[39;49m\u001B[43margs\u001B[49m\u001B[43m)\u001B[49m\n\u001B[0;32m   3384\u001B[0m cond1 \u001B[38;5;241m=\u001B[39m (k \u001B[38;5;241m>\u001B[39m\u001B[38;5;241m=\u001B[39m _a) \u001B[38;5;241m&\u001B[39m (k \u001B[38;5;241m<\u001B[39m\u001B[38;5;241m=\u001B[39m _b)\n\u001B[0;32m   3385\u001B[0m \u001B[38;5;28;01mif\u001B[39;00m \u001B[38;5;129;01mnot\u001B[39;00m \u001B[38;5;28misinstance\u001B[39m(\u001B[38;5;28mself\u001B[39m, rv_sample):\n",
      "File \u001B[1;32m~\\AppData\\Local\\Programs\\Python\\Python311\\Lib\\site-packages\\scipy\\stats\\_discrete_distns.py:64\u001B[0m, in \u001B[0;36mbinom_gen._argcheck\u001B[1;34m(self, n, p)\u001B[0m\n\u001B[0;32m     61\u001B[0m \u001B[38;5;28;01mdef\u001B[39;00m \u001B[38;5;21m_rvs\u001B[39m(\u001B[38;5;28mself\u001B[39m, n, p, size\u001B[38;5;241m=\u001B[39m\u001B[38;5;28;01mNone\u001B[39;00m, random_state\u001B[38;5;241m=\u001B[39m\u001B[38;5;28;01mNone\u001B[39;00m):\n\u001B[0;32m     62\u001B[0m     \u001B[38;5;28;01mreturn\u001B[39;00m random_state\u001B[38;5;241m.\u001B[39mbinomial(n, p, size)\n\u001B[1;32m---> 64\u001B[0m \u001B[38;5;28;01mdef\u001B[39;00m \u001B[38;5;21m_argcheck\u001B[39m(\u001B[38;5;28mself\u001B[39m, n, p):\n\u001B[0;32m     65\u001B[0m     \u001B[38;5;28;01mreturn\u001B[39;00m (n \u001B[38;5;241m>\u001B[39m\u001B[38;5;241m=\u001B[39m \u001B[38;5;241m0\u001B[39m) \u001B[38;5;241m&\u001B[39m _isintegral(n) \u001B[38;5;241m&\u001B[39m (p \u001B[38;5;241m>\u001B[39m\u001B[38;5;241m=\u001B[39m \u001B[38;5;241m0\u001B[39m) \u001B[38;5;241m&\u001B[39m (p \u001B[38;5;241m<\u001B[39m\u001B[38;5;241m=\u001B[39m \u001B[38;5;241m1\u001B[39m)\n\u001B[0;32m     67\u001B[0m \u001B[38;5;28;01mdef\u001B[39;00m \u001B[38;5;21m_get_support\u001B[39m(\u001B[38;5;28mself\u001B[39m, n, p):\n",
      "\u001B[1;31mKeyboardInterrupt\u001B[0m: "
     ]
    }
   ],
   "source": [
    "for qber in arange(start=0.01, stop=0.15, step=0.01):\n",
    "    start_new = time()\n",
    "    sizes_new = cascade_blocks_sizes(\n",
    "        quantum_bit_error_rate=qber,\n",
    "        key_length=10000,\n",
    "        n_passes=4\n",
    "    )\n",
    "    end_new = time()\n",
    "    \n",
    "    print(\"For QBER={} new function created a list of sizes={} in time={}\".format(\n",
    "        qber, sizes_new, end_new - start_new \n",
    "    ))"
   ],
   "metadata": {
    "collapsed": false,
    "ExecuteTime": {
     "end_time": "2023-12-05T12:35:41.117886100Z",
     "start_time": "2023-12-05T12:23:04.987125Z"
    }
   },
   "id": "1d21f6fb5e0f1319"
  },
  {
   "cell_type": "raw",
   "source": [
    "Comparisson:"
   ],
   "metadata": {
    "collapsed": false
   },
   "id": "efa1efa8d2de4fba"
  },
  {
   "cell_type": "code",
   "execution_count": 2,
   "outputs": [
    {
     "name": "stdout",
     "output_type": "stream",
     "text": [
      "For QBER=0.1 new function created a list of sizes=[1, 2, 4, 8] in time=312.3614511489868\n"
     ]
    },
    {
     "ename": "KeyboardInterrupt",
     "evalue": "",
     "output_type": "error",
     "traceback": [
      "\u001B[1;31m---------------------------------------------------------------------------\u001B[0m",
      "\u001B[1;31mKeyboardInterrupt\u001B[0m                         Traceback (most recent call last)",
      "Cell \u001B[1;32mIn[2], line 15\u001B[0m\n\u001B[0;32m     10\u001B[0m \u001B[38;5;28mprint\u001B[39m(\u001B[38;5;124m\"\u001B[39m\u001B[38;5;124mFor QBER=\u001B[39m\u001B[38;5;132;01m{}\u001B[39;00m\u001B[38;5;124m new function created a list of sizes=\u001B[39m\u001B[38;5;132;01m{}\u001B[39;00m\u001B[38;5;124m in time=\u001B[39m\u001B[38;5;132;01m{}\u001B[39;00m\u001B[38;5;124m\"\u001B[39m\u001B[38;5;241m.\u001B[39mformat(\n\u001B[0;32m     11\u001B[0m     qber, sizes_new, end_new \u001B[38;5;241m-\u001B[39m start_new \n\u001B[0;32m     12\u001B[0m ))\n\u001B[0;32m     14\u001B[0m start_old \u001B[38;5;241m=\u001B[39m time()\n\u001B[1;32m---> 15\u001B[0m sizes_old \u001B[38;5;241m=\u001B[39m \u001B[43mcascade_blocks_sizes_old\u001B[49m\u001B[43m(\u001B[49m\n\u001B[0;32m     16\u001B[0m \u001B[43m    \u001B[49m\u001B[43mquantum_bit_error_rate\u001B[49m\u001B[38;5;241;43m=\u001B[39;49m\u001B[43mqber\u001B[49m\u001B[43m,\u001B[49m\n\u001B[0;32m     17\u001B[0m \u001B[43m    \u001B[49m\u001B[43mkey_length\u001B[49m\u001B[38;5;241;43m=\u001B[39;49m\u001B[38;5;241;43m10000\u001B[39;49m\u001B[43m,\u001B[49m\n\u001B[0;32m     18\u001B[0m \u001B[43m    \u001B[49m\u001B[43mn_passes\u001B[49m\u001B[38;5;241;43m=\u001B[39;49m\u001B[38;5;241;43m4\u001B[39;49m\n\u001B[0;32m     19\u001B[0m \u001B[43m\u001B[49m\u001B[43m)\u001B[49m\n\u001B[0;32m     20\u001B[0m end_old \u001B[38;5;241m=\u001B[39m time()\n\u001B[0;32m     22\u001B[0m \u001B[38;5;28mprint\u001B[39m(\u001B[38;5;124m\"\u001B[39m\u001B[38;5;124mFor QBER=\u001B[39m\u001B[38;5;132;01m{}\u001B[39;00m\u001B[38;5;124m old function created a list of sizes=\u001B[39m\u001B[38;5;132;01m{}\u001B[39;00m\u001B[38;5;124m in time=\u001B[39m\u001B[38;5;132;01m{}\u001B[39;00m\u001B[38;5;124m\"\u001B[39m\u001B[38;5;241m.\u001B[39mformat(\n\u001B[0;32m     23\u001B[0m     qber, sizes_old, end_old \u001B[38;5;241m-\u001B[39m start_old \n\u001B[0;32m     24\u001B[0m ))\n",
      "File \u001B[1;32m~\\PycharmProjects\\qkd\\qkd\\cascade-antwerp-qcg\\bb84.py:145\u001B[0m, in \u001B[0;36mcascade_blocks_sizes_old\u001B[1;34m(quantum_bit_error_rate, key_length, n_passes)\u001B[0m\n\u001B[0;32m    143\u001B[0m prob_sum \u001B[38;5;241m=\u001B[39m \u001B[38;5;241m0\u001B[39m\n\u001B[0;32m    144\u001B[0m \u001B[38;5;28;01mfor\u001B[39;00m k \u001B[38;5;129;01min\u001B[39;00m \u001B[38;5;28mlist\u001B[39m(np\u001B[38;5;241m.\u001B[39marange(j \u001B[38;5;241m+\u001B[39m \u001B[38;5;241m1\u001B[39m, size \u001B[38;5;241m/\u001B[39m\u001B[38;5;241m/\u001B[39m \u001B[38;5;241m2\u001B[39m \u001B[38;5;241m+\u001B[39m \u001B[38;5;241m1\u001B[39m, \u001B[38;5;241m1\u001B[39m)):\n\u001B[1;32m--> 145\u001B[0m     prob_sum \u001B[38;5;241m+\u001B[39m\u001B[38;5;241m=\u001B[39m \u001B[43mnumerical_error_prob\u001B[49m\u001B[43m(\u001B[49m\u001B[43mn_errors\u001B[49m\u001B[38;5;241;43m=\u001B[39;49m\u001B[38;5;241;43m2\u001B[39;49m\u001B[43m \u001B[49m\u001B[38;5;241;43m*\u001B[39;49m\u001B[43m \u001B[49m\u001B[43mk\u001B[49m\u001B[43m,\u001B[49m\u001B[43m \u001B[49m\u001B[43mpass_size\u001B[49m\u001B[38;5;241;43m=\u001B[39;49m\u001B[43msize\u001B[49m\u001B[43m,\u001B[49m\u001B[43m \u001B[49m\u001B[43mqber\u001B[49m\u001B[38;5;241;43m=\u001B[39;49m\u001B[43mquantum_bit_error_rate\u001B[49m\u001B[43m)\u001B[49m\n\u001B[0;32m    147\u001B[0m \u001B[38;5;28;01mif\u001B[39;00m prob_sum \u001B[38;5;241m<\u001B[39m\u001B[38;5;241m=\u001B[39m numerical_error_prob(n_errors\u001B[38;5;241m=\u001B[39m\u001B[38;5;241m2\u001B[39m \u001B[38;5;241m*\u001B[39m j, pass_size\u001B[38;5;241m=\u001B[39msize, qber\u001B[38;5;241m=\u001B[39mquantum_bit_error_rate) \u001B[38;5;241m/\u001B[39m \u001B[38;5;241m4\u001B[39m:\n\u001B[0;32m    148\u001B[0m     second_condition \u001B[38;5;241m=\u001B[39m \u001B[38;5;28;01mTrue\u001B[39;00m\n",
      "File \u001B[1;32m~\\PycharmProjects\\qkd\\qkd\\cascade-antwerp-qcg\\bb84.py:94\u001B[0m, in \u001B[0;36mnumerical_error_prob\u001B[1;34m(n_errors, pass_size, qber)\u001B[0m\n\u001B[0;32m     93\u001B[0m \u001B[38;5;28;01mdef\u001B[39;00m \u001B[38;5;21mnumerical_error_prob\u001B[39m(n_errors, pass_size, qber):  \u001B[38;5;66;03m# probability that n_errors remain\u001B[39;00m\n\u001B[1;32m---> 94\u001B[0m     prob \u001B[38;5;241m=\u001B[39m binom\u001B[38;5;241m.\u001B[39mpmf(n_errors, pass_size, qber) \u001B[38;5;241m+\u001B[39m \u001B[43mbinom\u001B[49m\u001B[38;5;241;43m.\u001B[39;49m\u001B[43mpmf\u001B[49m\u001B[43m(\u001B[49m\u001B[43mn_errors\u001B[49m\u001B[43m \u001B[49m\u001B[38;5;241;43m+\u001B[39;49m\u001B[43m \u001B[49m\u001B[38;5;241;43m1\u001B[39;49m\u001B[43m,\u001B[49m\u001B[43m \u001B[49m\u001B[43mpass_size\u001B[49m\u001B[43m,\u001B[49m\u001B[43m \u001B[49m\u001B[43mqber\u001B[49m\u001B[43m)\u001B[49m\n\u001B[0;32m     95\u001B[0m     \u001B[38;5;28;01mreturn\u001B[39;00m prob\n",
      "File \u001B[1;32m~\\PycharmProjects\\qkd\\venv\\Lib\\site-packages\\scipy\\stats\\_distn_infrastructure.py:3378\u001B[0m, in \u001B[0;36mrv_discrete.pmf\u001B[1;34m(self, k, *args, **kwds)\u001B[0m\n\u001B[0;32m   3376\u001B[0m \u001B[38;5;28;01mif\u001B[39;00m np\u001B[38;5;241m.\u001B[39many(cond):\n\u001B[0;32m   3377\u001B[0m     goodargs \u001B[38;5;241m=\u001B[39m argsreduce(cond, \u001B[38;5;241m*\u001B[39m((k,)\u001B[38;5;241m+\u001B[39margs))\n\u001B[1;32m-> 3378\u001B[0m     \u001B[43mplace\u001B[49m\u001B[43m(\u001B[49m\u001B[43moutput\u001B[49m\u001B[43m,\u001B[49m\u001B[43m \u001B[49m\u001B[43mcond\u001B[49m\u001B[43m,\u001B[49m\u001B[43m \u001B[49m\u001B[43mnp\u001B[49m\u001B[38;5;241;43m.\u001B[39;49m\u001B[43mclip\u001B[49m\u001B[43m(\u001B[49m\u001B[38;5;28;43mself\u001B[39;49m\u001B[38;5;241;43m.\u001B[39;49m\u001B[43m_pmf\u001B[49m\u001B[43m(\u001B[49m\u001B[38;5;241;43m*\u001B[39;49m\u001B[43mgoodargs\u001B[49m\u001B[43m)\u001B[49m\u001B[43m,\u001B[49m\u001B[43m \u001B[49m\u001B[38;5;241;43m0\u001B[39;49m\u001B[43m,\u001B[49m\u001B[43m \u001B[49m\u001B[38;5;241;43m1\u001B[39;49m\u001B[43m)\u001B[49m\u001B[43m)\u001B[49m\n\u001B[0;32m   3379\u001B[0m \u001B[38;5;28;01mif\u001B[39;00m output\u001B[38;5;241m.\u001B[39mndim \u001B[38;5;241m==\u001B[39m \u001B[38;5;241m0\u001B[39m:\n\u001B[0;32m   3380\u001B[0m     \u001B[38;5;28;01mreturn\u001B[39;00m output[()]\n",
      "File \u001B[1;32m~\\PycharmProjects\\qkd\\venv\\Lib\\site-packages\\numpy\\lib\\function_base.py:1954\u001B[0m, in \u001B[0;36mplace\u001B[1;34m(arr, mask, vals)\u001B[0m\n\u001B[0;32m   1917\u001B[0m \u001B[38;5;129m@array_function_dispatch\u001B[39m(_place_dispatcher)\n\u001B[0;32m   1918\u001B[0m \u001B[38;5;28;01mdef\u001B[39;00m \u001B[38;5;21mplace\u001B[39m(arr, mask, vals):\n\u001B[0;32m   1919\u001B[0m \u001B[38;5;250m    \u001B[39m\u001B[38;5;124;03m\"\"\"\u001B[39;00m\n\u001B[0;32m   1920\u001B[0m \u001B[38;5;124;03m    Change elements of an array based on conditional and input values.\u001B[39;00m\n\u001B[0;32m   1921\u001B[0m \n\u001B[1;32m   (...)\u001B[0m\n\u001B[0;32m   1952\u001B[0m \n\u001B[0;32m   1953\u001B[0m \u001B[38;5;124;03m    \"\"\"\u001B[39;00m\n\u001B[1;32m-> 1954\u001B[0m     \u001B[38;5;28;01mreturn\u001B[39;00m \u001B[43m_place\u001B[49m\u001B[43m(\u001B[49m\u001B[43marr\u001B[49m\u001B[43m,\u001B[49m\u001B[43m \u001B[49m\u001B[43mmask\u001B[49m\u001B[43m,\u001B[49m\u001B[43m \u001B[49m\u001B[43mvals\u001B[49m\u001B[43m)\u001B[49m\n",
      "\u001B[1;31mKeyboardInterrupt\u001B[0m: "
     ]
    }
   ],
   "source": [
    "for qber in arange(start=0.10, stop=0.15, step=0.01):\n",
    "    start_new = time()\n",
    "    sizes_new = cascade_blocks_sizes(\n",
    "        quantum_bit_error_rate=qber,\n",
    "        key_length=10000,\n",
    "        n_passes=4\n",
    "    )\n",
    "    end_new = time()\n",
    "    \n",
    "    print(\"For QBER={} new function created a list of sizes={} in time={}\".format(\n",
    "        qber, sizes_new, end_new - start_new \n",
    "    ))\n",
    "    \n",
    "    start_old = time()\n",
    "    sizes_old = cascade_blocks_sizes_old(\n",
    "        quantum_bit_error_rate=qber,\n",
    "        key_length=10000,\n",
    "        n_passes=4\n",
    "    )\n",
    "    end_old = time()\n",
    "    \n",
    "    print(\"For QBER={} old function created a list of sizes={} in time={}\".format(\n",
    "        qber, sizes_old, end_old - start_old \n",
    "    ))"
   ],
   "metadata": {
    "collapsed": false,
    "ExecuteTime": {
     "end_time": "2023-12-03T01:39:41.628769400Z",
     "start_time": "2023-12-02T23:58:05.341599700Z"
    }
   },
   "id": "b47c0d711928a451"
  },
  {
   "cell_type": "code",
   "execution_count": null,
   "outputs": [],
   "source": [],
   "metadata": {
    "collapsed": false
   },
   "id": "b04156b1b4a5af35"
  }
 ],
 "metadata": {
  "kernelspec": {
   "display_name": "Python 3",
   "language": "python",
   "name": "python3"
  },
  "language_info": {
   "codemirror_mode": {
    "name": "ipython",
    "version": 2
   },
   "file_extension": ".py",
   "mimetype": "text/x-python",
   "name": "python",
   "nbconvert_exporter": "python",
   "pygments_lexer": "ipython2",
   "version": "2.7.6"
  }
 },
 "nbformat": 4,
 "nbformat_minor": 5
}
