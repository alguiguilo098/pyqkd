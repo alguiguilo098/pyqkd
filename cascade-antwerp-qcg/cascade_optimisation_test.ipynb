{
 "cells": [
  {
   "cell_type": "code",
   "execution_count": 3,
   "id": "initial_id",
   "metadata": {
    "collapsed": true,
    "ExecuteTime": {
     "end_time": "2023-12-01T11:40:38.975898900Z",
     "start_time": "2023-12-01T11:40:38.966363900Z"
    }
   },
   "outputs": [],
   "source": [
    "from bb84 import cascade_blocks_sizes_old, cascade_blocks_sizes\n",
    "from time import time\n",
    "from numpy import arange"
   ]
  },
  {
   "cell_type": "code",
   "execution_count": 6,
   "outputs": [
    {
     "name": "stdout",
     "output_type": "stream",
     "text": [
      "For QBER=0.1 old function created a list of sizes=[10000] in time=321.4406282901764\n",
      "For QBER=0.11 old function created a list of sizes=[10000] in time=318.78884267807007\n",
      "For QBER=0.12 old function created a list of sizes=[10000] in time=319.46811747550964\n",
      "For QBER=0.13 old function created a list of sizes=[10000] in time=319.63992977142334\n",
      "For QBER=0.13999999999999999 old function created a list of sizes=[10000] in time=319.9841239452362\n"
     ]
    }
   ],
   "source": [
    "for qber in arange(start=0.10, stop=0.15, step=0.01):\n",
    "    \"\"\"\n",
    "    start_old = time()\n",
    "    sizes_old = cascade_blocks_sizes_old(\n",
    "        quantum_bit_error_rate=qber,\n",
    "        key_length=10000,\n",
    "        n_passes=4\n",
    "    )\n",
    "    end_old = time()\n",
    "    \n",
    "    print(\"For QBER={} old function created a list of sizes={} in time={}\".format(\n",
    "        qber, sizes_old, end_old - start_old \n",
    "    ))\n",
    "    \"\"\"\n",
    "    \n",
    "    start_new = time()\n",
    "    sizes_new = cascade_blocks_sizes(\n",
    "        quantum_bit_error_rate=qber,\n",
    "        key_length=10000,\n",
    "        n_passes=4\n",
    "    )\n",
    "    end_new = time()\n",
    "    \n",
    "    print(\"For QBER={} old function created a list of sizes={} in time={}\".format(\n",
    "        qber, sizes_new, end_new - start_new \n",
    "    ))"
   ],
   "metadata": {
    "collapsed": false,
    "ExecuteTime": {
     "end_time": "2023-12-01T17:58:11.814955800Z",
     "start_time": "2023-12-01T17:31:32.673705800Z"
    }
   },
   "id": "b47c0d711928a451"
  },
  {
   "cell_type": "code",
   "execution_count": 2,
   "outputs": [],
   "source": [],
   "metadata": {
    "collapsed": false,
    "ExecuteTime": {
     "start_time": "2023-12-01T11:36:21.048082400Z"
    }
   },
   "id": "ac004066bcbc1e5f"
  }
 ],
 "metadata": {
  "kernelspec": {
   "display_name": "Python 3",
   "language": "python",
   "name": "python3"
  },
  "language_info": {
   "codemirror_mode": {
    "name": "ipython",
    "version": 2
   },
   "file_extension": ".py",
   "mimetype": "text/x-python",
   "name": "python",
   "nbconvert_exporter": "python",
   "pygments_lexer": "ipython2",
   "version": "2.7.6"
  }
 },
 "nbformat": 4,
 "nbformat_minor": 5
}
