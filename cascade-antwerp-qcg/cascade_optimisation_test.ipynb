{
 "cells": [
  {
   "cell_type": "code",
   "execution_count": 1,
   "id": "initial_id",
   "metadata": {
    "collapsed": true,
    "ExecuteTime": {
     "end_time": "2023-12-08T07:48:07.833710300Z",
     "start_time": "2023-12-08T07:48:07.059971800Z"
    }
   },
   "outputs": [],
   "source": [
    "from bb84 import cascade_blocks_sizes_old, cascade_blocks_sizes, sum_error_prob_betainc, numerical_error_prob\n",
    "from time import time\n",
    "from numpy import arange"
   ]
  },
  {
   "cell_type": "markdown",
   "source": [
    "First let's make sure we're using the regularised incomplete beta function as binomial distribution's CDF correctly:"
   ],
   "metadata": {
    "collapsed": false
   },
   "id": "65bedd17a8406bac"
  },
  {
   "cell_type": "code",
   "execution_count": 2,
   "outputs": [
    {
     "name": "stdout",
     "output_type": "stream",
     "text": [
      "------------------------------\n",
      "CDF with beta: 0.010000000000000002\n",
      "Original series sum: 0.010000000000000002\n",
      "\n",
      "------------------------------\n",
      "CDF with beta: 0.028000000000000004\n",
      "Original series sum: 0.028\n",
      "\n",
      "------------------------------\n",
      "CDF with beta: 0.05230000000000001\n",
      "Original series sum: 0.0523\n",
      "\n",
      "CDF with beta: 0.00010000000000000005\n",
      "Original series sum: 0.00010000000000000005\n",
      "\n",
      "------------------------------\n",
      "CDF with beta: 0.08146000000000002\n",
      "Original series sum: 0.08145999999999992\n",
      "\n",
      "CDF with beta: 0.0004600000000000003\n",
      "Original series sum: 0.0004599999999999999\n",
      "\n",
      "------------------------------\n",
      "CDF with beta: 0.11426500000000003\n",
      "Original series sum: 0.11426500000000005\n",
      "\n",
      "CDF with beta: 0.0012700000000000005\n",
      "Original series sum: 0.0012699999999999996\n",
      "\n",
      "CDF with beta: 1.0000000000000006e-06\n",
      "Original series sum: 1.0000000000000006e-06\n",
      "\n",
      "------------------------------\n",
      "CDF with beta: 0.14969440000000003\n",
      "Original series sum: 0.14969439999999992\n",
      "\n",
      "CDF with beta: 0.002728000000000001\n",
      "Original series sum: 0.0027279999999999982\n",
      "\n",
      "CDF with beta: 6.400000000000003e-06\n",
      "Original series sum: 6.4e-06\n",
      "\n",
      "------------------------------\n",
      "CDF with beta: 0.18689527000000003\n",
      "Original series sum: 0.18689527000000009\n",
      "\n",
      "CDF with beta: 0.005024350000000003\n",
      "Original series sum: 0.00502435\n",
      "\n",
      "CDF with beta: 2.341000000000001e-05\n",
      "Original series sum: 2.3410000000000015e-05\n",
      "\n",
      "CDF with beta: 1.0000000000000008e-08\n",
      "Original series sum: 1.0000000000000008e-08\n",
      "\n",
      "------------------------------\n",
      "CDF with beta: 0.22515902200000004\n",
      "Original series sum: 0.2251590220000002\n",
      "\n",
      "CDF with beta: 0.008331094000000002\n",
      "Original series sum: 0.008331094000000006\n",
      "\n",
      "CDF with beta: 6.423400000000002e-05\n",
      "Original series sum: 6.423400000000008e-05\n",
      "\n",
      "CDF with beta: 8.200000000000006e-08\n",
      "Original series sum: 8.200000000000009e-08\n"
     ]
    }
   ],
   "source": [
    "for size in arange(2, 10, 1):\n",
    "    print(\"------------------------------\")\n",
    "    for n_errors in range(size // 2):\n",
    "        print(\"CDF with beta: {}\".format(\n",
    "            sum_error_prob_betainc(\n",
    "                first_pass_size=size,\n",
    "                qber=0.1,\n",
    "                n_errors=2 * n_errors\n",
    "            )\n",
    "        ))\n",
    "        \n",
    "        prob_sum = 0\n",
    "        for l in list(arange(n_errors + 1, size // 2 + 1, 1)):\n",
    "            prob_sum += numerical_error_prob(n_errors=2 * l, pass_size=size, qber=0.1)\n",
    "        print(\"Original series sum: {}\\n\".format(prob_sum))"
   ],
   "metadata": {
    "collapsed": false,
    "ExecuteTime": {
     "end_time": "2023-12-08T07:48:12.200295500Z",
     "start_time": "2023-12-08T07:48:12.182616400Z"
    }
   },
   "id": "2c166670d4013035"
  },
  {
   "cell_type": "markdown",
   "source": [
    "It's not a precise test, but it indicates, that we're going in the right direction. The differences \"are negligible\"."
   ],
   "metadata": {
    "collapsed": false
   },
   "id": "ca71cea9279a8756"
  },
  {
   "cell_type": "raw",
   "source": [
    "Test of new method alone:"
   ],
   "metadata": {
    "collapsed": false
   },
   "id": "c7e7a946c6982f50"
  },
  {
   "cell_type": "code",
   "execution_count": 3,
   "outputs": [
    {
     "name": "stdout",
     "output_type": "stream",
     "text": [
      "For QBER=0.01 new function created a list of sizes=[82, 164, 328, 656] in time=0.27358078956604004\n",
      "For QBER=0.02 new function created a list of sizes=[41, 82, 164, 328] in time=0.07101678848266602\n",
      "For QBER=0.03 new function created a list of sizes=[27, 54, 108, 216] in time=0.031510353088378906\n",
      "For QBER=0.04 new function created a list of sizes=[20, 40, 80, 160] in time=0.01700448989868164\n",
      "For QBER=0.05 new function created a list of sizes=[16, 32, 64, 128] in time=0.011002302169799805\n",
      "For QBER=0.060000000000000005 new function created a list of sizes=[13, 26, 52, 104] in time=0.00800180435180664\n",
      "For QBER=0.06999999999999999 new function created a list of sizes=[11, 22, 44, 88] in time=0.005001068115234375\n",
      "For QBER=0.08 new function created a list of sizes=[10, 20, 40, 80] in time=0.005002021789550781\n",
      "For QBER=0.09 new function created a list of sizes=[9, 18, 36, 72] in time=0.0030007362365722656\n",
      "For QBER=0.09999999999999999 new function created a list of sizes=[8, 16, 32, 64] in time=0.003000497817993164\n",
      "For QBER=0.11 new function created a list of sizes=[7, 14, 28, 56] in time=0.002000570297241211\n",
      "For QBER=0.12 new function created a list of sizes=[6, 12, 24, 48] in time=0.002000570297241211\n",
      "For QBER=0.13 new function created a list of sizes=[6, 12, 24, 48] in time=0.0020003318786621094\n",
      "For QBER=0.14 new function created a list of sizes=[5, 10, 20, 40] in time=0.0010001659393310547\n"
     ]
    }
   ],
   "source": [
    "for qber in arange(start=0.01, stop=0.15, step=0.01):\n",
    "    start_new = time()\n",
    "    sizes_new = cascade_blocks_sizes(\n",
    "        quantum_bit_error_rate=qber,\n",
    "        key_length=10000,\n",
    "        n_passes=4\n",
    "    )\n",
    "    end_new = time()\n",
    "    \n",
    "    print(\"For QBER={} new function created a list of sizes={} in time={}\".format(\n",
    "        qber, sizes_new, end_new - start_new \n",
    "    ))"
   ],
   "metadata": {
    "collapsed": false,
    "ExecuteTime": {
     "end_time": "2023-12-08T07:48:22.718243900Z",
     "start_time": "2023-12-08T07:48:22.276671900Z"
    }
   },
   "id": "1d21f6fb5e0f1319"
  },
  {
   "cell_type": "raw",
   "source": [
    "Comparisson:"
   ],
   "metadata": {
    "collapsed": false
   },
   "id": "efa1efa8d2de4fba"
  },
  {
   "cell_type": "code",
   "execution_count": 5,
   "outputs": [
    {
     "name": "stdout",
     "output_type": "stream",
     "text": [
      "For QBER=0.01 old function created a list of sizes=[82, 164, 328, 656] in time=4.793952465057373\n",
      "For QBER=0.02 old function created a list of sizes=[41, 82, 164, 328] in time=0.729710578918457\n",
      "For QBER=0.03 old function created a list of sizes=[27, 54, 108, 216] in time=0.23906636238098145\n",
      "For QBER=0.04 old function created a list of sizes=[20, 40, 80, 160] in time=0.12253451347351074\n",
      "For QBER=0.05 old function created a list of sizes=[16, 32, 64, 128] in time=0.07152056694030762\n",
      "For QBER=0.060000000000000005 old function created a list of sizes=[13, 26, 52, 104] in time=0.04822969436645508\n",
      "For QBER=0.06999999999999999 old function created a list of sizes=[11, 22, 44, 88] in time=0.03300809860229492\n",
      "For QBER=0.08 old function created a list of sizes=[10, 20, 40, 80] in time=0.02600574493408203\n",
      "For QBER=0.09 old function created a list of sizes=[9, 18, 36, 72] in time=0.01900649070739746\n",
      "For QBER=0.09999999999999999 old function created a list of sizes=[8, 16, 32, 64] in time=0.016013622283935547\n",
      "For QBER=0.11 old function created a list of sizes=[7, 14, 28, 56] in time=0.012003421783447266\n",
      "For QBER=0.12 old function created a list of sizes=[6, 12, 24, 48] in time=0.010002613067626953\n",
      "For QBER=0.13 old function created a list of sizes=[6, 12, 24, 48] in time=0.008001565933227539\n",
      "For QBER=0.14 old function created a list of sizes=[5, 10, 20, 40] in time=0.008001327514648438\n"
     ]
    }
   ],
   "source": [
    "for qber in arange(start=0.01, stop=0.15, step=0.01):\n",
    "    start_old = time()\n",
    "    sizes_old = cascade_blocks_sizes_old(\n",
    "        quantum_bit_error_rate=qber,\n",
    "        key_length=10000,\n",
    "        n_passes=4\n",
    "    )\n",
    "    end_old = time()\n",
    "    \n",
    "    print(\"For QBER={} old function created a list of sizes={} in time={}\".format(\n",
    "        qber, sizes_old, end_old - start_old \n",
    "    ))"
   ],
   "metadata": {
    "collapsed": false,
    "ExecuteTime": {
     "end_time": "2023-12-08T07:51:31.690204800Z",
     "start_time": "2023-12-08T07:51:25.555480600Z"
    }
   },
   "id": "b47c0d711928a451"
  },
  {
   "cell_type": "code",
   "execution_count": null,
   "outputs": [],
   "source": [],
   "metadata": {
    "collapsed": false
   },
   "id": "b04156b1b4a5af35"
  }
 ],
 "metadata": {
  "kernelspec": {
   "display_name": "Python 3",
   "language": "python",
   "name": "python3"
  },
  "language_info": {
   "codemirror_mode": {
    "name": "ipython",
    "version": 2
   },
   "file_extension": ".py",
   "mimetype": "text/x-python",
   "name": "python",
   "nbconvert_exporter": "python",
   "pygments_lexer": "ipython2",
   "version": "2.7.6"
  }
 },
 "nbformat": 4,
 "nbformat_minor": 5
}
